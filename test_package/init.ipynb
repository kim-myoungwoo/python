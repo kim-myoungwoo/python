{
 "cells": [
  {
   "cell_type": "code",
   "execution_count": 1,
   "id": "70071ead",
   "metadata": {
    "scrolled": true
   },
   "outputs": [
    {
     "name": "stdout",
     "output_type": "stream",
     "text": [
      "모든 모듈 삽입\n"
     ]
    }
   ],
   "source": [
    "# 패키지 안의 읽어올 모듈명을 모두 나열\n",
    "__all__ = ['module_a', 'module_b']\n",
    "\n",
    "print('모든 모듈 삽입')"
   ]
  },
  {
   "cell_type": "code",
   "execution_count": null,
   "id": "bb22e81a",
   "metadata": {},
   "outputs": [],
   "source": []
  }
 ],
 "metadata": {
  "kernelspec": {
   "display_name": "Python 3 (ipykernel)",
   "language": "python",
   "name": "python3"
  },
  "language_info": {
   "codemirror_mode": {
    "name": "ipython",
    "version": 3
   },
   "file_extension": ".py",
   "mimetype": "text/x-python",
   "name": "python",
   "nbconvert_exporter": "python",
   "pygments_lexer": "ipython3",
   "version": "3.9.13"
  }
 },
 "nbformat": 4,
 "nbformat_minor": 5
}
