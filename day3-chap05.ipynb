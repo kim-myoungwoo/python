{
 "cells": [
  {
   "cell_type": "markdown",
   "id": "f0b5c7f5",
   "metadata": {},
   "source": [
    "# chap05 함수"
   ]
  },
  {
   "cell_type": "markdown",
   "id": "a71e0c36",
   "metadata": {},
   "source": [
    "## chap05-1 함수 만들기"
   ]
  },
  {
   "cell_type": "code",
   "execution_count": 3,
   "id": "bcb9894e",
   "metadata": {},
   "outputs": [],
   "source": [
    "# 함수 만들기\n",
    "# def 함수명():\n",
    "# 실행 문장\n",
    "#   ...\n",
    "#   ..."
   ]
  },
  {
   "cell_type": "code",
   "execution_count": 14,
   "id": "7c01eca0",
   "metadata": {},
   "outputs": [],
   "source": [
    "def print_3_times():    # 함수 정의\n",
    "    print(\"Hello\")\n",
    "    print(\"Hello\")\n",
    "    print(\"Hello\")\n",
    "\n",
    "def print_n_times(n, value):  # 매개변수 선언\n",
    "    for _ in range(n):\n",
    "        print(value)\n",
    "        \n",
    "# 가변 매개 변수   (*변수명)\n",
    "def print_var_times(n,*values):\n",
    "    # n번 출력\n",
    "    for _ in range(n):\n",
    "        for value in values:\n",
    "            print(value,end='\\t')\n",
    "        print()\n",
    "# 기본 매개 변수 ( 변수명 = 값)\n",
    "def print_default_times(value, n=2):\n",
    "    for _ in range(n):\n",
    "        print(value)\n",
    "        \n",
    "# 가변, 기본(키워드) 순서로 옴\n",
    "# 일반, 기본(키워드)\n"
   ]
  },
  {
   "cell_type": "code",
   "execution_count": 16,
   "id": "e7dc43aa",
   "metadata": {},
   "outputs": [
    {
     "name": "stdout",
     "output_type": "stream",
     "text": [
      "Hello\n",
      "Hello\n",
      "Hello\n",
      "test\n",
      "test\n",
      "test\thello\t\n",
      "test\thello\t\n",
      "test\n",
      "test\n",
      "test\n",
      "test\n"
     ]
    }
   ],
   "source": [
    "print_3_times()     # 함수 호출\n",
    "print_n_times(2,'test')\n",
    "# print(n)   # error\n",
    "\n",
    "print_var_times(2,'test','hello')\n",
    "print_default_times('test',n=4)"
   ]
  },
  {
   "cell_type": "code",
   "execution_count": 17,
   "id": "f4f8ecce",
   "metadata": {},
   "outputs": [],
   "source": [
    "def test(a, b=10,c=100):\n",
    "    print(a+b+c)"
   ]
  },
  {
   "cell_type": "code",
   "execution_count": 19,
   "id": "bdae5994",
   "metadata": {},
   "outputs": [
    {
     "name": "stdout",
     "output_type": "stream",
     "text": [
      "60\n",
      "310\n",
      "310\n",
      "220\n",
      "120\n"
     ]
    }
   ],
   "source": [
    "test(10,20,30)\n",
    "test(a=10,b=100,c=200)\n",
    "test(c=10,a=100,b=200)\n",
    "test(10,c=200)\n",
    "test(10)"
   ]
  },
  {
   "cell_type": "code",
   "execution_count": 20,
   "id": "0305980b",
   "metadata": {},
   "outputs": [],
   "source": [
    "# return 있는 함수 정의\n",
    "def hap(a,b):\n",
    "    return a+b\n",
    "    print('hap func') # 실행 안됨"
   ]
  },
  {
   "cell_type": "code",
   "execution_count": 23,
   "id": "ab25d6e2",
   "metadata": {},
   "outputs": [
    {
     "name": "stdout",
     "output_type": "stream",
     "text": [
      "10 + 20 = 30\n",
      "10 + 20 = 30\n"
     ]
    }
   ],
   "source": [
    "c = hap(10,20)\n",
    "print(\"10 + 20 =\", c)\n",
    "print(\"10 + 20 =\", hap(10,20))"
   ]
  },
  {
   "cell_type": "code",
   "execution_count": null,
   "id": "3c9bad64",
   "metadata": {},
   "outputs": [],
   "source": []
  }
 ],
 "metadata": {
  "kernelspec": {
   "display_name": "Python 3 (ipykernel)",
   "language": "python",
   "name": "python3"
  },
  "language_info": {
   "codemirror_mode": {
    "name": "ipython",
    "version": 3
   },
   "file_extension": ".py",
   "mimetype": "text/x-python",
   "name": "python",
   "nbconvert_exporter": "python",
   "pygments_lexer": "ipython3",
   "version": "3.9.13"
  }
 },
 "nbformat": 4,
 "nbformat_minor": 5
}
