{
 "cells": [
  {
   "cell_type": "code",
   "execution_count": 7,
   "id": "bf94858d",
   "metadata": {},
   "outputs": [
    {
     "name": "stdout",
     "output_type": "stream",
     "text": [
      "[None, None, None, None, None]\n",
      "None\n",
      "None\n",
      "None\n",
      "꿀물\n",
      "커피\n",
      "\n",
      "꿀물\n",
      "커피\n"
     ]
    }
   ],
   "source": [
    "# stack 간단 구현\n",
    "# stack : FILO, LIFO -> 입구와 출구가 하나\n",
    "stack = []\n",
    "for _ in range(5):     # stack list에 5개의 None data 추가\n",
    "    stack.append(None)\n",
    "print(stack)\n",
    "\n",
    "# stack의 자료의 위치 -> top = -1 초기화\n",
    "top =-1\n",
    "\n",
    "# stack에 '커피'를 추가\n",
    "\n",
    "if top >= len(stack)-1:\n",
    "    print(\"더 이상 추가할 공간 없음\")\n",
    "else:\n",
    "    top += 1\n",
    "    stack[top] = '커피'\n",
    "    \n",
    "# stack에 '꿀물'를 추가\n",
    "\n",
    "if top >= len(stack)-1:\n",
    "    print(\"더 이상 추가할 공간 없음\")\n",
    "else:\n",
    "    top += 1\n",
    "    stack[top] = '꿀물'\n",
    "    \n",
    "# stack의 전체 자료 출력\n",
    "\n",
    "for i in range(len(stack)-1, -1, -1):\n",
    "    print(stack[i])\n",
    "print()    \n",
    "# stack의 저장된 자료만 출력\n",
    "\n",
    "for i in range(top, -1, -1):\n",
    "    print(stack[i])"
   ]
  },
  {
   "cell_type": "code",
   "execution_count": 1,
   "id": "58d19caf",
   "metadata": {},
   "outputs": [],
   "source": [
    "def isStackFull():\n",
    "    global SIZE, top, stack\n",
    "    if top >= SIZE -1 :\n",
    "        return True\n",
    "    else:\n",
    "        return False\n",
    "\n",
    "def isStackEmpty():\n",
    "    global SIZE, top, stack\n",
    "    if top == -1 :\n",
    "        return True\n",
    "    else:\n",
    "        return False    \n",
    "    \n",
    "def stack_push(data):\n",
    "    global SIZE, top, stack\n",
    "    if isStackFull():\n",
    "        print(\"더 이상 추가할 공간 없음\")\n",
    "        return\n",
    "    top += 1\n",
    "    stack[top] = data\n",
    "    \n",
    "def stack_pop():\n",
    "    global SIZE, top, stack\n",
    "    if isStackEmpty():\n",
    "        print(\"자료 없음\")\n",
    "        return\n",
    "    data = stack[top]\n",
    "    stack[top] = None\n",
    "    top -= 1\n",
    "    return data"
   ]
  },
  {
   "cell_type": "code",
   "execution_count": 22,
   "id": "ba25ea95",
   "metadata": {},
   "outputs": [],
   "source": [
    "# stack size\n",
    "SIZE = 5\n",
    "stack = [None for _ in range(SIZE)]   # 리스트 컴프리핸션을 사용\n",
    "top = -1\n",
    "\n",
    "for i in range(SIZE):\n",
    "    stack_push(str(i))"
   ]
  },
  {
   "cell_type": "code",
   "execution_count": 23,
   "id": "fac48b9a",
   "metadata": {},
   "outputs": [
    {
     "name": "stdout",
     "output_type": "stream",
     "text": [
      "['0', '1', '2', '3', '4'] 4\n",
      "더 이상 추가할 공간 없음\n",
      "4\n",
      "3\n",
      "2\n",
      "1\n",
      "0\n",
      "자료 없음\n"
     ]
    }
   ],
   "source": [
    "print(stack, top)\n",
    "stack_push('kk')\n",
    "\n",
    "for _ in range(top, -1, -1):\n",
    "    print(stack_pop())\n",
    "stack_pop()"
   ]
  },
  {
   "cell_type": "code",
   "execution_count": 24,
   "id": "3e2f6511",
   "metadata": {},
   "outputs": [],
   "source": [
    "# 문 : 스택의 사이즈 입력\n",
    "# 1. 입력된 사이즈 만큼 리스트 생성 -> 초기값으로 None\n",
    "# 2. 메뉴입력 (1: 삽입, 2: 추출, 3:리스트, 4:종료) ->\n",
    "# 3. push(), pop(), list() 함수로 구성\n",
    "# 추가의 함수는 push할 때 스택이 다 찼는지 확인\n",
    "# pop 또는 list를 실행할 경우 스택이 비어 있는지 확인\n",
    "# isfull(), isempty()"
   ]
  },
  {
   "cell_type": "code",
   "execution_count": 32,
   "id": "2a9689cc",
   "metadata": {},
   "outputs": [],
   "source": [
    "def isfull():\n",
    "    global size, stack, top\n",
    "    if top >= size -1:\n",
    "        return True\n",
    "    else:\n",
    "        return False\n",
    "\n",
    "def push(data):\n",
    "    #스택이 Full 인지 확인\n",
    "    global size, stack, top\n",
    "    if isfull():\n",
    "        print('입력할 공간 없음')\n",
    "        return\n",
    "    top += 1\n",
    "    stack[top] = data\n",
    "\n",
    "def pop():\n",
    "    global size, stack, top\n",
    "    # 스택이 empty 인지 확인\n",
    "    if isempty():\n",
    "        print('추출할 자료 없음')\n",
    "        return\n",
    "    data = stack[top]\n",
    "    stack[top] = None\n",
    "    top -= 1\n",
    "    return data\n",
    "\n",
    "def peek():\n",
    "    global size, stack, top\n",
    "    if isempty():\n",
    "        print('추출할 자료 없음')\n",
    "        return\n",
    "    data = stack[top]\n",
    "    stack[top] = None\n",
    "    top -= 1\n",
    "    return data\n",
    "    \n",
    "def stack_list():\n",
    "    global size, stack, top\n",
    "    if isempty():\n",
    "        print('저장된 자료 없음')\n",
    "    for i in range(top, -1, -1):\n",
    "        print(stack[i], end = '\\t')\n",
    "    print()\n",
    "def isempty():\n",
    "    global size, stack, top\n",
    "    if top == -1:\n",
    "        return True\n",
    "    else:\n",
    "        return False\n",
    "    \n",
    "        "
   ]
  },
  {
   "cell_type": "code",
   "execution_count": 30,
   "id": "1a4b9f4b",
   "metadata": {
    "scrolled": true
   },
   "outputs": [
    {
     "name": "stdout",
     "output_type": "stream",
     "text": [
      "스택 사이즈 입력 : 5\n",
      "메뉴 입력 (1: 삽입, 2: 추출, 3:리스트, 4:종료) -> 1\n",
      "삽입할 자료 입력 : aa\n",
      "메뉴 입력 (1: 삽입, 2: 추출, 3:리스트, 4:종료) -> 1\n",
      "삽입할 자료 입력 : cc\n",
      "메뉴 입력 (1: 삽입, 2: 추출, 3:리스트, 4:종료) -> 1\n",
      "삽입할 자료 입력 : vv\n",
      "메뉴 입력 (1: 삽입, 2: 추출, 3:리스트, 4:종료) -> 1\n",
      "삽입할 자료 입력 : bb\n",
      "메뉴 입력 (1: 삽입, 2: 추출, 3:리스트, 4:종료) -> 1\n",
      "삽입할 자료 입력 : ff\n",
      "메뉴 입력 (1: 삽입, 2: 추출, 3:리스트, 4:종료) -> 1\n",
      "삽입할 자료 입력 : rr\n",
      "입력할 공간 없음\n",
      "메뉴 입력 (1: 삽입, 2: 추출, 3:리스트, 4:종료) -> 2\n",
      "추출한 자료는 :  ff\n",
      "메뉴 입력 (1: 삽입, 2: 추출, 3:리스트, 4:종료) -> 2\n",
      "추출한 자료는 :  bb\n",
      "메뉴 입력 (1: 삽입, 2: 추출, 3:리스트, 4:종료) -> 2\n",
      "추출한 자료는 :  vv\n",
      "메뉴 입력 (1: 삽입, 2: 추출, 3:리스트, 4:종료) -> 2\n",
      "추출한 자료는 :  cc\n",
      "메뉴 입력 (1: 삽입, 2: 추출, 3:리스트, 4:종료) -> 2\n",
      "추출한 자료는 :  aa\n",
      "메뉴 입력 (1: 삽입, 2: 추출, 3:리스트, 4:종료) -> 2\n",
      "추출할 자료 없음\n",
      "추출한 자료는 :  None\n",
      "메뉴 입력 (1: 삽입, 2: 추출, 3:리스트, 4:종료) -> 3\n",
      "저장된 자료 없음\n",
      "\n",
      "메뉴 입력 (1: 삽입, 2: 추출, 3:리스트, 4:종료) -> 1\n",
      "삽입할 자료 입력 : ee\n",
      "메뉴 입력 (1: 삽입, 2: 추출, 3:리스트, 4:종료) -> 1\n",
      "삽입할 자료 입력 : rr\n",
      "메뉴 입력 (1: 삽입, 2: 추출, 3:리스트, 4:종료) -> 3\n",
      "rr\tee\t\n",
      "메뉴 입력 (1: 삽입, 2: 추출, 3:리스트, 4:종료) -> 4\n"
     ]
    }
   ],
   "source": [
    "size = int(input('스택 사이즈 입력 : '))\n",
    "stack = [ None for _ in range(size)]\n",
    "top = -1 # 스택의 마지막 자료 위치\n",
    "\n",
    "while True:\n",
    "    menu = input(\"메뉴 입력 (1: 삽입, 2: 추출, 3:리스트, 5:종료,) -> \")\n",
    "    if menu == '1':\n",
    "        data = input('삽입할 자료 입력 : ')\n",
    "        push(data)\n",
    "    elif menu == '2':\n",
    "        data = pop()\n",
    "        print(\"추출한 자료는 : \", data)\n",
    "    elif menu =='3':\n",
    "        stack_list()\n",
    "    elif menu == '5':\n",
    "        break"
   ]
  },
  {
   "cell_type": "code",
   "execution_count": 21,
   "id": "b9af0e57",
   "metadata": {},
   "outputs": [],
   "source": [
    "def isfull():\n",
    "    global size, stack, top\n",
    "    if top >= size -1 :\n",
    "        return True\n",
    "    else:\n",
    "        return False\n",
    "\n",
    "def isempty():\n",
    "    global size, stack, top\n",
    "    if top == -1 :\n",
    "        return True\n",
    "    else:\n",
    "        return False\n",
    "\n",
    "def push(data):\n",
    "    global size, stack, top\n",
    "    #  스택이  Full 인지 확인\n",
    "    if isfull():\n",
    "        print('입력할 공간 없음')\n",
    "        return\n",
    "    top += 1\n",
    "    stack[top] = data\n",
    "\n",
    "def pop():\n",
    "    global size, stack, top\n",
    "    #  스택이  empty 인지 확인\n",
    "    if isempty():\n",
    "        print('추출할 자료 없음')\n",
    "        return\n",
    "    data = stack[top]\n",
    "    stack[top] = None\n",
    "    top -= 1\n",
    "    return data\n",
    "\n",
    "def stacklist():\n",
    "    global size, stack, top\n",
    "    #  스택이  empty 인지 확인\n",
    "    if isempty():\n",
    "        print(' 저장된 자료 없음')\n",
    "        return\n",
    "\n",
    "    for i in range(top, -1, -1):\n",
    "        print(stack[i], end='\\t')\n",
    "    print()"
   ]
  },
  {
   "cell_type": "code",
   "execution_count": 22,
   "id": "72f63d36",
   "metadata": {},
   "outputs": [],
   "source": [
    "import webbrowser\n",
    "import time\n",
    "\n",
    "size = 100\n",
    "stack = [ None for _ in range(size)]\n",
    "top = -1 # 스택의 마지막 자료 위치"
   ]
  },
  {
   "cell_type": "code",
   "execution_count": 23,
   "id": "191a7a4c",
   "metadata": {},
   "outputs": [
    {
     "name": "stdout",
     "output_type": "stream",
     "text": [
      "naver.com -> daum.net -> nate.com -> 방문 종료\n"
     ]
    }
   ],
   "source": [
    "urls = ['naver.com', 'daum.net', 'nate.com']\n",
    "# urls의 각 요소를 stack에 저장\n",
    "for url in urls:\n",
    "    push(url)\n",
    "    webbrowser.open('http://' + url)\n",
    "    print(url , end = ' -> ')\n",
    "    time.sleep(1)\n",
    "print('방문 종료')\n",
    "time.sleep(5)"
   ]
  },
  {
   "cell_type": "code",
   "execution_count": 35,
   "id": "5ab0f2a6",
   "metadata": {},
   "outputs": [
    {
     "name": "stdout",
     "output_type": "stream",
     "text": [
      "nate.com -> 방문 종료\n",
      "daum.net -> 방문 종료\n",
      "naver.com -> 방문 종료\n",
      "추출할 자료 없음\n"
     ]
    }
   ],
   "source": [
    "while True:\n",
    "    url = pop()\n",
    "    if url == None:\n",
    "        break\n",
    "    webbrowser.open('http://' + url)\n",
    "    print(url, end= ' -> ')\n",
    "    time.sleep(1)\n",
    "    print('방문 종료')\n"
   ]
  },
  {
   "cell_type": "code",
   "execution_count": 24,
   "id": "304be482",
   "metadata": {},
   "outputs": [],
   "source": [
    "def checkBracket(expr):\n",
    "    for char in expr:\n",
    "        if char in '([<{':\n",
    "            push(char)\n",
    "        elif char in ')]>}':\n",
    "            if top == -1:\n",
    "                return False\n",
    "            data = pop()\n",
    "            if char == ')' and data == '(':\n",
    "                pass\n",
    "            elif char ==']' and data == '[':\n",
    "                pass\n",
    "            elif char == '>' and data == '<':\n",
    "                pass\n",
    "            elif char == '}' and data == '{':\n",
    "                pass\n",
    "            else:\n",
    "                return False\n",
    "    if isempty():\n",
    "        return True\n",
    "    else:\n",
    "        return False\n",
    "            "
   ]
  },
  {
   "cell_type": "code",
   "execution_count": 25,
   "id": "f0b8c209",
   "metadata": {},
   "outputs": [
    {
     "name": "stdout",
     "output_type": "stream",
     "text": [
      "(a + b)  --->  True\n",
      ")a+b(  --->  False\n",
      "((a+b)+c  --->  False\n",
      "(<a+{b-c}/{c+d}>)  --->  True\n"
     ]
    }
   ],
   "source": [
    "# 수식을 쌍으로 맞는지 확인 -> 스택을 활용하여 check\n",
    "size = 100\n",
    "stack = [None for _ in range(size)]\n",
    "top = -1\n",
    "\n",
    "exprarray = ['(a + b)',\")a+b(\", '((a+b)+c', '(<a+{b-c}/{c+d}>)']\n",
    "\n",
    "for expr in exprarray:\n",
    "    top = -1\n",
    "    print(expr, ' ---> ', checkBracket(expr))"
   ]
  },
  {
   "cell_type": "code",
   "execution_count": 26,
   "id": "a53db77f",
   "metadata": {},
   "outputs": [
    {
     "name": "stdout",
     "output_type": "stream",
     "text": [
      "나 보기가 역겨워 가실 때에는 말없이 고이 보내 드리오리다\n",
      "\n",
      "영변에 약산 진달래꽃 아름 따다 가실 길에 뿌리오리다\n",
      "\n",
      "가시는 걸음 걸음 놓인 그 꽃을 사뿐히 즈려 밟고 가시옵소서\n",
      "\n",
      "나 보기가 역겨워 가실 때에는 죽어도 아니 눈물 흘리오리다\n"
     ]
    }
   ],
   "source": [
    "# stack.txt 파일을 읽어서 마지막 라인부터 출력\n",
    "file = open(\"../stack.txt\", \"r\", encoding='utf8')\n",
    "output = file.readlines()\n",
    "stack = [None for _ in range(len(output))]\n",
    "top = -1\n",
    "# output = file.readlines()\n",
    "for line in output:\n",
    "    print(line)"
   ]
  },
  {
   "cell_type": "code",
   "execution_count": 27,
   "id": "7448babb",
   "metadata": {},
   "outputs": [
    {
     "name": "stdout",
     "output_type": "stream",
     "text": [
      " --- 원본 데이터 출력 --- \n",
      "나 보기가 역겨워 가실 때에는 말없이 고이 보내 드리오리다\n",
      " 영변에 약산 진달래꽃 아름 따다 가실 길에 뿌리오리다\n",
      " 가시는 걸음 걸음 놓인 그 꽃을 사뿐히 즈려 밟고 가시옵소서\n",
      " 나 보기가 역겨워 가실 때에는 죽어도 아니 눈물 흘리오리다\n",
      "\n",
      " --- 거꾸로 데이터 출력 ---\n",
      "다리오리흘 물눈 니아 도어죽 는에때 실가 워겨역 가기보 나\n",
      "서소옵시가 고밟 려즈 히뿐사 을꽃 그 인놓 음걸 음걸 는시가\n",
      "다리오리뿌 에길 실가 다따 름아 꽃래달진 산약 에변영\n",
      "다리오리드 내보 이고 이없말 는에때 실가 워겨역 가기보 나"
     ]
    }
   ],
   "source": [
    "# output = file.readlines()\n",
    "print(\" --- 원본 데이터 출력 --- \")\n",
    "print(*output)\n",
    "for line in output:\n",
    "    push(line)\n",
    "    \n",
    "print(\"\\n --- 거꾸로 데이터 출력 ---\")\n",
    "for _ in range(top, -1 , -1):\n",
    "    line = pop()\n",
    "    for i in range(len(line)-1, -1, -1):\n",
    "        print(line[i], end = '')\n",
    "    "
   ]
  },
  {
   "cell_type": "code",
   "execution_count": 35,
   "id": "78135fc9",
   "metadata": {},
   "outputs": [
    {
     "name": "stdout",
     "output_type": "stream",
     "text": [
      "문자 입력 : fohiefjlkqwfnlwfn\n",
      "f\n",
      "o\n",
      "h\n",
      "i\n",
      "e\n",
      "f\n",
      "j\n",
      "l\n",
      "k\n",
      "q\n",
      "w\n",
      "f\n",
      "n\n",
      "l\n",
      "w\n",
      "f\n",
      "n\n",
      "--- 원본 문자 출력 ---\n",
      "f o h i e f j l k q w f n l w f n\n",
      "--- 중간 문자 출력 --- k\n",
      "--- 거꾸로 문자 출력 ---\n",
      "fwlnfwqkljfeihof"
     ]
    }
   ],
   "source": [
    "# 각 문자열을 입력받은 문자열의 수만큼 stack을 설정한 후\n",
    "# 각 문자를 stack에 저장하고\n",
    "# 문자의  중간 값을 출력\n",
    "# 각 문자를 뒤에서 부터 출력\n",
    "\n",
    "input_data = input('문자 입력 : ')\n",
    "output = input_data\n",
    "stack = [None for _ in range(len(output))]\n",
    "top = -1\n",
    "size = len(output)\n",
    "for line in output:\n",
    "    print(line)\n",
    "    \n",
    "print(\"--- 원본 문자 출력 ---\")\n",
    "print(*output)\n",
    "for line in output:\n",
    "    push(line)\n",
    "\n",
    "print(\"--- 중간 문자 출력 --->\", output[size//2])\n",
    "peek()\n",
    "print(\"--- 거꾸로 문자 출력 ---\")\n",
    "for _ in range(top,-1,-1):\n",
    "    line = pop()\n",
    "    for i in range(len(line)-1,-1,-1):\n",
    "        print(line[i], end ='')"
   ]
  },
  {
   "cell_type": "code",
   "execution_count": null,
   "id": "40fdf9ff",
   "metadata": {},
   "outputs": [],
   "source": []
  }
 ],
 "metadata": {
  "kernelspec": {
   "display_name": "Python 3 (ipykernel)",
   "language": "python",
   "name": "python3"
  },
  "language_info": {
   "codemirror_mode": {
    "name": "ipython",
    "version": 3
   },
   "file_extension": ".py",
   "mimetype": "text/x-python",
   "name": "python",
   "nbconvert_exporter": "python",
   "pygments_lexer": "ipython3",
   "version": "3.9.13"
  }
 },
 "nbformat": 4,
 "nbformat_minor": 5
}
