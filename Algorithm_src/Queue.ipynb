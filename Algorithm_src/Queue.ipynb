{
 "cells": [
  {
   "cell_type": "code",
   "execution_count": 1,
   "id": "edc22345",
   "metadata": {},
   "outputs": [],
   "source": [
    "## Queue : 출구와 입구가 다른 자료구조\n",
    "queue = [None for _ in range(5)]\n",
    "front = rear = -1 # 출구(front), 입구(rear)를 초기화\n",
    "\n",
    "# 데이터를 큐에 입력  ->  enQueue\n",
    "rear += 1\n",
    "queue[rear] = '화사'\n",
    "\n",
    "rear += 1\n",
    "queue[rear] = '솔라'\n",
    "\n",
    "rear += 1\n",
    "queue[rear] = '문별'"
   ]
  },
  {
   "cell_type": "code",
   "execution_count": 4,
   "id": "b6a4b4a6",
   "metadata": {},
   "outputs": [
    {
     "name": "stdout",
     "output_type": "stream",
     "text": [
      "----큐의 상태----\n",
      "  출구 <-- 화사 솔라 문별 None None ---> 입구\n",
      "deQueue ->  화사\n"
     ]
    }
   ],
   "source": [
    "print(\"----큐의 상태----\")\n",
    "print(\"  출구 <--\", end=' ')\n",
    "for i in range(len(queue)):\n",
    "    print(queue[i], end=' ')\n",
    "print(\"---> 입구\")\n",
    "\n",
    "# deQueue : queue에서 자료를 추출\n",
    "front += 1\n",
    "data = queue[front]\n",
    "queue[front] = None\n",
    "print('deQueue -> ', data)"
   ]
  },
  {
   "cell_type": "code",
   "execution_count": 5,
   "id": "7d80fc27",
   "metadata": {},
   "outputs": [
    {
     "name": "stdout",
     "output_type": "stream",
     "text": [
      "----큐의 상태----\n",
      "  출구 <-- None 솔라 문별 None None ---> 입구\n"
     ]
    }
   ],
   "source": [
    "print(\"----큐의 상태----\")\n",
    "print(\"  출구 <--\", end=' ')\n",
    "for i in range(len(queue)):\n",
    "    print(queue[i], end=' ')\n",
    "print(\"---> 입구\")"
   ]
  },
  {
   "cell_type": "code",
   "execution_count": 19,
   "id": "ea325275",
   "metadata": {},
   "outputs": [],
   "source": [
    "## Queue : 출구와 입구가 다른 자료구조   -> 선형 Queue\n",
    "def isQueuefull():\n",
    "    global size, queue, front, rear\n",
    "    if rear == size-1:\n",
    "        return True\n",
    "    else:\n",
    "        return False\n",
    "    \n",
    "def isQueueempty():\n",
    "    global size, queue, front, rear\n",
    "    if front == rear:\n",
    "        return True\n",
    "    else:\n",
    "        return False\n",
    "    \n",
    "def enQueue(data):\n",
    "    global size, queue, front, rear\n",
    "    if isQueuefull():\n",
    "        print(\"큐가 다 찼음\")\n",
    "        return\n",
    "    rear += 1\n",
    "    queue[rear] = data\n",
    "\n",
    "def deQueue(data):\n",
    "    global size, queue, front, rear\n",
    "    if isQueueempty():\n",
    "        print(\"큐가 비었음\")\n",
    "        return\n",
    "    front += 1\n",
    "    data = queue[front]\n",
    "    queue[front] = None\n",
    "    \n",
    "    # 뒤에서 앞으로 데이터 이동\n",
    "    for i in range(front+1, rear+1):\n",
    "        queue[i-1] = queue[i]\n",
    "        queue[i] = None\n",
    "    front = -1   # 출구의 위치를 초기값으로 지정\n",
    "    rear -= -1   # 입구와 \n",
    "    return data\n",
    "\n",
    "def peekQueue():    # 추출할 데이터 확인\n",
    "    global size, queue, front, rear\n",
    "    if isQueueempty():\n",
    "        print(\"큐가 비었음\")\n",
    "        return\n",
    "    return queue[front +1]\n",
    "def printQueue():\n",
    "    global size, queue, front, rear\n",
    "    print(\"----큐의 상태----\")\n",
    "    print(\"  출구 <--\", end=' ')\n",
    "    for i in range(len(queue)):\n",
    "        print(queue[i], end=' ')\n",
    "    print(\"---> 입구\")"
   ]
  },
  {
   "cell_type": "code",
   "execution_count": 22,
   "id": "5b192213",
   "metadata": {},
   "outputs": [
    {
     "name": "stdout",
     "output_type": "stream",
     "text": [
      "큐 사이즈 입력 : 3\n",
      "메뉴 입력 (1: 삽입, 2: 추출, 3:리스트,4:추출할 자료 확인, 5:종료,) -> 1\n",
      "삽입할 자료 입력 : qq\n",
      "메뉴 입력 (1: 삽입, 2: 추출, 3:리스트,4:추출할 자료 확인, 5:종료,) -> 1\n",
      "삽입할 자료 입력 : ww\n",
      "메뉴 입력 (1: 삽입, 2: 추출, 3:리스트,4:추출할 자료 확인, 5:종료,) -> 1\n",
      "삽입할 자료 입력 : ee\n",
      "메뉴 입력 (1: 삽입, 2: 추출, 3:리스트,4:추출할 자료 확인, 5:종료,) -> 4\n",
      "추출할 자료는 : qq\n",
      "메뉴 입력 (1: 삽입, 2: 추출, 3:리스트,4:추출할 자료 확인, 5:종료,) -> 2\n",
      "추출한 자료는 :  qq\n",
      "메뉴 입력 (1: 삽입, 2: 추출, 3:리스트,4:추출할 자료 확인, 5:종료,) -> 1\n",
      "삽입할 자료 입력 : qq\n"
     ]
    },
    {
     "ename": "IndexError",
     "evalue": "list assignment index out of range",
     "output_type": "error",
     "traceback": [
      "\u001b[1;31m---------------------------------------------------------------------------\u001b[0m",
      "\u001b[1;31mIndexError\u001b[0m                                Traceback (most recent call last)",
      "\u001b[1;32m~\\AppData\\Local\\Temp\\ipykernel_18840\\1921232740.py\u001b[0m in \u001b[0;36m<module>\u001b[1;34m\u001b[0m\n\u001b[0;32m     11\u001b[0m     \u001b[1;32mif\u001b[0m \u001b[0mmenu\u001b[0m \u001b[1;33m==\u001b[0m \u001b[1;34m'1'\u001b[0m\u001b[1;33m:\u001b[0m\u001b[1;33m\u001b[0m\u001b[1;33m\u001b[0m\u001b[0m\n\u001b[0;32m     12\u001b[0m         \u001b[0mdata\u001b[0m \u001b[1;33m=\u001b[0m \u001b[0minput\u001b[0m\u001b[1;33m(\u001b[0m\u001b[1;34m'삽입할 자료 입력 : '\u001b[0m\u001b[1;33m)\u001b[0m\u001b[1;33m\u001b[0m\u001b[1;33m\u001b[0m\u001b[0m\n\u001b[1;32m---> 13\u001b[1;33m         \u001b[0menQueue\u001b[0m\u001b[1;33m(\u001b[0m\u001b[0mdata\u001b[0m\u001b[1;33m)\u001b[0m\u001b[1;33m\u001b[0m\u001b[1;33m\u001b[0m\u001b[0m\n\u001b[0m\u001b[0;32m     14\u001b[0m     \u001b[1;32melif\u001b[0m \u001b[0mmenu\u001b[0m \u001b[1;33m==\u001b[0m \u001b[1;34m'2'\u001b[0m\u001b[1;33m:\u001b[0m\u001b[1;33m\u001b[0m\u001b[1;33m\u001b[0m\u001b[0m\n\u001b[0;32m     15\u001b[0m         \u001b[0mdata\u001b[0m \u001b[1;33m=\u001b[0m \u001b[0mdeQueue\u001b[0m\u001b[1;33m(\u001b[0m\u001b[0mfront\u001b[0m\u001b[1;33m)\u001b[0m\u001b[1;33m\u001b[0m\u001b[1;33m\u001b[0m\u001b[0m\n",
      "\u001b[1;32m~\\AppData\\Local\\Temp\\ipykernel_18840\\4169592521.py\u001b[0m in \u001b[0;36menQueue\u001b[1;34m(data)\u001b[0m\n\u001b[0;32m     20\u001b[0m         \u001b[1;32mreturn\u001b[0m\u001b[1;33m\u001b[0m\u001b[1;33m\u001b[0m\u001b[0m\n\u001b[0;32m     21\u001b[0m     \u001b[0mrear\u001b[0m \u001b[1;33m+=\u001b[0m \u001b[1;36m1\u001b[0m\u001b[1;33m\u001b[0m\u001b[1;33m\u001b[0m\u001b[0m\n\u001b[1;32m---> 22\u001b[1;33m     \u001b[0mqueue\u001b[0m\u001b[1;33m[\u001b[0m\u001b[0mrear\u001b[0m\u001b[1;33m]\u001b[0m \u001b[1;33m=\u001b[0m \u001b[0mdata\u001b[0m\u001b[1;33m\u001b[0m\u001b[1;33m\u001b[0m\u001b[0m\n\u001b[0m\u001b[0;32m     23\u001b[0m \u001b[1;33m\u001b[0m\u001b[0m\n\u001b[0;32m     24\u001b[0m \u001b[1;32mdef\u001b[0m \u001b[0mdeQueue\u001b[0m\u001b[1;33m(\u001b[0m\u001b[0mdata\u001b[0m\u001b[1;33m)\u001b[0m\u001b[1;33m:\u001b[0m\u001b[1;33m\u001b[0m\u001b[1;33m\u001b[0m\u001b[0m\n",
      "\u001b[1;31mIndexError\u001b[0m: list assignment index out of range"
     ]
    }
   ],
   "source": [
    "# size = 5\n",
    "# queue = [None for _ in range(size)]\n",
    "# front= rear = -1 # 출구(front), 입구(rear) 를 초기화\n",
    "\n",
    "size = int(input('큐 사이즈 입력 : '))\n",
    "queue = [ None for _ in range(size)]\n",
    "front= rear = -1 # 출구(front), 입구(rear) 를 초기화\n",
    "\n",
    "while True:\n",
    "    menu = input(\"메뉴 입력 (1: 삽입, 2: 추출, 3:리스트,4:추출할 자료 확인, 5:종료,) -> \")\n",
    "    if menu == '1':\n",
    "        data = input('삽입할 자료 입력 : ')\n",
    "        enQueue(data)\n",
    "    elif menu == '2':\n",
    "        data = deQueue(front)\n",
    "        \n",
    "        print(\"추출한 자료는 : \", data)\n",
    "    elif menu =='3':\n",
    "        printQueue()\n",
    "    elif menu == '4':\n",
    "        data =peekQueue()\n",
    "        if data:\n",
    "            print('추출할 자료는 :', data)\n",
    "    elif menu == '5':\n",
    "        break"
   ]
  },
  {
   "cell_type": "code",
   "execution_count": 32,
   "id": "b70afd0f",
   "metadata": {},
   "outputs": [],
   "source": [
    "## Queue : 출구와 입구가 다른 자료구조   -> 원형 Queue\n",
    "def isfull():\n",
    "    global size, queue, front, rear\n",
    "    if (rear+1) % size == front:   # 자료가 full\n",
    "        return True\n",
    "    else:\n",
    "        return False\n",
    "    \n",
    "def isempty():\n",
    "    global size, queue, front, rear\n",
    "    if front == rear:\n",
    "        return True\n",
    "    else:\n",
    "        return False\n",
    "    \n",
    "def enQueue(data):\n",
    "    global size, queue, front, rear\n",
    "    if isfull():\n",
    "        print(\"큐가 다 찼음\")\n",
    "        return\n",
    "    rear = (rear +1) % size\n",
    "    queue[rear] = data\n",
    "\n",
    "def deQueue(data):\n",
    "    global size, queue, front, rear\n",
    "    if isempty():\n",
    "        print(\"큐가 비었음\")\n",
    "        return\n",
    "    front = (front+1)%size\n",
    "    data = queue[front]\n",
    "    queue[front] = None\n",
    "\n",
    "    return data\n",
    "\n",
    "def peekQueue():    # 추출할 데이터 확인\n",
    "    global size, queue, front, rear\n",
    "    if isempty():\n",
    "        print(\"큐가 비었음\")\n",
    "        return\n",
    "    return queue[(front+1)%size]\n",
    "def printQueue():\n",
    "    global size, queue, front, rear\n",
    "    print(\"----큐의 상태----\")\n",
    "    print(\"  출구 <--\", end=' ')\n",
    "    for i in range(size):\n",
    "        print(queue[i], end=' ')\n",
    "    print(\"---> 입구\")\n",
    "    print(f'front == {front}, rear == {rear}')"
   ]
  },
  {
   "cell_type": "code",
   "execution_count": 33,
   "id": "d8b2f4bd",
   "metadata": {},
   "outputs": [
    {
     "name": "stdout",
     "output_type": "stream",
     "text": [
      "큐 사이즈 입력 : 5\n",
      "메뉴 입력 (1: 삽입, 2: 추출, 3:리스트,4:추출할 자료 확인, 5:종료,) -> 1\n",
      "삽입할 자료 입력 : qq\n",
      "메뉴 입력 (1: 삽입, 2: 추출, 3:리스트,4:추출할 자료 확인, 5:종료,) -> 1\n",
      "삽입할 자료 입력 : ww\n",
      "메뉴 입력 (1: 삽입, 2: 추출, 3:리스트,4:추출할 자료 확인, 5:종료,) -> 1\n",
      "삽입할 자료 입력 : ee\n",
      "메뉴 입력 (1: 삽입, 2: 추출, 3:리스트,4:추출할 자료 확인, 5:종료,) -> 1\n",
      "삽입할 자료 입력 : rr\n",
      "메뉴 입력 (1: 삽입, 2: 추출, 3:리스트,4:추출할 자료 확인, 5:종료,) -> 1\n",
      "삽입할 자료 입력 : tt\n",
      "큐가 다 찼음\n",
      "메뉴 입력 (1: 삽입, 2: 추출, 3:리스트,4:추출할 자료 확인, 5:종료,) -> 3\n",
      "----큐의 상태----\n",
      "  출구 <-- None qq ww ee rr ---> 입구\n",
      "front == 0, rear == 4\n",
      "메뉴 입력 (1: 삽입, 2: 추출, 3:리스트,4:추출할 자료 확인, 5:종료,) -> 3\n",
      "----큐의 상태----\n",
      "  출구 <-- None qq ww ee rr ---> 입구\n",
      "front == 0, rear == 4\n",
      "메뉴 입력 (1: 삽입, 2: 추출, 3:리스트,4:추출할 자료 확인, 5:종료,) -> 1\n",
      "삽입할 자료 입력 : ff\n",
      "큐가 다 찼음\n",
      "메뉴 입력 (1: 삽입, 2: 추출, 3:리스트,4:추출할 자료 확인, 5:종료,) -> 2\n",
      "추출한 자료는 :  qq\n",
      "메뉴 입력 (1: 삽입, 2: 추출, 3:리스트,4:추출할 자료 확인, 5:종료,) -> 5\n"
     ]
    }
   ],
   "source": [
    "size = int(input('큐 사이즈 입력 : '))\n",
    "queue = [ None for _ in range(size)]\n",
    "front= rear = 0 # 출구(front), 입구(rear) 를 초기화\n",
    "\n",
    "while True:\n",
    "    menu = input(\"메뉴 입력 (1: 삽입, 2: 추출, 3:리스트,4:추출할 자료 확인, 5:종료,) -> \")\n",
    "    if menu == '1':\n",
    "        data = input('삽입할 자료 입력 : ')\n",
    "        enQueue(data)\n",
    "    elif menu == '2':\n",
    "        data = deQueue(front)\n",
    "        \n",
    "        print(\"추출한 자료는 : \", data)\n",
    "    elif menu =='3':\n",
    "        printQueue()\n",
    "    elif menu == '4':\n",
    "        data =peekQueue()\n",
    "        if data:\n",
    "            print('추출할 자료는 :', data)\n",
    "    elif menu == '5':\n",
    "        break"
   ]
  },
  {
   "cell_type": "code",
   "execution_count": null,
   "id": "16731cab",
   "metadata": {},
   "outputs": [],
   "source": []
  }
 ],
 "metadata": {
  "kernelspec": {
   "display_name": "Python 3 (ipykernel)",
   "language": "python",
   "name": "python3"
  },
  "language_info": {
   "codemirror_mode": {
    "name": "ipython",
    "version": 3
   },
   "file_extension": ".py",
   "mimetype": "text/x-python",
   "name": "python",
   "nbconvert_exporter": "python",
   "pygments_lexer": "ipython3",
   "version": "3.9.13"
  }
 },
 "nbformat": 4,
 "nbformat_minor": 5
}
