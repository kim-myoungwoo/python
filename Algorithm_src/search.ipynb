{
 "cells": [
  {
   "cell_type": "code",
   "execution_count": 53,
   "id": "253a2939",
   "metadata": {},
   "outputs": [],
   "source": [
    "# 순차 검색 : 자료가 정렬되어 있지 않은 상태에서 검색\n",
    "def seqsearch(array,find_data):\n",
    "    pos = -1    # 초기값을 -1로 지정\n",
    "    count = 0\n",
    "    size = len(array)\n",
    "    for i in range(size):\n",
    "        count += 1\n",
    "        if array[i] == find_data:\n",
    "            pos = i\n",
    "            break\n",
    "    return pos, count        # -1 또는 검색된 자료의 index"
   ]
  },
  {
   "cell_type": "code",
   "execution_count": 54,
   "id": "f2ffbeb8",
   "metadata": {},
   "outputs": [
    {
     "name": "stdout",
     "output_type": "stream",
     "text": [
      "[39, 78, 62, 9, 33, 29, 47, 34, 74, 55]\n",
      "검색하고자 하는 숫자 입력 > 74\n",
      "검색된 자료는 74이고, 8번째에 있음, 검색 횟수는 9번\n"
     ]
    }
   ],
   "source": [
    "import random\n",
    "array = [random.randrange(1,100) for _ in range(10)]\n",
    "print(array)\n",
    "# 검색하고자 하는 숫자 입력\n",
    "find_data = int(input('검색하고자 하는 숫자 입력 > '))\n",
    "pos, count = seqsearch(array, find_data)\n",
    "if pos == -1:\n",
    "    print('검색된 자료없음')\n",
    "else:\n",
    "    print(f'검색된 자료는 {find_data}이고, {pos}번째에 있음, 검색 횟수는 {count}번')"
   ]
  },
  {
   "cell_type": "code",
   "execution_count": 55,
   "id": "e6f81e60",
   "metadata": {},
   "outputs": [],
   "source": [
    "# 순차 검색 : 자료가 정렬되어 있지 않은 상태에서 검색\n",
    "def seqsearch_dup(array,find_data):\n",
    "    pos = []    # 초기값을 -1로 지정\n",
    "    count =0\n",
    "    size = len(array)\n",
    "    for i in range(size):\n",
    "        count += 1\n",
    "        if array[i] == find_data:\n",
    "            pos.append(i)\n",
    "            \n",
    "    return pos        # -1 또는 검색된 자료의 index"
   ]
  },
  {
   "cell_type": "code",
   "execution_count": 56,
   "id": "483810c0",
   "metadata": {},
   "outputs": [
    {
     "name": "stdout",
     "output_type": "stream",
     "text": [
      "[9, 9, 1, 3, 7, 6, 4, 3, 1, 6]\n",
      "검색하고자 하는 숫자 입력 > 1\n"
     ]
    },
    {
     "ename": "TypeError",
     "evalue": "object of type 'int' has no len()",
     "output_type": "error",
     "traceback": [
      "\u001b[1;31m---------------------------------------------------------------------------\u001b[0m",
      "\u001b[1;31mTypeError\u001b[0m                                 Traceback (most recent call last)",
      "\u001b[1;32m~\\AppData\\Local\\Temp\\ipykernel_8524\\1374489080.py\u001b[0m in \u001b[0;36m<module>\u001b[1;34m\u001b[0m\n\u001b[0;32m      5\u001b[0m \u001b[0mfind_data\u001b[0m \u001b[1;33m=\u001b[0m \u001b[0mint\u001b[0m\u001b[1;33m(\u001b[0m\u001b[0minput\u001b[0m\u001b[1;33m(\u001b[0m\u001b[1;34m'검색하고자 하는 숫자 입력 > '\u001b[0m\u001b[1;33m)\u001b[0m\u001b[1;33m)\u001b[0m\u001b[1;33m\u001b[0m\u001b[1;33m\u001b[0m\u001b[0m\n\u001b[0;32m      6\u001b[0m \u001b[0mpos\u001b[0m\u001b[1;33m,\u001b[0m \u001b[0mcount\u001b[0m \u001b[1;33m=\u001b[0m \u001b[0mseqsearch_dup\u001b[0m\u001b[1;33m(\u001b[0m\u001b[0marray\u001b[0m\u001b[1;33m,\u001b[0m \u001b[0mfind_data\u001b[0m\u001b[1;33m)\u001b[0m\u001b[1;33m\u001b[0m\u001b[1;33m\u001b[0m\u001b[0m\n\u001b[1;32m----> 7\u001b[1;33m \u001b[1;32mif\u001b[0m \u001b[0mlen\u001b[0m\u001b[1;33m(\u001b[0m\u001b[0mpos\u001b[0m\u001b[1;33m)\u001b[0m \u001b[1;33m==\u001b[0m \u001b[1;36m0\u001b[0m\u001b[1;33m:\u001b[0m\u001b[1;33m\u001b[0m\u001b[1;33m\u001b[0m\u001b[0m\n\u001b[0m\u001b[0;32m      8\u001b[0m     \u001b[0mprint\u001b[0m\u001b[1;33m(\u001b[0m\u001b[1;34m'검색된 자료없음'\u001b[0m\u001b[1;33m)\u001b[0m\u001b[1;33m\u001b[0m\u001b[1;33m\u001b[0m\u001b[0m\n\u001b[0;32m      9\u001b[0m \u001b[1;32melse\u001b[0m\u001b[1;33m:\u001b[0m\u001b[1;33m\u001b[0m\u001b[1;33m\u001b[0m\u001b[0m\n",
      "\u001b[1;31mTypeError\u001b[0m: object of type 'int' has no len()"
     ]
    }
   ],
   "source": [
    "import random\n",
    "array = [random.randrange(1,10) for _ in range(10)]\n",
    "print(array)\n",
    "# 검색하고자 하는 숫자 입력\n",
    "find_data = int(input('검색하고자 하는 숫자 입력 > '))\n",
    "pos, count = seqsearch_dup(array, find_data)\n",
    "if len(pos) == 0:\n",
    "    print('검색된 자료없음')\n",
    "else:\n",
    "    print(f'검색된 자료는 {find_data}이고, {pos}번째에 있음, 검색 횟수는 {count}번')"
   ]
  },
  {
   "cell_type": "code",
   "execution_count": 79,
   "id": "da1501e6",
   "metadata": {},
   "outputs": [],
   "source": [
    "def seqSearch(array,f_data):\n",
    "    pos = -1\n",
    "    count =0\n",
    "    for i in range(len(array)):\n",
    "        count +=1\n",
    "        if array[i] == f_data:\n",
    "            pos = i\n",
    "            break\n",
    "        elif array[i] > f_data:\n",
    "            break\n",
    "    return pos, count\n",
    "\n",
    "def QuickSort(array, start, end):\n",
    "    if end <= start:\n",
    "        return\n",
    "    low = start\n",
    "    high = end\n",
    "    pivot = array[(high+low) // 2]\n",
    "    while low <= high:\n",
    "        while array[low] < pivot:\n",
    "            low += 1\n",
    "        while array[high] > pivot:\n",
    "            high -= 1\n",
    "        if low <= high:\n",
    "            array[low], array[high] = array[high], array[low]\n",
    "            low +=1\n",
    "            high -=1\n",
    "    mid = low\n",
    "    QuickSort(array,start,mid-1)     # left\n",
    "    QuickSort(array,mid,end)         # right\n",
    "        "
   ]
  },
  {
   "cell_type": "code",
   "execution_count": 80,
   "id": "ac4fb3ed",
   "metadata": {},
   "outputs": [
    {
     "name": "stdout",
     "output_type": "stream",
     "text": [
      "[83, 62, 48, 53, 98, 24, 37, 35, 33, 91]\n",
      "[83, 62, 48, 53, 98, 24, 37, 35, 33, 91]\n",
      "[24, 33, 35, 37, 48, 53, 62, 83, 91, 98]\n"
     ]
    }
   ],
   "source": [
    "array = [random.randrange(1,100) for _ in range(10)]\n",
    "array_sort = array.copy()\n",
    "print(array_sort)\n",
    "QuickSort(array_sort, 0, len(array_sort)-1)\n",
    "print(array)\n",
    "print(array_sort)"
   ]
  },
  {
   "cell_type": "code",
   "execution_count": 81,
   "id": "8bbede80",
   "metadata": {},
   "outputs": [
    {
     "name": "stdout",
     "output_type": "stream",
     "text": [
      "검색하고자 하는 숫자 입력 > 37\n",
      "검색된 자료없음\n"
     ]
    }
   ],
   "source": [
    "# 검색하고자 하는 숫자 입력\n",
    "find_data = int(input('검색하고자 하는 숫자 입력 > '))\n",
    "pos, count = seqSearch(array, find_data)\n",
    "if pos == -1:\n",
    "    print('검색된 자료없음')\n",
    "else:\n",
    "    print(f'검색된 자료는 {find_data}이고, {pos}번째에 있음, 검색 횟수는 {count}번')"
   ]
  },
  {
   "cell_type": "code",
   "execution_count": 183,
   "id": "4d4d2356",
   "metadata": {},
   "outputs": [],
   "source": [
    "def binarySearch(array,f_data):\n",
    "    start = 0\n",
    "    end = len(array) -1\n",
    "    count = 0\n",
    "    while start <= end:\n",
    "        mid = (start + end) // 2\n",
    "        count += 1\n",
    "        if array[mid] == f_data:\n",
    "            return mid, count\n",
    "        elif array[mid] < f_data:\n",
    "            start = mid + 1      # 중앙값 뒤의 자료만 검색\n",
    "        else:\n",
    "            end = mid -1\n",
    "    return -1, count\n",
    "    "
   ]
  },
  {
   "cell_type": "code",
   "execution_count": 86,
   "id": "909b02bf",
   "metadata": {},
   "outputs": [
    {
     "name": "stdout",
     "output_type": "stream",
     "text": [
      "[24, 33, 35, 37, 48, 53, 62, 83, 91, 98]\n",
      "검색하고자 하는 숫자 입력>33\n",
      "검색된 자료는 33은 1번째에 있음,\n"
     ]
    }
   ],
   "source": [
    "print(array_sort)\n",
    "find_data = int(input('검색하고자 하는 숫자 입력>'))\n",
    "pos = binarySearch(array_sort, find_data)\n",
    "if pos == -1:\n",
    "    print('검색된 자료 없음')\n",
    "else:\n",
    "    print('검색된 자료는 {}은 {}번째에 있음,'.format(find_data, pos))"
   ]
  },
  {
   "cell_type": "code",
   "execution_count": 192,
   "id": "cf8025e5",
   "metadata": {},
   "outputs": [
    {
     "name": "stdout",
     "output_type": "stream",
     "text": [
      "63976 True\n",
      "검색된 자료는 63976은 63651번째에 있음 14번 검색함\n"
     ]
    }
   ],
   "source": [
    "array = [random.randrange(0,100000) for _ in range(100000)]\n",
    "array.sort()\n",
    "\n",
    "find_data = random.choice(array)\n",
    "print(find_data, find_data in array)\n",
    "pos, count = binarySearch(array, find_data)\n",
    "if pos == -1:\n",
    "    print(f'검색된 자료 없음 {count}회 검색')\n",
    "else:\n",
    "    print('검색된 자료는 {}은 {}번째에 있음 {}번 검색함'.format(find_data, pos,count))"
   ]
  },
  {
   "cell_type": "code",
   "execution_count": null,
   "id": "f9dc09aa",
   "metadata": {},
   "outputs": [],
   "source": [
    "# 1. 이름과 국어, 영어 성적을 입력 받아 리스트에 저장 (이름에 아무런 값도 입력 되지 않으면 입력 종료)\n",
    "# 2. 정렬하고자 하는 아이템 입력(1: 이름, 2: 국어 성적, 3: 영어 성적)\n",
    "# 3. 2에서 입력 받은 자료를 기준으로 정렬\n",
    "# 4. 3의 자료를 가지고 검색을(1 -> 이름을 입력 받아 몇 번째 자료인지 출력, 학생의 정보 출력)\n",
    "#    3의 자료를 가지고 검색을(2 또는 3 이면 성적을 입력 받아 해당 성적을 받은 학생의 등수의 정보 출력)"
   ]
  },
  {
   "cell_type": "code",
   "execution_count": 269,
   "id": "3bf6662c",
   "metadata": {},
   "outputs": [],
   "source": [
    "def input_data():\n",
    "    global students\n",
    "    while True:\n",
    "        student = input('학생의 이름과 국어, 영어 성적을 입력')\n",
    "        if student == '':\n",
    "            break\n",
    "        students.append(student.split())\n",
    "    print(students)"
   ]
  },
  {
   "cell_type": "code",
   "execution_count": 271,
   "id": "4b30a895",
   "metadata": {},
   "outputs": [],
   "source": [
    "    \n",
    "def sort_data(array,sort_key,start,end):\n",
    "    if end <= start:\n",
    "        return\n",
    "    low = start\n",
    "    high = end\n",
    "    pivot = array[(high+low) // 2][sort_key]\n",
    "    while low <= high:\n",
    "        while array[low] < pivot:\n",
    "            low += 1\n",
    "        while array[high] > pivot:\n",
    "            high -= 1\n",
    "        if low <= high:\n",
    "            array[low], array[high] = array[high], array[low]\n",
    "            low +=1\n",
    "            high -=1\n",
    "    mid = low\n",
    "    QuickSort(array,start,mid-1)     # left\n",
    "    QuickSort(array,mid,end)         # right\n",
    "        \n",
    "        \n",
    "    \n",
    "def search_data(array,f_data,sort_key):\n",
    "    start = 0\n",
    "    end = len(array) -1\n",
    "    while start <= end:\n",
    "        mid = (start + end) // 2\n",
    "        count += 1\n",
    "        if array[mid][sort_key] == f_data:\n",
    "            return mid\n",
    "        elif array[mid][sort_key] < f_data:\n",
    "            start = mid + 1      # 중앙값 뒤의 자료만 검색\n",
    "        else:\n",
    "            end = mid -1\n",
    "    return -1"
   ]
  },
  {
   "cell_type": "code",
   "execution_count": 270,
   "id": "0f936ebc",
   "metadata": {},
   "outputs": [
    {
     "name": "stdout",
     "output_type": "stream",
     "text": [
      "학생의 이름과 국어, 영어 성적을 입력a 60 80\n",
      "학생의 이름과 국어, 영어 성적을 입력b 60 70\n",
      "학생의 이름과 국어, 영어 성적을 입력\n",
      "[['a', '60', '80'], ['b', '60', '70']]\n"
     ]
    }
   ],
   "source": [
    "while True:\n",
    "    menu = input('메뉴를 입력하세요')\n",
    "    if menu == '1':\n",
    "        sear"
   ]
  },
  {
   "cell_type": "code",
   "execution_count": 273,
   "id": "53ebf07a",
   "metadata": {},
   "outputs": [
    {
     "data": {
      "text/plain": [
       "[('dave', 'A', 10), ('jane', 'B', 12), ('john', 'A', 15)]"
      ]
     },
     "execution_count": 273,
     "metadata": {},
     "output_type": "execute_result"
    }
   ],
   "source": [
    "## sorted() 내장함수를 활용 -> 간단하게 구현\n",
    "arr = [ ('john', 'A', 15),('jane', 'B', 12),('dave', 'A', 10)]\n",
    "\n",
    "sorted(arr, key=lambda a:a[1])   # 정렬된 리스트를 반환\n",
    "sorted(arr, key=lambda a:a[0])"
   ]
  },
  {
   "cell_type": "code",
   "execution_count": null,
   "id": "15105b7e",
   "metadata": {},
   "outputs": [],
   "source": [
    "# list.sort()  -> 원 데이터 리스트를 수정"
   ]
  },
  {
   "cell_type": "code",
   "execution_count": null,
   "id": "eefef684",
   "metadata": {},
   "outputs": [],
   "source": [
    "# class 로 정의\n",
    "class student:\n",
    "    def __init__(self, name, kor, eng):\n",
    "        self.name = name\n",
    "        self.kor = kor\n",
    "        self.eng = eng\n",
    "    def __repr__(self):\n",
    "        return repr((self.name, self.kor, self.eng))\n",
    "    def __str__(self):\n",
    "        return f'{self.name}, {self.kor}, {self.eng}'"
   ]
  },
  {
   "cell_type": "code",
   "execution_count": 278,
   "id": "fe2e0a0f",
   "metadata": {},
   "outputs": [],
   "source": [
    "# 문) 1. 책장 배열을 정의한다\n",
    "bookAry = [ ['어린왕자', '쌩떽쥐베리'],['이방인', '까뮈'], ['부활', '톨스토이'],\n",
    "            ['신곡', '단테'], ['돈키호테', '세브반테스'], ['동물농장', '조지오웰'],\n",
    "            ['데미안','헤르만헤세'], ['파우스트', '괴테'], ['대지', '펄벅'] ]\n",
    "#  => class 자료로 변경\n",
    "# 2. 도서명만 추출, 도서명 옆에 책의 순번(책장의 위치)를 출력\n",
    "#     -> make_idx_auth(), make_idx_book()\n",
    "# 3. 도서명을 기준으로 색인표 정렬 -> sorted() 함수를 활용하여 0번째 열인\n",
    "#    도서명 열을 기준으로 정렬 -> sorted() -> 정렬된 자료 리스트 반환"
   ]
  },
  {
   "cell_type": "code",
   "execution_count": 288,
   "id": "58a15d11",
   "metadata": {},
   "outputs": [
    {
     "name": "stdout",
     "output_type": "stream",
     "text": [
      "---- 색인표를 생성한 책장 ----\n",
      "0 : ('어린왕자', '쌩떽쥐베리')\n",
      "1 : ('이방인', '까뮈')\n",
      "2 : ('부활', '톨스토이')\n",
      "3 : ('신곡', '단테')\n",
      "4 : ('돈키호테', '세브반테스')\n",
      "5 : ('동물농장', '조지오웰')\n",
      "6 : ('데미안', '헤르만헤세')\n",
      "7 : ('파우스트', '괴테')\n",
      "8 : ('대지', '펄벅')\n"
     ]
    }
   ],
   "source": [
    "# 작가명으로 색인표 생성 및 출력  -> 각각의 데이터는  class로\n",
    "class Book:\n",
    "    def __init__(self, title, auth):\n",
    "        self.auth = auth\n",
    "        self.title = title\n",
    "        \n",
    "    def __repr__(self):\n",
    "        return repr((self.title, self.auth))\n",
    "def make_idx(bookAry):\n",
    "    books = []\n",
    "    for book in bookAry:\n",
    "        books.append(Book(book[0], book[1]))\n",
    "    return books\n",
    "def sort_books(books, key='auth'):\n",
    "    if key == 'auth':\n",
    "        return sorted(books, key=lambda book : auth)\n",
    "    else:\n",
    "        return sorted(books, key = lambda book: title)\n",
    "    \n",
    "books = make_idx(bookAry)    # 책장 인덱스 생성\n",
    "print(\"---- 색인표를 생성한 책장 ----\")\n",
    "for idx, book in enumerate(books):    # 인덱스 생성된 책장 정보 출력\n",
    "    print(f'{idx} : {repr(book)}')\n",
    "# 도서명으로 색인표 생성 및 출력\n",
    "# sort_books(books, key = 'title')\n",
    "sort_book_list = sorted(books, key = lambda book: book.title)\n",
    "# 도서명을 기준으로 색인표 정렬\n",
    "# 검색하고자 하는 도서명을 입력 -> 결과 출력"
   ]
  },
  {
   "cell_type": "code",
   "execution_count": null,
   "id": "e2d79277",
   "metadata": {},
   "outputs": [],
   "source": []
  }
 ],
 "metadata": {
  "kernelspec": {
   "display_name": "Python 3 (ipykernel)",
   "language": "python",
   "name": "python3"
  },
  "language_info": {
   "codemirror_mode": {
    "name": "ipython",
    "version": 3
   },
   "file_extension": ".py",
   "mimetype": "text/x-python",
   "name": "python",
   "nbconvert_exporter": "python",
   "pygments_lexer": "ipython3",
   "version": "3.9.13"
  }
 },
 "nbformat": 4,
 "nbformat_minor": 5
}
