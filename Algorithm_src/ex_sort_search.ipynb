{
 "cells": [
  {
   "cell_type": "code",
   "execution_count": 77,
   "id": "1fb4bf64",
   "metadata": {},
   "outputs": [],
   "source": [
    "def sell_sort(array, start, end):\n",
    "    if end <= start:\n",
    "        return\n",
    "    low = start\n",
    "    high = end\n",
    "    pivot = array[(high+low) // 2]\n",
    "    while low <= high:\n",
    "        while array[low] < pivot:\n",
    "            low += 1\n",
    "        while array[high] > pivot:\n",
    "            high -= 1\n",
    "        if low <= high:\n",
    "            array[low], array[high] = array[high], array[low]\n",
    "            low +=1\n",
    "            high -=1\n",
    "    mid = low\n",
    "    sell_sort(array,start,mid-1)     # left\n",
    "    sell_sort(array,mid,end)         # right\n",
    "\n",
    "def sell(array):\n",
    "    product_list = []\n",
    "    for product in array:\n",
    "        if not product in product_list:\n",
    "            product_list.append(product)\n",
    "    return product_list\n",
    "\n",
    "def sell_result(array):\n",
    "    sell_product = {}\n",
    "    for product in array:\n",
    "        if product in sell_product:\n",
    "            sell_product[product] +=1\n",
    "        else:\n",
    "            sell_product[product] = 1\n",
    "    return sell_product\n",
    "        "
   ]
  },
  {
   "cell_type": "code",
   "execution_count": 72,
   "id": "cb697eab",
   "metadata": {},
   "outputs": [],
   "source": [
    "# 오늘 판매된 전체 물건  -> 중복 허용, 정렬안됨\n",
    "# 오늘 판매된 전체 물건 -> 중복 허용, 정렬된 상태\n",
    "# 오늘 판매된 전체 물건 종류 -> 중복 허용 안함\n",
    "# 결산 결과 -> '바나나맛 우유' -> 2개"
   ]
  },
  {
   "cell_type": "code",
   "execution_count": 79,
   "id": "15f59341",
   "metadata": {},
   "outputs": [
    {
     "name": "stdout",
     "output_type": "stream",
     "text": [
      "오늘 판매된 전체 물건 :  ['레쓰비캔커피', '삼각김밥', '삼다수', '레쓰비캔커피', '삼다수', '레쓰비캔커피', '삼각김밥', '츄파춥스', '도시락', '코카콜라', '삼다수', '도시락', '바나나맛우유', '도시락', '삼다수', '코카콜라', '도시락', '코카콜라', '삼각김밥', '도시락']\n",
      "\n",
      "오늘 판매된 전체 물건 정렬 :  ['도시락', '도시락', '도시락', '도시락', '도시락', '레쓰비캔커피', '레쓰비캔커피', '레쓰비캔커피', '바나나맛우유', '삼각김밥', '삼각김밥', '삼각김밥', '삼다수', '삼다수', '삼다수', '삼다수', '츄파춥스', '코카콜라', '코카콜라', '코카콜라']\n",
      "\n",
      "오늘 전체 물건 종류 :  ['도시락', '레쓰비캔커피', '바나나맛우유', '삼각김밥', '삼다수', '츄파춥스', '코카콜라']\n",
      "\n",
      "결산 결과 :  {'도시락': 5, '레쓰비캔커피': 3, '바나나맛우유': 1, '삼각김밥': 3, '삼다수': 4, '츄파춥스': 1, '코카콜라': 3}\n"
     ]
    }
   ],
   "source": [
    "dataAry = ['바나나맛우유', '레쓰비캔커피', '츄파춥스', '도시락', '삼다수', '코카콜라', '삼각김밥']\n",
    "import random\n",
    "\n",
    "array = []\n",
    "while len(array) < 20:\n",
    "    item = random.choice(dataAry)\n",
    "    array.append(item)\n",
    "\n",
    "print('오늘 판매된 전체 물건 : ', array)\n",
    "print()\n",
    "array.sort()\n",
    "print('오늘 판매된 전체 물건 정렬 : ', array)\n",
    "print()\n",
    "product_list = sell(array)\n",
    "print('오늘 전체 물건 종류 : ', product_list)\n",
    "print()\n",
    "print('결산 결과 : ', sell_result(array))"
   ]
  },
  {
   "cell_type": "code",
   "execution_count": null,
   "id": "5f16b497",
   "metadata": {},
   "outputs": [],
   "source": []
  }
 ],
 "metadata": {
  "kernelspec": {
   "display_name": "Python 3 (ipykernel)",
   "language": "python",
   "name": "python3"
  },
  "language_info": {
   "codemirror_mode": {
    "name": "ipython",
    "version": 3
   },
   "file_extension": ".py",
   "mimetype": "text/x-python",
   "name": "python",
   "nbconvert_exporter": "python",
   "pygments_lexer": "ipython3",
   "version": "3.9.13"
  }
 },
 "nbformat": 4,
 "nbformat_minor": 5
}
