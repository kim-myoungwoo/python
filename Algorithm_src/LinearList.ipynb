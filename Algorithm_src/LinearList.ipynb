{
 "cells": [
  {
   "cell_type": "code",
   "execution_count": 11,
   "id": "fd7e2d8b",
   "metadata": {},
   "outputs": [],
   "source": [
    "# 배열을 이용한 선형 리스트 생성 -> 함수를 사용\n",
    "def add_data(data):\n",
    "    katok.append(None)\n",
    "    katok[len(katok)-1] = data\n",
    "#insert_data() 함수로 구현\n",
    "def insert_data(pos, data):\n",
    "    if pos < 0 or pos> len(katok):   # 인덱스 범위 체크\n",
    "        print('index range error')\n",
    "        return\n",
    "    katok.append(None)     # 빈칸 추가\n",
    "    # 2. 마지막에 마지막 -1 의 값을 이동, 뒤에서 부터 원하는 위치 전까지\n",
    "    for idx in range(len(katok)-1, pos, -1):\n",
    "        katok[idx] = katok[idx -1]\n",
    "        katok[idx -1] = None\n",
    "    katok[pos] = data\n",
    "# del_data(position) 함수로 정의\n",
    "def del_data(pos):\n",
    "    if pos <0 or pos > len(katok) -1:\n",
    "        print(\"index range error\")\n",
    "        return\n",
    "    katok[pos] = None\n",
    "    for idx in range(pos +1, len(katok)):\n",
    "        katok[idx-1] = katok[idx]\n",
    "        katok[idx] = None\n",
    "    del katok[len(katok)-1]    # 마지막 자료 삭제"
   ]
  },
  {
   "cell_type": "code",
   "execution_count": 12,
   "id": "232d7494",
   "metadata": {},
   "outputs": [
    {
     "name": "stdout",
     "output_type": "stream",
     "text": [
      "선택하세요(1: 추가, 2: 삽입, 3: 삭제, 4: 종료)--> 1\n",
      "추가할 데이터--> qq\n",
      "['qq']\n",
      "선택하세요(1: 추가, 2: 삽입, 3: 삭제, 4: 종료)--> 1\n",
      "추가할 데이터--> ww\n",
      "['qq', 'ww']\n",
      "선택하세요(1: 추가, 2: 삽입, 3: 삭제, 4: 종료)--> 1\n",
      "추가할 데이터--> ee\n",
      "['qq', 'ww', 'ee']\n",
      "선택하세요(1: 추가, 2: 삽입, 3: 삭제, 4: 종료)--> 1\n",
      "추가할 데이터--> rr\n",
      "['qq', 'ww', 'ee', 'rr']\n",
      "선택하세요(1: 추가, 2: 삽입, 3: 삭제, 4: 종료)--> 2\n",
      "삽입할 위치--> 2\n",
      "추가할 데이터--> tt\n",
      "['qq', 'ww', 'tt', 'ee', 'rr']\n",
      "선택하세요(1: 추가, 2: 삽입, 3: 삭제, 4: 종료)--> 3\n",
      "삭제할 위치--> 1\n",
      "['qq', 'tt', 'ee', 'rr']\n",
      "선택하세요(1: 추가, 2: 삽입, 3: 삭제, 4: 종료)--> 4\n"
     ]
    }
   ],
   "source": [
    "## 메인 코드 부분 ## \n",
    "katok = []\n",
    "select = -1\n",
    "if __name__ == \"__main__\" :\n",
    "    while (select != 4) :\n",
    "        select = int(input(\"선택하세요(1: 추가, 2: 삽입, 3: 삭제, 4: 종료)--> \")) \n",
    "        if (select == 1) :\n",
    "            data = input(\"추가할 데이터--> \")\n",
    "            add_data(data)\n",
    "        elif (select == 2) :\n",
    "            pos = int(input(\"삽입할 위치--> \"))\n",
    "            data = input(\"추가할 데이터--> \")\n",
    "            insert_data(pos, data)\n",
    "        elif (select == 3) :\n",
    "            pos = int(input(\"삭제할 위치--> \"))\n",
    "            del_data(pos)\n",
    "        elif (select == 4) :\n",
    "            break\n",
    "        else :\n",
    "            print(\"1~4 중 하나를 입력하세요.\")\n",
    "            continue\n",
    "        print(katok)"
   ]
  }
 ],
 "metadata": {
  "kernelspec": {
   "display_name": "Python 3 (ipykernel)",
   "language": "python",
   "name": "python3"
  },
  "language_info": {
   "codemirror_mode": {
    "name": "ipython",
    "version": 3
   },
   "file_extension": ".py",
   "mimetype": "text/x-python",
   "name": "python",
   "nbconvert_exporter": "python",
   "pygments_lexer": "ipython3",
   "version": "3.9.13"
  }
 },
 "nbformat": 4,
 "nbformat_minor": 5
}
