{
 "cells": [
  {
   "cell_type": "code",
   "execution_count": 2,
   "id": "ae14c949",
   "metadata": {},
   "outputs": [
    {
     "name": "stdout",
     "output_type": "stream",
     "text": [
      "가장 작은 값의 위치 : 3, 가장 작은 값 : 18\n"
     ]
    }
   ],
   "source": [
    "# 최솟값의 위치 반환 함수 정의\n",
    "def min_func(array):\n",
    "    min_idx = 0\n",
    "    for i in range(1, len(array)):\n",
    "        if array[min_idx] > array[i]:\n",
    "            min_idx = i\n",
    "    return min_idx\n",
    "    \n",
    "test_arr = [490, 84,24,18,59]\n",
    "min_idx = min_func(test_arr)\n",
    "print(\"가장 작은 값의 위치 : {}, 가장 작은 값 : {}\".format(min_idx, test_arr[min_idx]))"
   ]
  },
  {
   "cell_type": "code",
   "execution_count": 3,
   "id": "b296f718",
   "metadata": {},
   "outputs": [
    {
     "name": "stdout",
     "output_type": "stream",
     "text": [
      "가장 작은 값의 위치 : 3, 가장 작은 값 : 18\n",
      "가장 큰 값의 위치 : 0, 가장 큰 값 : 490\n"
     ]
    }
   ],
   "source": [
    "# 최댓값의 위치 반환 함수 정의\n",
    "def max_func(array):\n",
    "    max_idx = 0\n",
    "    for i in range(1, len(array)):\n",
    "        if array[max_idx] < array[i]:\n",
    "            max_idx = i\n",
    "    return max_idx\n",
    "\n",
    "test_arr = [490, 84,24,18,59]\n",
    "min_idx = min_func(test_arr)\n",
    "max_idx = max_func(test_arr)\n",
    "print(\"가장 작은 값의 위치 : {}, 가장 작은 값 : {}\".format(min_idx, test_arr[min_idx]))\n",
    "print(\"가장 큰 값의 위치 : {}, 가장 큰 값 : {}\".format(max_idx, test_arr[max_idx]))"
   ]
  },
  {
   "cell_type": "code",
   "execution_count": 4,
   "id": "34f5e7d3",
   "metadata": {},
   "outputs": [
    {
     "name": "stdout",
     "output_type": "stream",
     "text": [
      "정렬 전 ->  [490, 84, 24, 18, 59]\n",
      "정렬 후 ->  [18, 24, 59, 84, 490]\n"
     ]
    }
   ],
   "source": [
    "def min_func(array):\n",
    "    min_idx = 0\n",
    "    for i in range(1, len(array)):\n",
    "        if array[min_idx] > array[i]:\n",
    "            min_idx = i\n",
    "    return min_idx\n",
    "\n",
    "test_arr = [490, 84,24,18,59]\n",
    "result = []\n",
    "print(\"정렬 전 -> \", test_arr)\n",
    "for _ in range(len(test_arr)):\n",
    "    min_idx = min_func(test_arr)\n",
    "    result.append(test_arr[min_idx])   # 새로운 배열에 최솟값 추가\n",
    "    del test_arr[min_idx]\n",
    "    \n",
    "print(\"정렬 후 -> \", result)"
   ]
  },
  {
   "cell_type": "code",
   "execution_count": 6,
   "id": "9e9427a1",
   "metadata": {},
   "outputs": [
    {
     "name": "stdout",
     "output_type": "stream",
     "text": [
      "정렬 전 ->  [122, 47, 69, 23, 100, 68, 21]\n",
      "정렬 후 ->  [21, 23, 47, 68, 69, 100, 122]\n",
      "정렬 후 ->  [122, 100, 69, 68, 47, 23, 21]\n"
     ]
    }
   ],
   "source": [
    "# selection sort 함수 정의\n",
    "def selection_sort(array, reverse=False):\n",
    "    n = len(array)\n",
    "    for i in range(n-1):  # 정렬 횟수\n",
    "        idx = i\n",
    "        for j in range(i+1, n):  # 최솟값의 위치 검색\n",
    "            if reverse:         # 내림차순 정렬\n",
    "                if array[idx] < array[j]:\n",
    "                    idx = j\n",
    "            else:              # 오름차순 정렬\n",
    "                if array[idx] > array[j]:\n",
    "                    idx = j\n",
    "        if idx != i:\n",
    "            array[idx], array[i] = array[i], array[idx]  # 최솟값을 i 의 값과 교환\n",
    "    return array\n",
    "\n",
    "test_array = [122, 47, 69, 23, 100, 68, 21]\n",
    "print(\"정렬 전 -> \", test_array)\n",
    "test_array = selection_sort(test_array)\n",
    "print(\"정렬 후 -> \", test_array)\n",
    "\n",
    "test_array = selection_sort(test_array, reverse=True)   # 내림차순 정렬\n",
    "print(\"정렬 후 -> \", test_array)"
   ]
  },
  {
   "cell_type": "code",
   "execution_count": 8,
   "id": "a6b32146",
   "metadata": {},
   "outputs": [
    {
     "name": "stdout",
     "output_type": "stream",
     "text": [
      "삽입할 위치 ->  0\n",
      "삽입할 위치 ->  1\n"
     ]
    }
   ],
   "source": [
    "# insert할 위치 반환 함수 정의\n",
    "def find_insert_idx(array, data):\n",
    "    idx = -1    # data가 없음 , 초기값\n",
    "    for i in range(len(array)):\n",
    "        if array[i] > data:\n",
    "            idx = i   # 삽입할 위치\n",
    "            break\n",
    "    if idx == -1:\n",
    "        return 0\n",
    "    else:\n",
    "        return idx\n",
    "    \n",
    "test_array = []\n",
    "ins_idx = find_insert_idx(test_array, 55)\n",
    "print(\"삽입할 위치 -> \", ins_idx)\n",
    "\n",
    "test_array = [33, 66, 88, 99]\n",
    "ins_idx = find_insert_idx(test_array, 55)\n",
    "print(\"삽입할 위치 -> \", ins_idx)"
   ]
  },
  {
   "cell_type": "code",
   "execution_count": 14,
   "id": "70c60bf8",
   "metadata": {},
   "outputs": [
    {
     "name": "stdout",
     "output_type": "stream",
     "text": [
      "정렬 전 ->  [188, 162, 88, 50, 70, 200]\n",
      "정렬 후 ->  [50, 70, 88, 162, 188, 200]\n"
     ]
    }
   ],
   "source": [
    "def find_insert_idx(array, data):\n",
    "    idx = -1    # data가 없음 , 초기값\n",
    "    for i in range(len(array)):\n",
    "        if array[i] > data:\n",
    "            idx = i   # 삽입할 위치\n",
    "            break            \n",
    "    if idx == -1:\n",
    "        return len(array)\n",
    "    else:\n",
    "        return idx\n",
    "    \n",
    "test_array = [188,162,88,50,70,200]\n",
    "result = []\n",
    "print(\"정렬 전 -> \", test_array)\n",
    "for data in test_array:\n",
    "    idx = find_insert_idx(result, data)\n",
    "    result.insert(idx, data)\n",
    "print(\"정렬 후 -> \", result)"
   ]
  },
  {
   "cell_type": "code",
   "execution_count": 15,
   "id": "95a6aae4",
   "metadata": {},
   "outputs": [
    {
     "name": "stdout",
     "output_type": "stream",
     "text": [
      "정렬 전 ->  [188, 162, 88, 50, 70, 200]\n",
      "정렬 후 ->  [50, 70, 88, 162, 188, 200]\n"
     ]
    }
   ],
   "source": [
    "# insertion sort를 개선한 함수 -> 배열 사용 안함\n",
    "def insertion_sort(array):\n",
    "    n = len(array)\n",
    "    for end in range(1,n):   # 정렬 횟수\n",
    "        for curr in range(end, 0, -1):\n",
    "            if array[curr] < array[curr -1]:\n",
    "                array[curr], array[curr -1] = array[curr-1], array[curr]\n",
    "    return array\n",
    "\n",
    "test_array = [188,162,88,50,70,200]\n",
    "print(\"정렬 전 -> \", test_array)\n",
    "test_array = insertion_sort(test_array)\n",
    "print(\"정렬 후 -> \", result)"
   ]
  },
  {
   "cell_type": "code",
   "execution_count": 27,
   "id": "40fe4b83",
   "metadata": {},
   "outputs": [
    {
     "name": "stdout",
     "output_type": "stream",
     "text": [
      "정렬 후 ->  [['영웅', 67], ['화사', 71], ['영탁', 78], ['선미', 88], ['민호', 92], ['초아', 99]]\n",
      "\n",
      "---- 성적 최고점과 최저점을 순서대로 짝을 이룸 ----\n",
      "영웅  :  초아\n",
      "화사  :  민호\n",
      "영탁  :  선미\n"
     ]
    }
   ],
   "source": [
    "# 문) 성적순으로 정렬한 후 성적이 가장 높은 학생과 성적이 가장 낮은 학생 순으로 조를 출력\n",
    "students = [['선미', 88], ['초아', 99], ['화사', 71], ['영탁', 78], ['영웅', 67], ['민호', 92]]\n",
    "\n",
    "def insert_sort(array):\n",
    "    n = len(array)\n",
    "    for end in range(1,n):   # 정렬 횟수\n",
    "        for curr in range(end, 0, -1):\n",
    "            if array[curr][1] < array[curr -1][1]:\n",
    "                array[curr], array[curr -1] = array[curr-1], array[curr]\n",
    "    return array\n",
    "students = insert_sort(students)\n",
    "print(\"정렬 후 -> \", students)\n",
    "print()\n",
    "print(\"---- 성적 최고점과 최저점을 순서대로 짝을 이룸 ----\")\n",
    "n = len(students)\n",
    "for  i in range(n//2):\n",
    "    print(students[i][0], ' : ', students[n-i-1][0])"
   ]
  },
  {
   "cell_type": "code",
   "execution_count": 40,
   "id": "d1054ff9",
   "metadata": {},
   "outputs": [
    {
     "name": "stdout",
     "output_type": "stream",
     "text": [
      "[1, 20, 23, 33, 38, 44, 47, 55, 76, 88, 99, 145, 155, 199, 222, 250]\n",
      "76\n"
     ]
    }
   ],
   "source": [
    "# 2차원 배열에서 중앙 값을 찾음\n",
    "# 1. 2차원 배열을 1차원으로 평탄화\n",
    "# 2. 위의 결과를 가지고 정렬\n",
    "# 3. 중앙값 찾음\n",
    "list_arr = [[55,33,250,44], [88,1,76,23], [199,222,38,47], [155,145,20,99]]\n",
    "list_result = [ar for arr in list_arr for ar in arr]\n",
    "\n",
    "list_result = insertion_sort(list_result)\n",
    "print(list_result)\n",
    "\n",
    "n= len(list_result)\n",
    "print(list_result[len(list_result)//2])\n",
    "\n"
   ]
  },
  {
   "cell_type": "code",
   "execution_count": 227,
   "id": "78a8e954",
   "metadata": {},
   "outputs": [
    {
     "name": "stdout",
     "output_type": "stream",
     "text": [
      "정렬 후 ->  [50, 70, 88, 162, 188, 200] 9\n"
     ]
    }
   ],
   "source": [
    "# bubble sort : 현재의 뒤의 자료를 비교한 후 가장 큰 값이 제일 뒤로 이동됨\n",
    "def bubble_sort(array):\n",
    "    global count\n",
    "    n = len(array)\n",
    "    for end in range(n-1, 0, -1):  # 정렬 횟수\n",
    "        sw = False     # 정렬이 이루어졌는지 확인\n",
    "        for curr in range(0, end):\n",
    "            if array[curr] > array[curr + 1]:\n",
    "                sw = True\n",
    "                count += 1\n",
    "                array[curr], array[curr +1] = array[curr +1], array[curr]\n",
    "#         if sw == False:\n",
    "        if not sw:\n",
    "            break\n",
    "    return array\n",
    "count = 0\n",
    "test_array = [188,162,88,50,70,200]\n",
    "test_array = bubble_sort(test_array)\n",
    "print(\"정렬 후 -> \", result, count)"
   ]
  },
  {
   "cell_type": "code",
   "execution_count": 294,
   "id": "dcda85d3",
   "metadata": {},
   "outputs": [
    {
     "name": "stdout",
     "output_type": "stream",
     "text": [
      "정렬 후 ->  [6, 19, 25, 26, 32, 38, 43, 66, 81, 83, 104, 105, 121, 146, 148, 162, 172, 175, 185, 196], 실행 횟수 : 120\n"
     ]
    }
   ],
   "source": [
    "# 문) 0부터 200까지의 수 중에서 랜덤하게 숫자 20개를 생성한 후 내림차순으로 정렬\n",
    "# 정렬 결과와 정렬을 수행한 횟수도 출력\n",
    "\n",
    "import random\n",
    "\n",
    "list_random = []\n",
    "for i in range(200):\n",
    "    list_random.append(i)\n",
    "list_random=random.sample(list_random, k=20)\n",
    "count = 0\n",
    "random.seed(20)\n",
    "\n",
    "list_random= bubble_sort(list_random)\n",
    "print(f\"정렬 후 ->  {list_random}, 실행 횟수 : {count}\")"
   ]
  },
  {
   "cell_type": "code",
   "execution_count": 275,
   "id": "8a964fa9",
   "metadata": {},
   "outputs": [
    {
     "name": "stdout",
     "output_type": "stream",
     "text": [
      "정렬 후 -> [50, 70, 88, 162, 188, 200], 실행 횟수 -> 16\n"
     ]
    }
   ],
   "source": [
    "# quick sort : 중간값을 지정한 후 중간값보다 작으면 왼쪽 리스트에, 크면 오른쪽 리스트에\n",
    "# list의 갯수가 1일 때까지 반복(재귀함수 사용)\n",
    "def quick_sort(array):\n",
    "    global count\n",
    "    n = len(array)    # 리스트의 길이 구함\n",
    "    if n <= 1:     # 재귀함수 탈출 조건\n",
    "        return array\n",
    "    pivot = array[n//2]   # 기준 값을 중간 값으로 지정\n",
    "    left_array, right_array = [], []\n",
    "    \n",
    "    for num in array:\n",
    "        count += 1\n",
    "        if num < pivot:\n",
    "            left_array.append(num)\n",
    "        elif num > pivot:\n",
    "            right_array.append(num)\n",
    "            \n",
    "    return quick_sort(left_array) + [pivot] + quick_sort(right_array)\n",
    "count = 0\n",
    "random.seed(20)\n",
    "test_array = [188,162,88,50,70,200]\n",
    "test_array = quick_sort(test_array)\n",
    "print(f\"정렬 후 -> {result}, 실행 횟수 -> {count}\")"
   ]
  },
  {
   "cell_type": "code",
   "execution_count": 312,
   "id": "cfb804fa",
   "metadata": {},
   "outputs": [
    {
     "name": "stdout",
     "output_type": "stream",
     "text": [
      "정렬 후 -> [3, 8, 11, 19, 41, 52, 63, 71, 83, 92, 107, 109, 118, 123, 125, 133, 146, 147, 167, 190], 실행 횟수 -> 87\n"
     ]
    }
   ],
   "source": [
    "# 문) 0부터 200까지의 수 중에서 랜덤하게 숫자 20개를 생성한 후 내림차순으로 정렬\n",
    "# 정렬 결과와 정렬을 수행한 횟수도 출력\n",
    "list_random = []\n",
    "count = 0\n",
    "random.seed(10)\n",
    "for i in range(200):\n",
    "    list_random.append(i)\n",
    "list_random=random.sample(list_random, k=20)\n",
    "list_random = quick_sort(list_random)\n",
    "print(f\"정렬 후 -> {list_random}, 실행 횟수 -> {count}\")"
   ]
  },
  {
   "cell_type": "code",
   "execution_count": 313,
   "id": "25da9fd1",
   "metadata": {},
   "outputs": [
    {
     "name": "stdout",
     "output_type": "stream",
     "text": [
      "정렬 후 -> [3, 8, 11, 19, 41, 52, 63, 71, 83, 92, 107, 109, 118, 123, 125, 133, 146, 147, 167, 190], 실행 횟수 -> 87\n"
     ]
    }
   ],
   "source": [
    "# quick sort : 중간값을 지정한 후 중간값보다 작으면 왼쪽 리스트에, 크면 오른쪽 리스트에\n",
    "# list의 갯수가 1일 때까지 반복(재귀함수 사용)\n",
    "def quick_sort_dup(array):\n",
    "    global count\n",
    "    n = len(array)    # 리스트의 길이 구함\n",
    "    if n <= 1:     # 재귀함수 탈출 조건\n",
    "        return array\n",
    "    pivot = array[n//2]   # 기준 값을 중간 값으로 지정\n",
    "    left_array,mid_array, right_array = [], [], []\n",
    "    \n",
    "    for num in array:\n",
    "        count += 1\n",
    "        if num < pivot:\n",
    "            left_array.append(num)\n",
    "        elif num > pivot:\n",
    "            right_array.append(num)\n",
    "        else:\n",
    "            mid_array.append(num)\n",
    "            \n",
    "    return quick_sort_dup(left_array) + mid_array + quick_sort_dup(right_array)\n",
    "list_random = []\n",
    "count = 0\n",
    "random.seed(10)\n",
    "for i in range(200):\n",
    "    list_random.append(i)\n",
    "list_random=random.sample(list_random, k=20)\n",
    "list_random = quick_sort_dup(list_random)\n",
    "print(f\"정렬 후 -> {list_random}, 실행 횟수 -> {count}\")"
   ]
  },
  {
   "cell_type": "code",
   "execution_count": 346,
   "id": "034926ff",
   "metadata": {},
   "outputs": [
    {
     "name": "stdout",
     "output_type": "stream",
     "text": [
      "정렬 후 -> [3, 8, 11, 19, 41, 52, 63, 71, 83, 92, 107, 109, 118, 123, 125, 133, 146, 147, 167, 190], 실행 횟수 -> 87\n",
      "정렬 후 -> [3, 8, 11, 19, 41, 52, 63, 71, 83, 92, 107, 109, 118, 123, 125, 133, 146, 147, 167, 190], 실행 횟수 -> 66\n"
     ]
    }
   ],
   "source": [
    "list_random = []\n",
    "random.seed(10)\n",
    "for i in range(200):\n",
    "    list_random.append(i)\n",
    "list_random=random.sample(list_random, k=20)\n",
    "count =0\n",
    "list_random = quick_sort_dup(list_random)\n",
    "print(f\"정렬 후 -> {list_random}, 실행 횟수 -> {count}\")\n",
    "count = 0\n",
    "list_random = quick_sort(list_random)\n",
    "print(f\"정렬 후 -> {list_random}, 실행 횟수 -> {count}\")"
   ]
  },
  {
   "cell_type": "code",
   "execution_count": 347,
   "id": "5a2861b5",
   "metadata": {},
   "outputs": [
    {
     "name": "stdout",
     "output_type": "stream",
     "text": [
      "정렬 후 -> [3, 8, 11, 19, 41, 52, 63, 71, 83, 92, 107, 109, 118, 123, 125, 133, 146, 147, 167, 190], 실행 횟수 -> 20 \n"
     ]
    }
   ],
   "source": [
    "# 추가의 배열을 사용하지 않고 값을 교환하면서 정렬 진행\n",
    "def Qsort(array, start, end):\n",
    "    global count\n",
    "    if end <= start:\n",
    "        count += 1\n",
    "        return\n",
    "    low = start\n",
    "    high = end\n",
    "#     count += 1\n",
    "    pivot = array[(low + high)//2]  # 기준값 <- 중간 값으로 설정\n",
    "    while low <= high:\n",
    "        while array[low] < pivot:  # pivot보다 low의 값이 작으면 low 증가\n",
    "            low += 1\n",
    "        while array[high] > pivot:  # pivot보다 high의 값이 크면 high 감소\n",
    "            high -= 1\n",
    "        if low <= high:\n",
    "            array[low], array[high] = array[high], array[low]\n",
    "            low += 1\n",
    "            high -= 1\n",
    "#             count += 1\n",
    "    mid = low\n",
    "    Qsort(array, start, mid -1)\n",
    "    Qsort(array, mid, end)\n",
    "count = 0\n",
    "Qsort(list_random, 0, len(list_random)-1)\n",
    "print(f\"정렬 후 -> {list_random}, 실행 횟수 -> {count} \")"
   ]
  }
 ],
 "metadata": {
  "kernelspec": {
   "display_name": "Python 3 (ipykernel)",
   "language": "python",
   "name": "python3"
  },
  "language_info": {
   "codemirror_mode": {
    "name": "ipython",
    "version": 3
   },
   "file_extension": ".py",
   "mimetype": "text/x-python",
   "name": "python",
   "nbconvert_exporter": "python",
   "pygments_lexer": "ipython3",
   "version": "3.9.13"
  }
 },
 "nbformat": 4,
 "nbformat_minor": 5
}
