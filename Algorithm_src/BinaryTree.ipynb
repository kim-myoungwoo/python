{
 "cells": [
  {
   "cell_type": "code",
   "execution_count": 1,
   "id": "3167611d",
   "metadata": {},
   "outputs": [],
   "source": [
    "# 이진 트리 구조 실습\n",
    "class TreeNode():\n",
    "    def __init__(self):\n",
    "        self.left = None\n",
    "        self.data = None\n",
    "        self.right = None"
   ]
  },
  {
   "cell_type": "code",
   "execution_count": 7,
   "id": "a67d5473",
   "metadata": {},
   "outputs": [],
   "source": [
    "node1 = TreeNode() # 빈 노드 생성\n",
    "node1.data = '화사'\n",
    "\n",
    "node2 = TreeNode()\n",
    "node2.data = '솔라'\n",
    "# node1의 left에 node2 연결\n",
    "node1.left = node2\n",
    "\n",
    "node3 = TreeNode() # 빈 노드 생성\n",
    "node3.data = '문별'\n",
    "# node1의 right에 node3 연결\n",
    "node1.right = node3\n",
    "\n",
    "node4 = TreeNode() # 빈 노드 생성\n",
    "node4.data = '휘인'\n",
    "\n",
    "# node2의 left에 node4 연결\n",
    "node2.left = node4\n",
    "\n",
    "node5 = TreeNode() # 빈 노드 생성\n",
    "node5.data = '쯔위'\n",
    "# node1의 right에 node3 연결\n",
    "node2.right = node5\n",
    "\n",
    "node6 = TreeNode() # 빈 노드 생성\n",
    "node6.data = '사나'\n",
    "# node1의 left에 node3 연결\n",
    "node3.left = node6\n",
    "\n"
   ]
  },
  {
   "cell_type": "code",
   "execution_count": 9,
   "id": "5be79567",
   "metadata": {},
   "outputs": [
    {
     "name": "stdout",
     "output_type": "stream",
     "text": [
      "화사\n",
      "솔라 문별\n",
      "휘인 쯔위 사나\n"
     ]
    }
   ],
   "source": [
    "print(node1.data)\n",
    "print(node1.left.data,node1.right.data)\n",
    "print(node1.left.left.data,node1.left.right.data,node1.right.left.data)"
   ]
  },
  {
   "cell_type": "code",
   "execution_count": 70,
   "id": "aca325c0",
   "metadata": {},
   "outputs": [],
   "source": [
    "# 함수로 정의 : 3가지 방법으로\n",
    "# 전위 함수 : 현재 데이터 처리 -> 왼쪽 -> 오른쪽\n",
    "def preorder(node):\n",
    "    if node == None:\n",
    "        return\n",
    "    print(node.data, end=' -> ')\n",
    "    preorder(node.left)\n",
    "    preorder(node.right)\n",
    "    \n",
    "# 중위 함수 : 현재 왼쪽 -> 데이터 처리 -> -> 오른쪽\n",
    "def inorder(node):\n",
    "    if node == None:\n",
    "        return\n",
    "    inorder(node.left)\n",
    "    print(node.data, end=' -> ')\n",
    "    inorder(node.right)\n",
    "    \n",
    "# 후위 함수 : 현재 왼쪽 -> 오른쪽 -> 데이터 처리\n",
    "def postorder(node):\n",
    "    if node == None:\n",
    "        return\n",
    "    postorder(node.left)\n",
    "    postorder(node.right)\n",
    "    print(node.data, end=' -> ')"
   ]
  },
  {
   "cell_type": "code",
   "execution_count": 12,
   "id": "505ec473",
   "metadata": {},
   "outputs": [
    {
     "name": "stdout",
     "output_type": "stream",
     "text": [
      "전위 순회 -> : 화사 -> 솔라 -> 휘인 -> 쯔위 -> 문별 -> 사나 -> end\n",
      "중위 순회 -> : 휘인 -> 솔라 -> 쯔위 -> 화사 -> 사나 -> 문별 -> end\n",
      "후위 순회 -> : 휘인 -> 쯔위 -> 솔라 -> 사나 -> 문별 -> 화사 -> end\n"
     ]
    }
   ],
   "source": [
    "print(\"전위 순회 ->\", end =' : ')\n",
    "preorder(node1)\n",
    "print('end')\n",
    "\n",
    "print(\"중위 순회 ->\", end =' : ')\n",
    "inorder(node1)\n",
    "print('end')\n",
    "\n",
    "print(\"후위 순회 ->\", end =' : ')\n",
    "postorder(node1)\n",
    "print('end')"
   ]
  },
  {
   "cell_type": "code",
   "execution_count": 44,
   "id": "764bf0b5",
   "metadata": {},
   "outputs": [
    {
     "name": "stdout",
     "output_type": "stream",
     "text": [
      "블랙핑크 -> 레드벨벳 -> 걸스데이 -> 마마무 -> 에이핑크 -> 트와이스 -> 이진 검색 트리 완성 None\n"
     ]
    }
   ],
   "source": [
    "# 순차 이진트리 완성  --> insert_tree(new_node)\n",
    "class TreeNode():\n",
    "    def __init__(self):\n",
    "        self.left = None\n",
    "        self.data = None\n",
    "        self.right = None\n",
    "        \n",
    "def insert_node(new_node):\n",
    "    global root\n",
    "    \n",
    "    if root == None:  # 처음 자료이면 root로 지정\n",
    "        root = new_node\n",
    "        return\n",
    "    \n",
    "    node = root\n",
    "    while True:\n",
    "        if new_node.data < node.data:  # left node 로 추가\n",
    "            if node.left == None:\n",
    "                node.left = new_node\n",
    "                break\n",
    "            node = node.left   # 다음 검색할 node 로 이동\n",
    "        else:    # right node 로 추가\n",
    "            if node.right == None:\n",
    "                node.right = new_node\n",
    "                break\n",
    "            node = node.right   # 다음 검색할 node 로 이동\n",
    "names = ['블랙핑크', '레드벨벳', '마마무', '에이핑크', '걸스데이', '트와이스']\n",
    "root = None\n",
    "node = TreeNode()\n",
    "node.data = names[0] # 블랙핑크를 root로 지정\n",
    "        \n",
    "root = node\n",
    "for name in names[1:]:\n",
    "    node = TreeNode()\n",
    "    node.data = name\n",
    "    \n",
    "    # 이진 트리에 추가\n",
    "    curr_node = root\n",
    "    while True:\n",
    "        if name < curr_node.data:  # left node 로 추가\n",
    "            if curr_node.left == None:\n",
    "                curr_node.left = node\n",
    "                break\n",
    "            curr_node = curr_node.left   # 다음 검색할 node 로 이동\n",
    "        else:    # right node 로 추가\n",
    "            if curr_node.right == None:\n",
    "                curr_node.right = node\n",
    "                break\n",
    "            curr_node = curr_node.right   # 다음 검색할 node 로 이동\n",
    "            \n",
    "print(\"이진 검색 트리 완성\", preorder(root))"
   ]
  },
  {
   "cell_type": "code",
   "execution_count": null,
   "id": "172578d0",
   "metadata": {},
   "outputs": [],
   "source": []
  },
  {
   "cell_type": "code",
   "execution_count": 89,
   "id": "17d15d3d",
   "metadata": {},
   "outputs": [],
   "source": [
    "## 도서목록 검색하기\n",
    "import random\n",
    "        \n",
    "# 순차 이진트리 완성  --> insert_tree(new_node)\n",
    "class TreeNode:\n",
    "    def __init__(self):\n",
    "        self.left = None\n",
    "        self.data = None\n",
    "        self.right = None\n",
    "        \n",
    "def insert_node(new_node):\n",
    "    global root\n",
    "    \n",
    "    if root == None:  # 처음 자료이면 root로 지정\n",
    "        root = new_node\n",
    "        return\n",
    "    \n",
    "    node = root\n",
    "    while True:\n",
    "        if new_node.data[0] < node.data[0]:  # left node 로 추가\n",
    "            if node.left == None:\n",
    "                node.left = new_node\n",
    "                return\n",
    "            node = node.left   # 다음 검색할 node 로 이동\n",
    "        else:    # right node 로 추가\n",
    "            if node.right == None:\n",
    "                node.right = new_node\n",
    "                return\n",
    "            node = node.right   # 다음 검색할 node 로 이동\n",
    "            \n",
    "def search_node(book):\n",
    "    global root\n",
    "    cnt = 0\n",
    "    node = root\n",
    "    while True:\n",
    "        cnt += 1\n",
    "        if node.data[0] == book:\n",
    "            return cnt, node \n",
    "        if node.data[0] > book:\n",
    "            if node.left == None:\n",
    "                return cnt, None\n",
    "            node = node.left\n",
    "        else:\n",
    "            if node.right == None:\n",
    "                return cnt, None\n",
    "            node = node.right\n",
    "# 함수로 정의 : 3가지 방법으로\n",
    "# 전위 함수 : 현재 데이터 처리 -> 왼쪽 -> 오른쪽\n",
    "def preorder(node):\n",
    "    if node == None:\n",
    "        return\n",
    "    print(node.data, end=' -> ')\n",
    "    preorder(node.left)\n",
    "    preorder(node.right)\n",
    "    \n",
    "# 중위 함수 : 현재 왼쪽 -> 데이터 처리 -> -> 오른쪽\n",
    "def inorder(node):\n",
    "    if node == None:\n",
    "        return\n",
    "    inorder(node.left)\n",
    "    print(node.data, end=' -> ')\n",
    "    inorder(node.right)\n",
    "    \n",
    "# 후위 함수 : 현재 왼쪽 -> 오른쪽 -> 데이터 처리\n",
    "def postorder(node):\n",
    "    if node == None:\n",
    "        return\n",
    "    postorder(node.left)\n",
    "    postorder(node.right)\n",
    "    print(node.data, end=' -> ')"
   ]
  },
  {
   "cell_type": "code",
   "execution_count": 90,
   "id": "39129701",
   "metadata": {},
   "outputs": [],
   "source": [
    "root = None\n",
    "bookAry = [['어린왕자','쌩떽쥐베리'],['이방인', '까위'], ['부활', '톨스토이'], ['신곡', '단테'], ['돈키호테', '세브반데스'], ['동물농장', '조지오웰'], ['데미안', '헤르만헤세'], \n",
    "           ['파우스트', '괴테'], ['대지', '펄벅']]\n",
    "random.shuffle(bookAry)\n",
    "# 책이름을 입력하면 작가를 출력 -> 몇회 만에 검색했는지 횟수 출력\n",
    "#       책 이름으로 이진트리 구성\n",
    "node = TreeNode()\n",
    "node.data = bookAry[0]\n",
    "root = node\n",
    "\n",
    "for book in bookAry[1:]:\n",
    "    node = TreeNode()\n",
    "    node.data = book\n",
    "    insert_node(node)"
   ]
  },
  {
   "cell_type": "code",
   "execution_count": 91,
   "id": "7aa09c05",
   "metadata": {},
   "outputs": [
    {
     "name": "stdout",
     "output_type": "stream",
     "text": [
      "['대지', '펄벅'] -> ['데미안', '헤르만헤세'] -> ['돈키호테', '세브반데스'] -> ['동물농장', '조지오웰'] -> ['부활', '톨스토이'] -> ['신곡', '단테'] -> ['어린왕자', '쌩떽쥐베리'] -> ['이방인', '까위'] -> ['파우스트', '괴테'] -> "
     ]
    }
   ],
   "source": [
    "inorder(root)"
   ]
  },
  {
   "cell_type": "code",
   "execution_count": 96,
   "id": "ee1c3b28",
   "metadata": {},
   "outputs": [
    {
     "name": "stdout",
     "output_type": "stream",
     "text": [
      "검색할 책 제목 입력 --> 동물농장\n",
      "동물농장 : 조지오웰, 검색 횟수 : 4\n"
     ]
    }
   ],
   "source": [
    "## 책 이름 검색\n",
    "findbook = input('검색할 책 제목 입력 --> ')\n",
    "cnt, node = search_node(findbook)\n",
    "if node:\n",
    "    print(f'{node.data[0]} : {node.data[1]}, 검색 횟수 : {cnt}')\n",
    "else:\n",
    "    print('검색할 책 자료 없음')"
   ]
  },
  {
   "cell_type": "code",
   "execution_count": null,
   "id": "0c9c77ca",
   "metadata": {},
   "outputs": [],
   "source": []
  }
 ],
 "metadata": {
  "kernelspec": {
   "display_name": "Python 3 (ipykernel)",
   "language": "python",
   "name": "python3"
  },
  "language_info": {
   "codemirror_mode": {
    "name": "ipython",
    "version": 3
   },
   "file_extension": ".py",
   "mimetype": "text/x-python",
   "name": "python",
   "nbconvert_exporter": "python",
   "pygments_lexer": "ipython3",
   "version": "3.9.13"
  }
 },
 "nbformat": 4,
 "nbformat_minor": 5
}
