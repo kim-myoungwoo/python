{
 "cells": [
  {
   "cell_type": "markdown",
   "id": "9a4f2a66",
   "metadata": {},
   "source": [
    "## single_linked list"
   ]
  },
  {
   "cell_type": "code",
   "execution_count": 4,
   "id": "77940513",
   "metadata": {},
   "outputs": [
    {
     "name": "stdout",
     "output_type": "stream",
     "text": [
      "node1 :  다현\n",
      "node2 :  정연\n",
      "node3 :  쯔위\n"
     ]
    }
   ],
   "source": [
    "# 데이터가 5개인 단순 연결 리스트\n",
    "# katok = ['다현' ,'정연' ,'쯔위', '사나', '지효']\n",
    "class Node:\n",
    "    def __init__(self):\n",
    "        self.data = None\n",
    "        self.link = None\n",
    "        \n",
    "node1 = Node()  # node1.data <- None,   node1.link <- None\n",
    "node1.data = '다현'\n",
    "node2 = Node()\n",
    "node2.data = '정연'\n",
    "node1.link = node2   #node1의 다음 자료는 node2\n",
    "node3 = Node()\n",
    "node3.data = '쯔위'\n",
    "node2.link = node3   # node2의 다음 자료는 node3\n",
    "print(\"node1 : \", node1.data)\n",
    "print(\"node2 : \", node1.link.data)\n",
    "print(\"node3 : \", node1.link.link.data)"
   ]
  },
  {
   "cell_type": "code",
   "execution_count": 5,
   "id": "5a11c1e1",
   "metadata": {},
   "outputs": [
    {
     "name": "stdout",
     "output_type": "stream",
     "text": [
      "다현\n",
      "정연\n",
      "쯔위\n"
     ]
    }
   ],
   "source": [
    "node = node1\n",
    "while node.link:     # node.link의 값이 존재하면  -> 다음 자료가 있으면\n",
    "    print(node.data)\n",
    "    node = node.link\n",
    "print(node.data)     # 마지막 자료 출력"
   ]
  },
  {
   "cell_type": "code",
   "execution_count": 16,
   "id": "0f39f302",
   "metadata": {},
   "outputs": [],
   "source": [
    "class Node:\n",
    "    def __init__(self):\n",
    "        self.data = None\n",
    "        self.link = None\n",
    "def add_node(new_node):   # 마지막에 데이터 추가\n",
    "    global head\n",
    "    if head == None:\n",
    "        head = new_node\n",
    "        return\n",
    "    node = head   # 처음 node 지정\n",
    "    while node.link:\n",
    "        node = node.link\n",
    "    node.link = new_node\n",
    "def print_node():\n",
    "    node = head\n",
    "    while node:\n",
    "        output = node.data\n",
    "        node = node.link\n",
    "        if node:\n",
    "            output += ' => '\n",
    "        print(output, end='')"
   ]
  },
  {
   "cell_type": "code",
   "execution_count": 22,
   "id": "2ebf3ff0",
   "metadata": {},
   "outputs": [
    {
     "name": "stdout",
     "output_type": "stream",
     "text": [
      "추가할 이름 입력 : da\n",
      "추가할 이름 입력 : rg\n",
      "추가할 이름 입력 : \n",
      "da => rg"
     ]
    }
   ],
   "source": [
    "head = None\n",
    "while True:\n",
    "    data = input(\"추가할 이름 입력 : \")\n",
    "    if not data:\n",
    "        break\n",
    "        \n",
    "    node = Node()\n",
    "    node.data = data\n",
    "    add_node(node)\n",
    "print_node()"
   ]
  },
  {
   "cell_type": "code",
   "execution_count": 33,
   "id": "904b033e",
   "metadata": {},
   "outputs": [],
   "source": [
    "def insert_node(new_node):   # 마지막에 데이터 추가\n",
    "    global head\n",
    "    if head == None:          # 처음 node인 경우, head에 추가할 node 주소 저장\n",
    "        head = new_node\n",
    "        return\n",
    "    node = head   # 처음 node 지정\n",
    "    while node.link:     # 추가할 위치 검색 후 node 추가\n",
    "        if node.data > new_node.data:\n",
    "            if node == head:             # 제일 앞에 추가할 경우\n",
    "                head = new_node\n",
    "                new_node.link = node\n",
    "            else:     # 중간 node 삽입\n",
    "                prev.link = new_node     # 이전 node에 새로운 node 연결\n",
    "                new_node.link = node     # 새로운 node에 현재 node 연결\n",
    "            return\n",
    "        prev = node                      # 이전 node 저장\n",
    "        node = node.link                 # 다음 node로 이동\n",
    "    # 추가할 위치 없음 -> 마지막에 node 추가\n",
    "    if head == node and node.data > new_node.data:\n",
    "        head = new_node\n",
    "        new_node.link=node\n",
    "    else:\n",
    "        node.link = new_node  # 마지막 node 에 추가\n",
    "        \n",
    "def delete_node(name):\n",
    "    global head\n",
    "    node = head\n",
    "    while node:\n",
    "        if name == node.data:\n",
    "            if node == head:      # 삭제할 node 가 처음 node 인 경우\n",
    "                head = node.link\n",
    "            else:\n",
    "                if node.link:     # 삭제할 node 가 중간 node 인 경우\n",
    "                    prev.link = node.link\n",
    "                else:             # 삭제할 node 가 마지막 node 인 경우\n",
    "                    prev.link = None\n",
    "            del node   # node 메모리 삭제\n",
    "            return\n",
    "        prev = node\n",
    "        node = node.link"
   ]
  },
  {
   "cell_type": "code",
   "execution_count": 26,
   "id": "3697cc80",
   "metadata": {},
   "outputs": [
    {
     "name": "stdout",
     "output_type": "stream",
     "text": [
      "추가할 이름 입력 : ..\n",
      "..추가할 이름 입력 : aa\n",
      ".. => aa추가할 이름 입력 : ml\n",
      ".. => aa => ml추가할 이름 입력 : 가\n",
      ".. => aa => ml => 가추가할 이름 입력 : dd\n",
      ".. => aa => dd => ml => 가추가할 이름 입력 : //\n",
      ".. => // => aa => dd => ml => 가추가할 이름 입력 : 0\n",
      ".. => // => 0 => aa => dd => ml => 가추가할 이름 입력 : !\n",
      "! => .. => // => 0 => aa => dd => ml => 가추가할 이름 입력 : ~\n",
      "! => .. => // => 0 => aa => dd => ml => 가 => ~추가할 이름 입력 : `\n",
      "! => .. => // => 0 => ` => aa => dd => ml => 가 => ~추가할 이름 입력 : '\n",
      "! => ' => .. => // => 0 => ` => aa => dd => ml => 가 => ~추가할 이름 입력 : |\n",
      "! => ' => .. => // => 0 => ` => aa => dd => ml => | => 가 => ~추가할 이름 입력 : >\n",
      "! => ' => .. => // => 0 => > => ` => aa => dd => ml => | => 가 => ~추가할 이름 입력 : >\n",
      "! => ' => .. => // => 0 => > => > => ` => aa => dd => ml => | => 가 => ~추가할 이름 입력 : <\n",
      "! => ' => .. => // => 0 => < => > => > => ` => aa => dd => ml => | => 가 => ~추가할 이름 입력 : \n",
      "! => ' => .. => // => 0 => < => > => > => ` => aa => dd => ml => | => 가 => ~"
     ]
    }
   ],
   "source": [
    "head = None\n",
    "while True:\n",
    "    data = input(\"추가할 이름 입력 : \")\n",
    "    if not data:\n",
    "        break\n",
    "        \n",
    "    node = Node()\n",
    "    node.data = data\n",
    "    insert_node(node)\n",
    "    print_node()\n",
    "print_node()   # 최종 자료 출력"
   ]
  },
  {
   "cell_type": "code",
   "execution_count": 27,
   "id": "8338b317",
   "metadata": {},
   "outputs": [
    {
     "name": "stdout",
     "output_type": "stream",
     "text": [
      "! => ' => .. => // => 0 => < => > => > => ` => aa => dd => ml => | => 가 => ~"
     ]
    }
   ],
   "source": [
    "print_node()"
   ]
  },
  {
   "cell_type": "code",
   "execution_count": 44,
   "id": "f6ef4397",
   "metadata": {},
   "outputs": [
    {
     "name": "stdout",
     "output_type": "stream",
     "text": [
      "삭제할 이름 입력ㅣㅣ\n",
      "0 => aa => dd => ml"
     ]
    }
   ],
   "source": [
    "del_data = input(\"삭제할 이름 입력\")\n",
    "delete_node(del_data)\n",
    "print_node()"
   ]
  },
  {
   "cell_type": "code",
   "execution_count": 70,
   "id": "f19aa482",
   "metadata": {},
   "outputs": [],
   "source": [
    "class Node:\n",
    "    def __init__(self):\n",
    "        self.name = None\n",
    "        self.score = None\n",
    "        self.link = None"
   ]
  },
  {
   "cell_type": "code",
   "execution_count": 71,
   "id": "56fbf263",
   "metadata": {},
   "outputs": [],
   "source": [
    "# 학생의 이름, 성적을 입력하여 성적 순으로 싱글링크드 리스트로 자료를 생성\n",
    "# 1. 학생 정보 입력\n",
    "# 2. 학생 전체 목록 출력\n",
    "# 3. 학생 정보 검색    ->    이름을 입력 받아 해당 학생의 이름, 성적을 출력\n",
    "# 4. 학생 정보 수정    ->    이름을 입력 받아 학생의 정보 출력 후 점수를 입력을 받아 새로운 점수로 수정\n",
    "# 5. 학생 정보 삭제    ->    이름을 입력 받아 검색 한 후 정보 삭제\n",
    "# 9. 프로그램 종료\n",
    "def prt_menu():\n",
    "    menu = '''\\\n",
    "    1. 학생 정보 입력\n",
    "    2. 학생 전체 목록 출력\n",
    "    3. 학생 정보 검색  \n",
    "    4. 학생 정보 수정\n",
    "    5. 학생 정보 삭제\n",
    "    9. 프로그램 종료\n",
    "    \n",
    "    '''\n",
    "    print(menu)"
   ]
  },
  {
   "cell_type": "code",
   "execution_count": 72,
   "id": "fc8ad57e",
   "metadata": {},
   "outputs": [],
   "source": [
    "def insert_node(new_node):   # 마지막에 데이터 추가\n",
    "    global head\n",
    "    if head == None:   # 처음 node인 경우, head 에 추가할 node  주소 저장\n",
    "        head = new_node\n",
    "        return\n",
    "    node = head    # 처음  node  지정\n",
    "    while node.link:     # 추가할 위치 검색 후 node 추가\n",
    "        if node.score > new_node.score:\n",
    "            if node == head:    # 제일 앞에 추가할 경우\n",
    "                head = new_node\n",
    "                new_node.link = node\n",
    "            else:  # 중간 node  삽입\n",
    "                prev.link = new_node   # 이전 node에 새로운 node 연결\n",
    "                new_node.link = node   # 새로운 node에 현재 node 연결\n",
    "            return\n",
    "        prev = node        #  이전 node 저장\n",
    "        node = node.link   # 다음 node로 이동    \n",
    "    # 추가할 위치 없음 -> 마지막에 node  추가\n",
    "    if head == node and node.score > new_node.score:\n",
    "        head = new_node\n",
    "        new_node.link = node\n",
    "    else:\n",
    "        node.link = new_node  # 마지막 node에 추가\n",
    "\n",
    "def search_node(name):\n",
    "    global head\n",
    "    node = head\n",
    "    while node:\n",
    "        if name == node.name:   # 검색할 이름이 node와 같으면 \n",
    "            return node         # node  반환\n",
    "        node = node.link   # 다음 자료로 이동\n",
    "    return \n",
    "\n",
    "def update_node(name):\n",
    "    node = search_node(name)\n",
    "    if node:\n",
    "        print(f'{node.name} : {node.score}')        \n",
    "        score = int(input(\"성적 입력 \"))\n",
    "        node.score = score\n",
    "    else:\n",
    "        print('수정할 자료 없음')\n",
    "        \n",
    "def delete_node(name):\n",
    "    global head\n",
    "    node = head\n",
    "    while node:\n",
    "        if name == node.name:\n",
    "            if node == head:     # 삭제할 node가 처음 node인 경우\n",
    "                head = node.link\n",
    "            else:\n",
    "                if node.link:   # 삭제할 node가 중간 node인 경우\n",
    "                    prev.link = node.link\n",
    "                else:           #  삭제할 node가 마지막 node 인 경우\n",
    "                    prev.link = None\n",
    "            del node   #  node 메모리 삭제\n",
    "            return\n",
    "        \n",
    "        prev = node\n",
    "        node = node.link\n",
    "        \n",
    "def print_node():\n",
    "    node = head\n",
    "    while node:\n",
    "        print(f'{node.name} : {node.score}')\n",
    "        node = node.link    # 다음 자료로 이동  "
   ]
  },
  {
   "cell_type": "code",
   "execution_count": 73,
   "id": "295ba4b7",
   "metadata": {},
   "outputs": [],
   "source": [
    "head = None"
   ]
  },
  {
   "cell_type": "code",
   "execution_count": 74,
   "id": "bda6fa44",
   "metadata": {},
   "outputs": [
    {
     "name": "stdout",
     "output_type": "stream",
     "text": [
      "    1. 학생 정보 입력\n",
      "    2. 학생 전체 목록 출력\n",
      "    3. 학생 정보 검색  \n",
      "    4. 학생 정보 수정\n",
      "    5. 학생 정보 삭제\n",
      "    9. 프로그램 종료\n",
      "    \n",
      "    \n",
      "  메뉴 선택 : 1\n",
      "이름 성적 입력 : a 90\n",
      "    1. 학생 정보 입력\n",
      "    2. 학생 전체 목록 출력\n",
      "    3. 학생 정보 검색  \n",
      "    4. 학생 정보 수정\n",
      "    5. 학생 정보 삭제\n",
      "    9. 프로그램 종료\n",
      "    \n",
      "    \n",
      "  메뉴 선택 : 1\n",
      "이름 성적 입력 : b 70\n",
      "    1. 학생 정보 입력\n",
      "    2. 학생 전체 목록 출력\n",
      "    3. 학생 정보 검색  \n",
      "    4. 학생 정보 수정\n",
      "    5. 학생 정보 삭제\n",
      "    9. 프로그램 종료\n",
      "    \n",
      "    \n",
      "  메뉴 선택 : 1\n",
      "이름 성적 입력 : c 88\n",
      "    1. 학생 정보 입력\n",
      "    2. 학생 전체 목록 출력\n",
      "    3. 학생 정보 검색  \n",
      "    4. 학생 정보 수정\n",
      "    5. 학생 정보 삭제\n",
      "    9. 프로그램 종료\n",
      "    \n",
      "    \n",
      "  메뉴 선택 : d 77\n"
     ]
    },
    {
     "ename": "ValueError",
     "evalue": "invalid literal for int() with base 10: 'd 77'",
     "output_type": "error",
     "traceback": [
      "\u001b[1;31m---------------------------------------------------------------------------\u001b[0m",
      "\u001b[1;31mValueError\u001b[0m                                Traceback (most recent call last)",
      "\u001b[1;32m~\\AppData\\Local\\Temp\\ipykernel_2880\\2477059329.py\u001b[0m in \u001b[0;36m<module>\u001b[1;34m\u001b[0m\n\u001b[0;32m      1\u001b[0m \u001b[1;32mwhile\u001b[0m \u001b[1;32mTrue\u001b[0m\u001b[1;33m:\u001b[0m\u001b[1;33m\u001b[0m\u001b[1;33m\u001b[0m\u001b[0m\n\u001b[0;32m      2\u001b[0m     \u001b[0mprt_menu\u001b[0m\u001b[1;33m(\u001b[0m\u001b[1;33m)\u001b[0m\u001b[1;33m\u001b[0m\u001b[1;33m\u001b[0m\u001b[0m\n\u001b[1;32m----> 3\u001b[1;33m     \u001b[0mselect\u001b[0m \u001b[1;33m=\u001b[0m \u001b[0mint\u001b[0m\u001b[1;33m(\u001b[0m\u001b[0minput\u001b[0m\u001b[1;33m(\u001b[0m\u001b[1;34m\"  메뉴 선택 : \"\u001b[0m\u001b[1;33m)\u001b[0m\u001b[1;33m)\u001b[0m\u001b[1;33m\u001b[0m\u001b[1;33m\u001b[0m\u001b[0m\n\u001b[0m\u001b[0;32m      4\u001b[0m     \u001b[1;32mif\u001b[0m \u001b[0mselect\u001b[0m \u001b[1;33m==\u001b[0m \u001b[1;36m1\u001b[0m\u001b[1;33m:\u001b[0m\u001b[1;33m\u001b[0m\u001b[1;33m\u001b[0m\u001b[0m\n\u001b[0;32m      5\u001b[0m         \u001b[0mname\u001b[0m\u001b[1;33m,\u001b[0m \u001b[0mscore\u001b[0m \u001b[1;33m=\u001b[0m \u001b[0minput\u001b[0m\u001b[1;33m(\u001b[0m\u001b[1;34m\"이름 성적 입력 : \"\u001b[0m\u001b[1;33m)\u001b[0m\u001b[1;33m.\u001b[0m\u001b[0msplit\u001b[0m\u001b[1;33m(\u001b[0m\u001b[1;33m)\u001b[0m\u001b[1;33m\u001b[0m\u001b[1;33m\u001b[0m\u001b[0m\n",
      "\u001b[1;31mValueError\u001b[0m: invalid literal for int() with base 10: 'd 77'"
     ]
    }
   ],
   "source": [
    "while True:\n",
    "    prt_menu()\n",
    "    select = int(input(\"  메뉴 선택 : \"))\n",
    "    if select == 1:\n",
    "        name, score = input(\"이름 성적 입력 : \").split()\n",
    "        score = int(score)\n",
    "        node = Node()\n",
    "        node.name = name\n",
    "        node.score = score\n",
    "        insert_node(node)\n",
    "    elif select == 2:\n",
    "        print_node()\n",
    "    elif select == 3:\n",
    "        name = input('검색할 이름 입력 ')\n",
    "        node = search_node(name)\n",
    "        if node:\n",
    "            print(f'{node.name} : {node.score}')\n",
    "        else:\n",
    "            print('  자료 없음 ')\n",
    "    elif select == 4:\n",
    "        name = input('검색할 이름 입력 ')\n",
    "        update_node(name)\n",
    "    elif select == 5:\n",
    "        name = input('삭제할 이름 입력 ')\n",
    "        delete_node(name)     \n",
    "    elif select == 9:\n",
    "        break                 "
   ]
  },
  {
   "cell_type": "code",
   "execution_count": null,
   "id": "2a67f474",
   "metadata": {},
   "outputs": [],
   "source": []
  }
 ],
 "metadata": {
  "kernelspec": {
   "display_name": "Python 3 (ipykernel)",
   "language": "python",
   "name": "python3"
  },
  "language_info": {
   "codemirror_mode": {
    "name": "ipython",
    "version": 3
   },
   "file_extension": ".py",
   "mimetype": "text/x-python",
   "name": "python",
   "nbconvert_exporter": "python",
   "pygments_lexer": "ipython3",
   "version": "3.9.13"
  }
 },
 "nbformat": 4,
 "nbformat_minor": 5
}
