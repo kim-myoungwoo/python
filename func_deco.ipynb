{
 "cells": [
  {
   "cell_type": "code",
   "execution_count": null,
   "id": "6cc9415d",
   "metadata": {},
   "outputs": [],
   "source": [
    "def test(function):\n",
    "    def wrapper():\n",
    "        print(\"start ---\")\n",
    "        function()\n",
    "        print(\"end ---\")\n",
    "    return wrapper\n",
    "\n",
    "@test\n",
    "def hello():\n",
    "    print(\"hello\")\n",
    "    \n",
    "#  함수 호출\n"
   ]
  }
 ],
 "metadata": {
  "kernelspec": {
   "display_name": "Python 3 (ipykernel)",
   "language": "python",
   "name": "python3"
  },
  "language_info": {
   "codemirror_mode": {
    "name": "ipython",
    "version": 3
   },
   "file_extension": ".py",
   "mimetype": "text/x-python",
   "name": "python",
   "nbconvert_exporter": "python",
   "pygments_lexer": "ipython3",
   "version": "3.9.13"
  }
 },
 "nbformat": 4,
 "nbformat_minor": 5
}
