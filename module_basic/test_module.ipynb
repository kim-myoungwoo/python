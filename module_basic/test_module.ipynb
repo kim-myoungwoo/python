{
 "cells": [
  {
   "cell_type": "code",
   "execution_count": 5,
   "id": "62182be9",
   "metadata": {},
   "outputs": [
    {
     "name": "stdout",
     "output_type": "stream",
     "text": [
      "test program name ->  __main__\n"
     ]
    }
   ],
   "source": [
    "# test_module.py 생성\n",
    "PI = 3.14\n",
    "\n",
    "def number_input():\n",
    "    output = input('숫자 입력 > ')\n",
    "    return float(output)\n",
    "\n",
    "def get_circumference(radius):\n",
    "    return PI * 2 * radius\n",
    "\n",
    "def get_circle_are(radius):\n",
    "    return PI * radius * radius\n",
    "\n",
    "if __name__ == '__main__':\n",
    "    print('test program name -> ', __name__)"
   ]
  }
 ],
 "metadata": {
  "kernelspec": {
   "display_name": "Python 3 (ipykernel)",
   "language": "python",
   "name": "python3"
  },
  "language_info": {
   "codemirror_mode": {
    "name": "ipython",
    "version": 3
   },
   "file_extension": ".py",
   "mimetype": "text/x-python",
   "name": "python",
   "nbconvert_exporter": "python",
   "pygments_lexer": "ipython3",
   "version": "3.9.13"
  }
 },
 "nbformat": 4,
 "nbformat_minor": 5
}
