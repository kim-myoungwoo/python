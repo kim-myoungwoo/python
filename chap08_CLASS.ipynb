{
 "cells": [
  {
   "cell_type": "code",
   "execution_count": 2,
   "id": "f31b8987",
   "metadata": {},
   "outputs": [
    {
     "name": "stdout",
     "output_type": "stream",
     "text": [
      "이름\t총점\t평균\n",
      "윤인성\t368\t92.00\n",
      "연하진\t384\t96.00\n",
      "구지연\t356\t89.00\n",
      "나선주\t378\t94.50\n",
      "윤아린\t389\t97.25\n",
      "윤명월\t336\t84.00\n"
     ]
    }
   ],
   "source": [
    "# 학생 리스트를 선언합니다.\n",
    "students = [\n",
    "    { \"name\": \"윤인성\", \"korean\": 87, \"math\": 98, \"english\": 88, \"science\": 95 },\n",
    "    { \"name\": \"연하진\", \"korean\": 92, \"math\": 98, \"english\": 96, \"science\": 98 },\n",
    "    { \"name\": \"구지연\", \"korean\": 76, \"math\": 96, \"english\": 94, \"science\": 90 },\n",
    "    { \"name\": \"나선주\", \"korean\": 98, \"math\": 92, \"english\": 96, \"science\": 92 },\n",
    "    { \"name\": \"윤아린\", \"korean\": 95, \"math\": 98, \"english\": 98, \"science\": 98 },\n",
    "    { \"name\": \"윤명월\", \"korean\": 64, \"math\": 88, \"english\": 92, \"science\": 92 }\n",
    "]\n",
    "# 학생을 한 명씩 정보 출력\n",
    "print(\"이름\\t총점\\t평균\")\n",
    "for student in students:\n",
    "    score_sum = student['korean'] + student['math'] + student['english'] + student['science']\n",
    "    print('{}\\t{}\\t{:3.2f}'.format(student['name'],score_sum,score_sum/4))"
   ]
  },
  {
   "cell_type": "code",
   "execution_count": 9,
   "id": "d7190944",
   "metadata": {},
   "outputs": [
    {
     "name": "stdout",
     "output_type": "stream",
     "text": [
      "이름\t총점\t평균\n",
      "윤인성\t368\t92.00\n",
      "연하진\t384\t96.00\n",
      "구지연\t356\t89.00\n",
      "나선주\t378\t94.50\n",
      "윤아린\t389\t97.25\n",
      "윤명월\t336\t84.00\n"
     ]
    }
   ],
   "source": [
    "# 객체를 만드는 함수 정의\n",
    "def create_student(name,korean,math,english,science):\n",
    "    return {'name':name, 'korean':korean, 'math':math, 'english':english, 'science':science}\n",
    "# 총점을 구하는 함수 정의\n",
    "def get_total(student):\n",
    "    return student['korean'] + student['math'] + student['english'] + student['science']\n",
    "# 평균을 구하는 함수 정의\n",
    "def get_avg(student):\n",
    "    return get_total(student)/4\n",
    "# 각 학생의 정보를 출력하는 함수 정의\n",
    "def print_student(student):\n",
    "    print('{}\\t{}\\t{:3.2f}'.format(student['name'],get_total(student),get_avg(student)))\n",
    "\n",
    "# 학생 리스트를 선언합니다.\n",
    "students = [\n",
    "    { \"name\": \"윤인성\", \"korean\": 87, \"math\": 98, \"english\": 88, \"science\": 95 },\n",
    "    { \"name\": \"연하진\", \"korean\": 92, \"math\": 98, \"english\": 96, \"science\": 98 },\n",
    "    { \"name\": \"구지연\", \"korean\": 76, \"math\": 96, \"english\": 94, \"science\": 90 },\n",
    "    { \"name\": \"나선주\", \"korean\": 98, \"math\": 92, \"english\": 96, \"science\": 92 },\n",
    "    { \"name\": \"윤아린\", \"korean\": 95, \"math\": 98, \"english\": 98, \"science\": 98 },\n",
    "    { \"name\": \"윤명월\", \"korean\": 64, \"math\": 88, \"english\": 92, \"science\": 92 }\n",
    "]\n",
    "\n",
    "\n",
    "create_student(\"윤인성\",87,98,88,95),\n",
    "create_student(\"연하진\", 92, 98, 96, 98 ),\n",
    "create_student(\"구지연\", 76, 96, 94, 90 ),\n",
    "create_student(\"나선주\", 98, 92, 96, 92 ),\n",
    "create_student(\"윤아린\", 95, 98, 98, 98 ),\n",
    "create_student(\"윤명월\", 64, 88, 92, 92 )\n",
    "\n",
    "\n",
    "# 학생 정보 출력\n",
    "print(\"이름\\t총점\\t평균\")\n",
    "for student in students:\n",
    "    print_student(student)"
   ]
  },
  {
   "cell_type": "code",
   "execution_count": 21,
   "id": "10f31046",
   "metadata": {},
   "outputs": [],
   "source": [
    "# Student class 생성\n",
    "class Student:\n",
    "    def __init__(self, name,korean,math,english,science):\n",
    "        self.name = name\n",
    "        self.korean = korean\n",
    "        self.math = math\n",
    "        self.science =science\n",
    "        self.english =english\n",
    "        # 개인 총점을 구하는 함수 정의\n",
    "    def get_sum(self):\n",
    "        return self.korean + self.math + self.english + self.science\n",
    "    # 평균을 구하는 함수 정의\n",
    "    def get_avg(self):\n",
    "        return self.get_sum()/4\n",
    "    # 각 학생의 정보를 출력하는 함수 정의\n",
    "    def to_string(self):\n",
    "        return '{}\\t{}\\t{:3.2f}'.format(self.name, self.get_sum(), self.get_avg())"
   ]
  },
  {
   "cell_type": "code",
   "execution_count": 22,
   "id": "49494d02",
   "metadata": {},
   "outputs": [
    {
     "name": "stdout",
     "output_type": "stream",
     "text": [
      "윤인성\t368\t92.00\n"
     ]
    }
   ],
   "source": [
    "student = Student(\"윤인성\",87 ,98, 88, 95)\n",
    "print(student.to_string())"
   ]
  },
  {
   "cell_type": "code",
   "execution_count": 23,
   "id": "a8bc32d0",
   "metadata": {},
   "outputs": [
    {
     "name": "stdout",
     "output_type": "stream",
     "text": [
      "윤인성\t368\t92.00\n",
      "연하진\t384\t96.00\n",
      "구지연\t356\t89.00\n",
      "나선주\t378\t94.50\n",
      "윤아린\t389\t97.25\n",
      "윤명월\t336\t84.00\n"
     ]
    }
   ],
   "source": [
    "# 학생 리스트를 선언합니다.\n",
    "students =[\n",
    "    Student(\"윤인성\",87,98,88,95),\n",
    "    Student(\"연하진\", 92, 98, 96, 98 ),\n",
    "    Student(\"구지연\", 76, 96, 94, 90 ),\n",
    "    Student(\"나선주\", 98, 92, 96, 92 ),\n",
    "    Student(\"윤아린\", 95, 98, 98, 98 ),\n",
    "    Student(\"윤명월\", 64, 88, 92, 92 )\n",
    "    ]\n",
    "for student in students:\n",
    "    print(student.to_string())"
   ]
  },
  {
   "cell_type": "code",
   "execution_count": 24,
   "id": "d9e96552",
   "metadata": {},
   "outputs": [],
   "source": [
    "class Test:\n",
    "    def __init__(self,name):\n",
    "        self.name = name\n",
    "        print(\"{} -   생성\".format(self.name))\n",
    "    def __del__(self):\n",
    "        print(\"{} -   파괴\".format(self.name))"
   ]
  },
  {
   "cell_type": "code",
   "execution_count": 25,
   "id": "7a85ef57",
   "metadata": {},
   "outputs": [
    {
     "name": "stdout",
     "output_type": "stream",
     "text": [
      "A -   생성\n"
     ]
    },
    {
     "data": {
      "text/plain": [
       "<__main__.Test at 0x219377f9f40>"
      ]
     },
     "execution_count": 25,
     "metadata": {},
     "output_type": "execute_result"
    }
   ],
   "source": [
    "Test('A')"
   ]
  },
  {
   "cell_type": "code",
   "execution_count": 26,
   "id": "1c10380e",
   "metadata": {},
   "outputs": [],
   "source": [
    "# class 클래스명:\n",
    "#     def __init__(self, ..):\n",
    "#         self.속성명 = 값\n",
    "#         ..\n",
    "#     def 함수명(self, ..):\n",
    "#         코드\n",
    "\n",
    "# 인스턴스 생성\n",
    "# 인스턴스명(변수) = 클래스명(값, ..) => 생성자, 클래스의 def __init__()함수 실행\n",
    "# 클래스의 함수 실행 => 인스턴스명.함수명()\n",
    "# 클래스의 변수 => 인스턴스명.변수명"
   ]
  },
  {
   "cell_type": "markdown",
   "id": "f9a65188",
   "metadata": {},
   "source": [
    "## chap08-2 클래스의 추가적인 구문"
   ]
  },
  {
   "cell_type": "code",
   "execution_count": 28,
   "id": "f7b7853d",
   "metadata": {},
   "outputs": [
    {
     "name": "stdout",
     "output_type": "stream",
     "text": [
      "isinstance(student, Student) -> True\n",
      "isinstance(student, Test) ->  False\n",
      "<class '__main__.Student'>\n"
     ]
    }
   ],
   "source": [
    "# isinstance(인스턴스명, 클래스명)  -> True or False\n",
    "class Student:\n",
    "    def __init__(self):\n",
    "        pass\n",
    "student = Student()\n",
    "print(\"isinstance(student, Student) ->\", isinstance(student, Student))\n",
    "print(\"isinstance(student, Test) -> \", isinstance(student, Test))\n",
    "\n",
    "print(type(student))  # 클래스 정보 출력"
   ]
  },
  {
   "cell_type": "code",
   "execution_count": 32,
   "id": "ffc4dc57",
   "metadata": {},
   "outputs": [
    {
     "ename": "TypeError",
     "evalue": "'Student' object is not callable",
     "output_type": "error",
     "traceback": [
      "\u001b[1;31m---------------------------------------------------------------------------\u001b[0m",
      "\u001b[1;31mTypeError\u001b[0m                                 Traceback (most recent call last)",
      "\u001b[1;32m~\\AppData\\Local\\Temp\\ipykernel_15556\\3151491745.py\u001b[0m in \u001b[0;36m<module>\u001b[1;34m\u001b[0m\n\u001b[0;32m      8\u001b[0m         \u001b[0mprint\u001b[0m\u001b[1;33m(\u001b[0m\u001b[1;34m'teaching ... '\u001b[0m\u001b[1;33m)\u001b[0m\u001b[1;33m\u001b[0m\u001b[1;33m\u001b[0m\u001b[0m\n\u001b[0;32m      9\u001b[0m \u001b[1;33m\u001b[0m\u001b[0m\n\u001b[1;32m---> 10\u001b[1;33m \u001b[0mclassroom\u001b[0m \u001b[1;33m=\u001b[0m \u001b[1;33m[\u001b[0m\u001b[0mStudent\u001b[0m\u001b[1;33m(\u001b[0m\u001b[1;33m)\u001b[0m\u001b[1;33m,\u001b[0m \u001b[0mTeacher\u001b[0m\u001b[1;33m(\u001b[0m\u001b[1;33m)\u001b[0m\u001b[1;33m,\u001b[0m \u001b[0mTeacher\u001b[0m\u001b[1;33m(\u001b[0m\u001b[1;33m)\u001b[0m\u001b[1;33m,\u001b[0m \u001b[0mstudent\u001b[0m\u001b[1;33m(\u001b[0m\u001b[1;33m)\u001b[0m\u001b[1;33m]\u001b[0m\u001b[1;33m\u001b[0m\u001b[1;33m\u001b[0m\u001b[0m\n\u001b[0m\u001b[0;32m     11\u001b[0m \u001b[1;32mfor\u001b[0m \u001b[0mperson\u001b[0m \u001b[1;32min\u001b[0m \u001b[0mclassroom\u001b[0m\u001b[1;33m:\u001b[0m\u001b[1;33m\u001b[0m\u001b[1;33m\u001b[0m\u001b[0m\n\u001b[0;32m     12\u001b[0m     \u001b[1;32mif\u001b[0m \u001b[0misinstance\u001b[0m\u001b[1;33m(\u001b[0m\u001b[0mperson\u001b[0m\u001b[1;33m,\u001b[0m \u001b[0mStudent\u001b[0m\u001b[1;33m(\u001b[0m\u001b[1;33m)\u001b[0m\u001b[1;33m)\u001b[0m\u001b[1;33m:\u001b[0m\u001b[1;33m\u001b[0m\u001b[1;33m\u001b[0m\u001b[0m\n",
      "\u001b[1;31mTypeError\u001b[0m: 'Student' object is not callable"
     ]
    }
   ],
   "source": [
    "# Student, Teacher  두 개의 클래스를 생성\n",
    "class Student:\n",
    "    def study(self):\n",
    "        print(\"study ... \")\n",
    "        \n",
    "class Teacher:\n",
    "    def teach(self):\n",
    "        print('teaching ... ')\n",
    "        \n",
    "classroom = [Student(), Teacher(), Teacher(), student()]\n",
    "for person in classroom:\n",
    "    if isinstance(person, Student):\n",
    "        person.study()\n",
    "    elif isinstance(person, Teacher):\n",
    "        person.teach()"
   ]
  },
  {
   "cell_type": "code",
   "execution_count": 34,
   "id": "18c2ffbd",
   "metadata": {},
   "outputs": [
    {
     "name": "stdout",
     "output_type": "stream",
     "text": [
      "윤인성\t368\t92.00\n",
      "연하진\t384\t96.00\n",
      "구지연\t356\t89.00\n",
      "나선주\t378\t94.50\n",
      "윤아린\t389\t97.25\n",
      "윤명월\t336\t84.00\n",
      "<class 'str'>\n"
     ]
    }
   ],
   "source": [
    "# Student class 생성\n",
    "class Student:\n",
    "    def __init__(self, name,korean,math,english,science):\n",
    "        self.name = name\n",
    "        self.korean = korean\n",
    "        self.math = math\n",
    "        self.science =science\n",
    "        self.english =english\n",
    "        # 개인 총점을 구하는 함수 정의\n",
    "    def get_sum(self):\n",
    "        return self.korean + self.math + self.english + self.science\n",
    "    # 평균을 구하는 함수 정의\n",
    "    def get_avg(self):\n",
    "        return self.get_sum()/4\n",
    "    # 각 학생의 정보를 출력하는 함수 정의\n",
    "    # student.__\n",
    "    def __str__(self):\n",
    "        return '{}\\t{}\\t{:3.2f}'.format(self.name, self.get_sum(), self.get_avg())\n",
    "    def __eq__(self, value):\n",
    "        return self.get_sum() == value.get_sum()\n",
    "    def __ne__(self, value):\n",
    "        return self.get_sum() != value.get_sum()\n",
    "    def __gt__(self, value):\n",
    "        return self.get_sum() > value.get_sum()\n",
    "    def __ge__(self, value):\n",
    "        return self.get_sum() >= value.get_sum()\n",
    "    def __lt__(self, value):\n",
    "        return self.get_sum() < value.get_sum()\n",
    "    def __le__(self, value):\n",
    "        return self.get_sum() <= value.get_sum()\n",
    "# 학생 리스트를 선언합니다.\n",
    "students =[\n",
    "    Student(\"윤인성\",87,98,88,95),\n",
    "    Student(\"연하진\", 92, 98, 96, 98 ),\n",
    "    Student(\"구지연\", 76, 96, 94, 90 ),\n",
    "    Student(\"나선주\", 98, 92, 96, 92 ),\n",
    "    Student(\"윤아린\", 95, 98, 98, 98 ),\n",
    "    Student(\"윤명월\", 64, 88, 92, 92 )\n",
    "    ]\n",
    "for student in students:\n",
    "#     print(student.to_string())\n",
    "    print(str(student))\n",
    "print(type(str(10)))"
   ]
  },
  {
   "cell_type": "code",
   "execution_count": 35,
   "id": "41df7392",
   "metadata": {},
   "outputs": [
    {
     "name": "stdout",
     "output_type": "stream",
     "text": [
      "a == b False\n",
      "a != b True\n",
      "a > b False\n",
      "a >= b False\n",
      "a < b False\n",
      "a <= b False\n"
     ]
    }
   ],
   "source": [
    "a = Student(\"윤인성\", 87, 98, 88, 95)\n",
    "b = Student(\"연하진\", 92, 98, 96, 98)\n",
    "\n",
    "# 두 학생의 점수 비교\n",
    "print(\"a == b\", a == b)\n",
    "print(\"a != b\", a != b)\n",
    "print(\"a > b\", a > b)\n",
    "print(\"a >= b\", a >= b)\n",
    "print(\"a < b\", a < b)\n",
    "print(\"a <= b\", a <= b)"
   ]
  },
  {
   "cell_type": "code",
   "execution_count": 37,
   "id": "c5e58614",
   "metadata": {
    "scrolled": true
   },
   "outputs": [
    {
     "name": "stdout",
     "output_type": "stream",
     "text": [
      "1번째 학생 자료 생성\n",
      "2번째 학생 자료 생성\n",
      "3번째 학생 자료 생성\n",
      "4번째 학생 자료 생성\n",
      "5번째 학생 자료 생성\n",
      "6번째 학생 자료 생성\n",
      "\n",
      "현재 생성된 학생 수는 6명 입니다\n"
     ]
    }
   ],
   "source": [
    "## 클래스 변수\n",
    "class Student:\n",
    "    count = 0\n",
    "    def __init__(self, name,korean,math,english,science):\n",
    "        self.name = name\n",
    "        self.korean = korean\n",
    "        self.math = math\n",
    "        self.science =science\n",
    "        self.english =english\n",
    "        \n",
    "        Student.count += 1\n",
    "        print('{}번째 학생 자료 생성'.format(Student.count))\n",
    "        \n",
    "students =[\n",
    "    Student(\"윤인성\",87,98,88,95),\n",
    "    Student(\"연하진\", 92, 98, 96, 98 ),\n",
    "    Student(\"구지연\", 76, 96, 94, 90 ),\n",
    "    Student(\"나선주\", 98, 92, 96, 92 ),\n",
    "    Student(\"윤아린\", 95, 98, 98, 98 ),\n",
    "    Student(\"윤명월\", 64, 88, 92, 92 )\n",
    "]\n",
    "\n",
    "print()\n",
    "print(\"현재 생성된 학생 수는 {}명 입니다\".format(Student.count))"
   ]
  },
  {
   "cell_type": "code",
   "execution_count": 39,
   "id": "3b928685",
   "metadata": {},
   "outputs": [
    {
     "name": "stdout",
     "output_type": "stream",
     "text": [
      "윤인성\n",
      "연하진\n",
      "구지연\n",
      "나선주\n",
      "윤아린\n",
      "윤명월\n"
     ]
    }
   ],
   "source": [
    "for i in range(Student.count):\n",
    "    print(students[i].name)"
   ]
  },
  {
   "cell_type": "code",
   "execution_count": 40,
   "id": "f3f2e7f5",
   "metadata": {},
   "outputs": [
    {
     "name": "stdout",
     "output_type": "stream",
     "text": [
      "Student ....\n",
      "True\n",
      "True\n",
      "False\n"
     ]
    }
   ],
   "source": [
    "# 클래스의 상속\n",
    "class Human:\n",
    "    def __init__(self):\n",
    "        print(\"Human --- \")\n",
    "        \n",
    "class Student(Human):\n",
    "    def __init__(self):\n",
    "        print(\"Student ....\")\n",
    "        \n",
    "# 학생 인스턴스 선언\n",
    "student = Student()\n",
    "print(isinstance(student, Student))\n",
    "print(isinstance(student, Human))    # True\n",
    "print(type(student) == Human)   # False"
   ]
  },
  {
   "cell_type": "code",
   "execution_count": 53,
   "id": "6247c639",
   "metadata": {},
   "outputs": [],
   "source": [
    "class Student:\n",
    "    count = 0\n",
    "    students = []\n",
    "    # 클래스 함수 선언 (전체 자료 출력)\n",
    "    @classmethod\n",
    "    def print(cls):\n",
    "        print(\"학생 전체 자료 출력\")\n",
    "        print(\"이름\\t총점\\t평균\")\n",
    "        print(\"============================\")\n",
    "        for student in cls.students:\n",
    "            print(str(student))\n",
    "        print(\"============================\")\n",
    "    def __init__(self, name,korean,math,english,science):\n",
    "        self.name = name\n",
    "        self.korean = korean\n",
    "        self.math = math\n",
    "        self.science =science\n",
    "        self.english =english\n",
    "        Student.count += 1\n",
    "        Student.students.append(self)\n",
    "        # 개인 총점을 구하는 함수 정의\n",
    "    def get_sum(self):\n",
    "        return self.korean + self.math + self.english + self.science\n",
    "    # 평균을 구하는 함수 정의\n",
    "    def get_avg(self):\n",
    "        return self.get_sum()/4\n",
    "\n",
    "        # 개인 총점을 구하는 함수 정의\n",
    "    def get_sum(self):\n",
    "        return self.korean + self.math + self.english + self.science\n",
    "    # 평균을 구하는 함수 정의\n",
    "    def get_avg(self):\n",
    "        return self.get_sum()/4\n",
    "    # 각 학생의 정보를 출력하는 함수 정의\n",
    "    def __str__(self):\n",
    "        return '{}\\t{}\\t{:3.2f}'.format(self.name, self.get_sum(), self.get_avg())"
   ]
  },
  {
   "cell_type": "code",
   "execution_count": 54,
   "id": "1bc88ae3",
   "metadata": {},
   "outputs": [
    {
     "name": "stdout",
     "output_type": "stream",
     "text": [
      "학생 전체 자료 출력\n",
      "이름\t총점\t평균\n",
      "============================\n",
      "윤인성\t368\t92.00\n",
      "연하진\t384\t96.00\n",
      "구지연\t356\t89.00\n",
      "나선주\t378\t94.50\n",
      "윤아린\t389\t97.25\n",
      "윤명월\t336\t84.00\n",
      "============================\n"
     ]
    }
   ],
   "source": [
    "# 학생 리스트를 선언합니다.\n",
    "\n",
    "Student(\"윤인성\",87,98,88,95)\n",
    "Student(\"연하진\", 92, 98, 96, 98 )\n",
    "Student(\"구지연\", 76, 96, 94, 90 )\n",
    "Student(\"나선주\", 98, 92, 96, 92 )\n",
    "Student(\"윤아린\", 95, 98, 98, 98 )\n",
    "Student(\"윤명월\", 64, 88, 92, 92 )\n",
    "\n",
    "Student.print()"
   ]
  },
  {
   "cell_type": "code",
   "execution_count": 55,
   "id": "2daf9eca",
   "metadata": {},
   "outputs": [
    {
     "name": "stdout",
     "output_type": "stream",
     "text": [
      "윤인성\t368\t92.00\n",
      "연하진\t384\t96.00\n",
      "구지연\t356\t89.00\n",
      "나선주\t378\t94.50\n",
      "윤아린\t389\t97.25\n",
      "윤명월\t336\t84.00\n"
     ]
    }
   ],
   "source": [
    "for student in Student.students:\n",
    "    print(str(student))"
   ]
  },
  {
   "cell_type": "code",
   "execution_count": 56,
   "id": "b50904db",
   "metadata": {},
   "outputs": [],
   "source": [
    "# 가비지 컬렉터\n",
    "class Test:\n",
    "    def __init__(self, name):\n",
    "        self.name = name\n",
    "        print(\"{} 생성\".format(self.name))\n",
    "        \n",
    "    def __del__(self):\n",
    "        print(\"{} 파괴\".format(self.name))"
   ]
  },
  {
   "cell_type": "code",
   "execution_count": 58,
   "id": "19cbadda",
   "metadata": {},
   "outputs": [
    {
     "name": "stdout",
     "output_type": "stream",
     "text": [
      "A 생성\n",
      "A 파괴\n",
      "B 생성\n",
      "B 파괴\n",
      "C 생성\n",
      "C 파괴\n",
      "A 생성\n",
      "B 생성\n",
      "C 생성\n"
     ]
    }
   ],
   "source": [
    "Test(\"A\")\n",
    "Test(\"B\")\n",
    "Test(\"C\")\n",
    "a = Test(\"A\")\n",
    "b = Test(\"B\")\n",
    "c = Test(\"C\")"
   ]
  },
  {
   "cell_type": "code",
   "execution_count": 61,
   "id": "3874f941",
   "metadata": {},
   "outputs": [],
   "source": [
    "# 클래스의 프라이빗 변수와 게터/세터\n",
    "import math\n",
    "\n",
    "# 클래스 선언\n",
    "class Circle:\n",
    "    def __init__(self, radius):\n",
    "        self.radius = radius\n",
    "    def get_circumference(self):\n",
    "        return 2 * math.pi * self.radius\n",
    "    def get_circle_area(self):\n",
    "        return math.pi * (self.radius ** 2)"
   ]
  },
  {
   "cell_type": "code",
   "execution_count": 62,
   "id": "6d5ce2ba",
   "metadata": {},
   "outputs": [
    {
     "name": "stdout",
     "output_type": "stream",
     "text": [
      " 원의 둘레 :  125.66370614359172\n",
      " 원의 넓이 :  1256.6370614359173\n",
      " 원의 둘레 :  62.83185307179586\n",
      " 원의 넓이 :  314.1592653589793\n"
     ]
    }
   ],
   "source": [
    "circle = Circle(20)\n",
    "print(\" 원의 둘레 : \", circle.get_circumference())\n",
    "print(\" 원의 넓이 : \", circle.get_circle_area())\n",
    "\n",
    "circle.radius = 10\n",
    "print(\" 원의 둘레 : \", circle.get_circumference())\n",
    "print(\" 원의 넓이 : \", circle.get_circle_area())"
   ]
  },
  {
   "cell_type": "code",
   "execution_count": 71,
   "id": "5ef93e6c",
   "metadata": {},
   "outputs": [
    {
     "name": "stdout",
     "output_type": "stream",
     "text": [
      " 원의 둘레 :  125.66370614359172\n",
      " 원의 넓이 :  1256.6370614359173\n",
      "20\n",
      "10\n"
     ]
    }
   ],
   "source": [
    "# 클래스 선언 -> private  변수 : 외부에서 접근 불가\n",
    "class Circle:\n",
    "    def __init__(self, radius):\n",
    "        self.__radius = radius  # private 변수 선언\n",
    "    def get_circumference(self):\n",
    "        return 2 * math.pi * self.__radius\n",
    "    def get_circle_area(self):\n",
    "        return math.pi * (self.__radius ** 2)\n",
    "    # private 변수를 내부에서만 접근 가능하도록 함수로 구현\n",
    "    def get_radius(self):   # 게터\n",
    "        return self.__radius\n",
    "    def set_radius(self, value):  # 세터\n",
    "        self.__radius = value\n",
    "circle = Circle(20)\n",
    "print(\" 원의 둘레 : \", circle.get_circumference())\n",
    "print(\" 원의 넓이 : \", circle.get_circle_area())\n",
    "print(circle.get_radius()) \n",
    "circle.set_radius(10)\n",
    "print(circle.get_radius())"
   ]
  },
  {
   "cell_type": "code",
   "execution_count": 65,
   "id": "b69ad816",
   "metadata": {},
   "outputs": [],
   "source": [
    "# 클래스 선언 -> private  변수 : 데코레이터를 활용하여 게터/세터 작성\n",
    "class Circle:\n",
    "    def __init__(self, radius):\n",
    "        self.__radius = radius  # private 변수 선언\n",
    "    def get_circumference(self):\n",
    "        return 2 * math.pi * self.__radius\n",
    "    def get_circle_area(self):\n",
    "        return math.pi * (self.__radius ** 2)\n",
    "    # 데코레이터 이용\n",
    "    @property\n",
    "    def radius(self):         # 게터\n",
    "        return self.__radius\n",
    "    @radius.setter\n",
    "    def radius(self, value):  # 세터\n",
    "        self.__radius = value"
   ]
  },
  {
   "cell_type": "code",
   "execution_count": 66,
   "id": "11e20d10",
   "metadata": {
    "scrolled": true
   },
   "outputs": [
    {
     "name": "stdout",
     "output_type": "stream",
     "text": [
      " 원의 둘레 :  125.66370614359172\n",
      " 원의 넓이 :  1256.6370614359173\n",
      "20\n",
      "10\n"
     ]
    }
   ],
   "source": [
    "circle = Circle(20)\n",
    "print(\" 원의 둘레 : \", circle.get_circumference())\n",
    "print(\" 원의 넓이 : \", circle.get_circle_area())\n",
    "print(circle.radius)\n",
    "circle.radius = 10\n",
    "print(circle.radius)"
   ]
  },
  {
   "cell_type": "code",
   "execution_count": 79,
   "id": "8f37e239",
   "metadata": {},
   "outputs": [],
   "source": [
    "# 예금 관리 프로그램\n",
    "class Test:\n",
    "    def __init__(self, name, money):\n",
    "        self.name =name\n",
    "        self.__money=money\n",
    "    def in_money(self, money):\n",
    "        self.__money += money\n",
    "        \n",
    "    def out_money(self, money):\n",
    "        if money < self.money:\n",
    "            self.__money -= money\n",
    "    def get_money(self):\n",
    "        return self.__money"
   ]
  },
  {
   "cell_type": "code",
   "execution_count": 80,
   "id": "57b85e0b",
   "metadata": {},
   "outputs": [
    {
     "data": {
      "text/plain": [
       "3000"
      ]
     },
     "execution_count": 80,
     "metadata": {},
     "output_type": "execute_result"
    }
   ],
   "source": [
    "a = Test('홍길동', 1000)\n",
    "a.get_money()\n",
    "a.in_money(2000)\n",
    "a.get_money()"
   ]
  },
  {
   "cell_type": "code",
   "execution_count": 81,
   "id": "2c7f05c7",
   "metadata": {},
   "outputs": [
    {
     "data": {
      "text/plain": [
       "5000"
      ]
     },
     "execution_count": 81,
     "metadata": {},
     "output_type": "execute_result"
    }
   ],
   "source": [
    "a.money = 5000\n",
    "a.money"
   ]
  },
  {
   "cell_type": "code",
   "execution_count": 85,
   "id": "1b438e34",
   "metadata": {},
   "outputs": [],
   "source": [
    "# 상속\n",
    "# 부모 클래스 생성\n",
    "class Parent:\n",
    "    def __init__(self):\n",
    "        self.value = '테스트'\n",
    "        print(\"Parent 클래스 init--\")\n",
    "    def test(self):\n",
    "        print(\"Parent 클래스 test() 메소드\")\n",
    "        \n",
    "class Child(Parent):\n",
    "    def __init__(self):\n",
    "        Parent.__init__(self)\n",
    "        self.value = 'Child'\n",
    "        print(\"Child 클래스 __init__() 메소드\")\n",
    "    "
   ]
  },
  {
   "cell_type": "code",
   "execution_count": 86,
   "id": "d37cd8df",
   "metadata": {},
   "outputs": [
    {
     "name": "stdout",
     "output_type": "stream",
     "text": [
      "Parent 클래스 init--\n",
      "Child 클래스 __init__() 메소드\n",
      "Child.value--> Child\n",
      "Parent 클래스 test() 메소드\n"
     ]
    }
   ],
   "source": [
    "child = Child()   # child의 __init__()\n",
    "print(\"Child.value-->\", child.value)\n",
    "child.test()"
   ]
  },
  {
   "cell_type": "code",
   "execution_count": 95,
   "id": "1527d19e",
   "metadata": {},
   "outputs": [],
   "source": [
    "# 사용자 정의 예외 클래스 만들기\n",
    "class CustomerException(Exception):\n",
    "    def __init__(self, message, value):\n",
    "        super().__init__(self)  # super() -> Exception\n",
    "        self.message = message\n",
    "        self.value =value\n",
    "        \n",
    "    def __str__(self):   # 부모의 메소드 재정의\n",
    "        return \"오류 발생\"\n",
    "    def print(self):\n",
    "        print(\"## 사용자 정의 예외 처리 생성 ##\")\n",
    "        print(\" 메세지 : \", self.message)\n",
    "        print(\" 오류 값 : \", self.value)"
   ]
  },
  {
   "cell_type": "code",
   "execution_count": 96,
   "id": "ebda82bc",
   "metadata": {},
   "outputs": [
    {
     "name": "stdout",
     "output_type": "stream",
     "text": [
      "## 사용자 정의 예외 처리 생성 ##\n",
      " 메세지 :  사용자 에러\n",
      " 오류 값 :  22\n"
     ]
    }
   ],
   "source": [
    "try:\n",
    "    raise CustomerException('사용자 에러', 22)\n",
    "except CustomerException as e:\n",
    "    e.print()"
   ]
  }
 ],
 "metadata": {
  "kernelspec": {
   "display_name": "Python 3 (ipykernel)",
   "language": "python",
   "name": "python3"
  },
  "language_info": {
   "codemirror_mode": {
    "name": "ipython",
    "version": 3
   },
   "file_extension": ".py",
   "mimetype": "text/x-python",
   "name": "python",
   "nbconvert_exporter": "python",
   "pygments_lexer": "ipython3",
   "version": "3.9.13"
  }
 },
 "nbformat": 4,
 "nbformat_minor": 5
}
