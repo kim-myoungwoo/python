{
 "cells": [
  {
   "cell_type": "code",
   "execution_count": 2,
   "id": "8c769e13",
   "metadata": {},
   "outputs": [
    {
     "name": "stdout",
     "output_type": "stream",
     "text": [
      "False\n",
      "True\n"
     ]
    }
   ],
   "source": [
    "# 문자열 연산자 : in\n",
    "print('hello' in 'Hello python !') # False\n",
    "print('H' in 'Hello python !')   # True"
   ]
  },
  {
   "cell_type": "code",
   "execution_count": 5,
   "id": "c67cb100",
   "metadata": {},
   "outputs": [
    {
     "name": "stdout",
     "output_type": "stream",
     "text": [
      "['10', '20', '30']\n",
      "10\n"
     ]
    }
   ],
   "source": [
    "# 문자열을 분리하기 : 문자열.split('분리하고자 하는 문자'), 없으면 blank\n",
    "a = \"10 20 30\".split()\n",
    "print(a)\n",
    "print(a[0]) # 10"
   ]
  },
  {
   "cell_type": "code",
   "execution_count": 13,
   "id": "8686f23d",
   "metadata": {},
   "outputs": [
    {
     "name": "stdout",
     "output_type": "stream",
     "text": [
      "두 수 입력 (ex:10 30) > 5000 30\n",
      "['5000', '30']\n",
      "5000 + 30 = 5030\n",
      "5000 - 30 = 4970\n"
     ]
    }
   ],
   "source": [
    "# 두 수를 입력받아 리스트로 저장 한 후 두 수의 합과 차를 구하세요.\n",
    "input_data = input(\"두 수 입력 (ex:10 30) > \").split()\n",
    "print(input_data)  #['100', '200']\n",
    "\n",
    "# 입력한 두 수의 합을 구함\n",
    "input_data[0] = int(input_data[0])\n",
    "input_data[1] = int(input_data[1])\n",
    "\n",
    "print(f'{input_data[0]} + {input_data[1]} = {input_data[0]+input_data[1]}')\n",
    "\n",
    "# 입력한 두 수의 차를 구함\n",
    "print(f'{input_data[0]} - {input_data[1]} = {input_data[0]-input_data[1]}')"
   ]
  },
  {
   "cell_type": "markdown",
   "id": "0ecf12ca",
   "metadata": {},
   "source": [
    "# chap03 조건문"
   ]
  },
  {
   "cell_type": "markdown",
   "id": "c1c1c90a",
   "metadata": {},
   "source": [
    "## chap03 -1 불 자료형과 if 조건문"
   ]
  },
  {
   "cell_type": "code",
   "execution_count": 17,
   "id": "4216d6d6",
   "metadata": {},
   "outputs": [
    {
     "name": "stdout",
     "output_type": "stream",
     "text": [
      "under_20 :  True\n",
      "not under_20 :  False\n"
     ]
    }
   ],
   "source": [
    "x = 10\n",
    "under_20 = x < 20 # True\n",
    "print(\"under_20 : \", under_20)\n",
    "print(\"not under_20 : \", not under_20)"
   ]
  },
  {
   "cell_type": "code",
   "execution_count": 20,
   "id": "64631fb5",
   "metadata": {},
   "outputs": [
    {
     "name": "stdout",
     "output_type": "stream",
     "text": [
      "True\n",
      "True\n",
      "if end\n"
     ]
    }
   ],
   "source": [
    "# if 조건문\n",
    "if True:\n",
    "    print('True')\n",
    "    print('True')\n",
    "print('if end')\n",
    "\n",
    "if False:\n",
    "    print('False')"
   ]
  },
  {
   "cell_type": "code",
   "execution_count": 24,
   "id": "9443843b",
   "metadata": {},
   "outputs": [
    {
     "name": "stdout",
     "output_type": "stream",
     "text": [
      "숫자 입력 > 0\n",
      "0 는 zero\n"
     ]
    }
   ],
   "source": [
    "# 문) 숫자를 입력받아 0보다 크면 양수, 작으면 음수라고 출력\n",
    "# 1. 키보드에서 숫자 입력 받음\n",
    "# 2. 정수로 변환\n",
    "# 3. 비교후 결과 출력\n",
    "\n",
    "num = input('숫자 입력 > ')\n",
    "num = int(num)\n",
    "if num > 0:\n",
    "    print('{} 는 양수'.format(num))\n",
    "if num < 0:\n",
    "    print('{} 는 음수'.format(num))\n",
    "if num == 0:\n",
    "    print(num, '는 zero')"
   ]
  },
  {
   "cell_type": "code",
   "execution_count": 29,
   "id": "a155ec63",
   "metadata": {},
   "outputs": [
    {
     "name": "stdout",
     "output_type": "stream",
     "text": [
      "숫자 입력 >41\n",
      "홀수\n",
      "홀수\n",
      "홀수\n"
     ]
    }
   ],
   "source": [
    "# 숫자를 입력받아 짝수이면 '짝수', 홀수이면 '홀수' 출력\n",
    "# % : 3 % 2 --> 1 이므로 홀수\n",
    "# '1' or '3' or '5' or '7' or '9'\n",
    "# if num =='1' or num =='3'\n",
    "num = input('숫자 입력 >')\n",
    "if int(num) % 2 == 0:\n",
    "    print('짝수')\n",
    "if int(num) % 2 == 1:\n",
    "    print('홀수')\n",
    "\n",
    "if num[-1] == '1' or num[-1] == '3' or num[-1] == '5' \\\n",
    "  or num[-1] == '7' or num[-1] == '9':\n",
    "    print('홀수')\n",
    "if num[-1] == '0' or num[-1] == '2' or num[-1] == '4' \\\n",
    "  or num[-1] == '6' or num[-1] == '8':\n",
    "    print('짝수')\n",
    "\n",
    "if num[-1] in '13579':\n",
    "    print('홀수')\n",
    "if num[-1] in '02468':\n",
    "    print('짝수')"
   ]
  },
  {
   "cell_type": "code",
   "execution_count": 33,
   "id": "07a8a40b",
   "metadata": {},
   "outputs": [
    {
     "name": "stdout",
     "output_type": "stream",
     "text": [
      "2023-02-01 10:41:57.309578\n",
      "2023년 2월 1일 10시 41분 57초\n",
      "현재 시각은 10시로 오전입니다\n"
     ]
    }
   ],
   "source": [
    "# 날짜 함수 이용하기\n",
    "import datetime\n",
    "\n",
    "now = datetime.datetime.now()\n",
    "print(now)\n",
    "\n",
    "print('{}년 {}월 {}일 {}시 {}분 {}초'.format(\\\n",
    "                                      now.year, now.month, now.day, now.hour, now.minute, now.second))\n",
    "# 오전 오후 구분\n",
    "if now.hour < 12:\n",
    "     print(\"현재 시각은 {}시로 오전입니다\".format(now.hour))\n",
    "if now.hour > 12:\n",
    "    print(\"현재 시각은 {}시로 오후입니다\".format(now.hour))"
   ]
  },
  {
   "cell_type": "code",
   "execution_count": 34,
   "id": "a5537936",
   "metadata": {},
   "outputs": [
    {
     "name": "stdout",
     "output_type": "stream",
     "text": [
      "숫자 입력 >4\n",
      "짝수\n"
     ]
    }
   ],
   "source": [
    "# if 표현식: 처리 ~ else: 처리\n",
    "num = input('숫자 입력 >')\n",
    "if int(num) % 2 == 0:\n",
    "    print('짝수')\n",
    "else:\n",
    "    print('홀수')"
   ]
  },
  {
   "cell_type": "code",
   "execution_count": 35,
   "id": "aea5a413",
   "metadata": {},
   "outputs": [
    {
     "name": "stdout",
     "output_type": "stream",
     "text": [
      "현재는 겨울입니다\n"
     ]
    }
   ],
   "source": [
    "# if 표현식 : 처리\n",
    "# elif 표현식 : 처리 ~\n",
    "# else 처리\n",
    "# 3월~ 5월이면 봄, 6월~ 8월 여름 9~11 가을 아니면 겨울\n",
    "\n",
    "month = now.month\n",
    "\n",
    "if 3 <=month <=5:\n",
    "    print('현재는 봄입니다')\n",
    "elif 6<=month <=8:\n",
    "    print('현재는 여름입니다')\n",
    "elif 9<=month <=11:\n",
    "    print('현재는 가을입니다')\n",
    "else:\n",
    "    print('현재는 겨울입니다')"
   ]
  },
  {
   "cell_type": "code",
   "execution_count": 40,
   "id": "bbe8e1a1",
   "metadata": {},
   "outputs": [
    {
     "name": "stdout",
     "output_type": "stream",
     "text": [
      "zero가 아닙니다\n",
      "blank 입니다\n"
     ]
    }
   ],
   "source": [
    "if 0:  # 숫자인 경우 0면 False,  아니면 True\n",
    "    print('zero 입니다') # 실행 안됨\n",
    "if -10:   # 숫자인 경우 0면 False, 아니면 True\n",
    "    print('zero가 아닙니다') # 실행\n",
    "    \n",
    "if '':  # 문자인 경우 Null 이면 False, 아니면 True\n",
    "    print('아무 문자도 없습니다') # 실행 안됨\n",
    "if '  ':   # 문자인 경우 Null이면 False\n",
    "    print('blank 입니다') # 실행"
   ]
  },
  {
   "cell_type": "code",
   "execution_count": 49,
   "id": "f216da9f",
   "metadata": {},
   "outputs": [
    {
     "name": "stdout",
     "output_type": "stream",
     "text": [
      "10\n"
     ]
    }
   ],
   "source": [
    "num = 10\n",
    "if  not num % 2:\n",
    "    print(num)\n",
    "    pass"
   ]
  },
  {
   "cell_type": "code",
   "execution_count": 52,
   "id": "1cdd4009",
   "metadata": {},
   "outputs": [
    {
     "name": "stdout",
     "output_type": "stream",
     "text": [
      "입력 : 몇 시?\n",
      " > 지금은 11 시 입니다\n"
     ]
    }
   ],
   "source": [
    "# 188p -> 도전문제 1. 안녕 또는 안녕하세요? -> 안녕하세요를 출력\n",
    "# 지금 몇 시야 또는 지금 몇 시예요? -> 지금은 몇 시 입니다를 출력\n",
    "#  인사와 시간 외에 자료가 입력되면 입력된 문자 출력\n",
    "\n",
    "# 1. 대화 입력\n",
    "# 2. 대화에 '안녕' 이 입력되면 '안녕하세요' 출력\n",
    "#    대화에 '몇 시' 라는 단어가 입력되면 시간 출력\n",
    "#    아니면 입력된 내용 출력\n",
    "\n",
    "input_data = input(\"입력 : \")\n",
    "if '안녕' in input_data:\n",
    "    print( \">안녕하세요\")\n",
    "elif '몇 시' in input_data:\n",
    "    now = datetime.datetime.now()\n",
    "    print(\" > 지금은 {} 시 입니다\".format(now.hour))\n",
    "else:\n",
    "    print(\">\", input_data)"
   ]
  },
  {
   "cell_type": "code",
   "execution_count": null,
   "id": "4614b133",
   "metadata": {},
   "outputs": [],
   "source": []
  }
 ],
 "metadata": {
  "kernelspec": {
   "display_name": "Python 3 (ipykernel)",
   "language": "python",
   "name": "python3"
  },
  "language_info": {
   "codemirror_mode": {
    "name": "ipython",
    "version": 3
   },
   "file_extension": ".py",
   "mimetype": "text/x-python",
   "name": "python",
   "nbconvert_exporter": "python",
   "pygments_lexer": "ipython3",
   "version": "3.9.13"
  }
 },
 "nbformat": 4,
 "nbformat_minor": 5
}
