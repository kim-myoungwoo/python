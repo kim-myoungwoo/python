{
 "cells": [
  {
   "cell_type": "code",
   "execution_count": 3,
   "id": "a99908c2",
   "metadata": {},
   "outputs": [],
   "source": [
    "## 도서목록 검색하기\n",
    "import random\n",
    "\n",
    "class TreeNode:\n",
    "    def __init__(self):\n",
    "        self.left = None\n",
    "        self.data = None\n",
    "        self.right = None\n",
    "\n",
    "def insert_node(new_node):   \n",
    "    global root\n",
    "    if root == None:   # 처음 자료이면  root로 지정\n",
    "        root = new_node\n",
    "        return\n",
    "    \n",
    "    node = root   #  처음 시작 위치 \n",
    "    while True:\n",
    "        if new_node.data[0] < node.data[0]:  #  left node 로 추가\n",
    "            if node.left == None:\n",
    "                node.left = new_node\n",
    "                return\n",
    "            node = node.left  # 다음 검색할 node로 이동\n",
    "        else:    # right node로 추가\n",
    "            if node.right == None:\n",
    "                node.right = new_node\n",
    "                return\n",
    "            node = node.right  # 다음 검색할 node로 이동\n",
    "            \n",
    "def search_node(book):\n",
    "    global root\n",
    "    node = root\n",
    "    cnt = 0\n",
    "    while True:\n",
    "        cnt += 1\n",
    "        if node.data[0] == book:\n",
    "            return cnt, node\n",
    "        if node.data[0] > book:\n",
    "            if node.left == None:\n",
    "                return cnt, None\n",
    "            node = node.left\n",
    "        else:\n",
    "            if node.right == None:\n",
    "                return cnt, None\n",
    "            node = node.right          \n",
    "\n",
    "# 전위 함수 : 현재 데이터 처리 -> 왼쪽 -> 오른쪽\n",
    "def preorder(node):\n",
    "    if node == None:\n",
    "        return\n",
    "    print(node.data, end= ' -> ' )\n",
    "    preorder(node.left)\n",
    "    preorder(node.right)\n",
    "    \n",
    "# 중위 함수 : 현재  왼쪽 -> 데이터 처리 ->오른쪽\n",
    "def inorder(node):\n",
    "    if node == None:\n",
    "        return\n",
    "    inorder(node.left)    \n",
    "    print(node.data, end= ' -> ' )\n",
    "    inorder(node.right)    \n",
    "    \n",
    "# 후위 함수 : 현재  왼쪽 ->오른쪽 ->데이터 처리\n",
    "def postorder(node):\n",
    "    if node == None:\n",
    "        return\n",
    "    postorder(node.left)  \n",
    "    postorder(node.right)    \n",
    "    print(node.data, end= ' -> ' )\n",
    "        "
   ]
  },
  {
   "cell_type": "code",
   "execution_count": 4,
   "id": "1809c996",
   "metadata": {},
   "outputs": [
    {
     "name": "stdout",
     "output_type": "stream",
     "text": [
      "['대지', '펄벅'] -> ['데미안', '헤르만헤세'] -> ['돈키호테', '세브반테스'] -> ['동물농장', '조지오웰'] -> ['부활', '톨스토이'] -> ['신곡', '단테'] -> ['어린왕자', '쌩떽쥐베리'] -> ['이방인', '까뮈'] -> ['파우스트', '괴테'] -> "
     ]
    }
   ],
   "source": [
    "# 책 제목을 입력하면 작가와 책 제목 출력 -> 몇회 만에 검색했는지 횟수 출력\n",
    "#   책이름으로  이진트리 구성\n",
    "\n",
    "root = None\n",
    "bookAry = [ ['어린왕자', '쌩떽쥐베리'],['이방인', '까뮈'], ['부활', '톨스토이'],\n",
    "            ['신곡', '단테'], ['돈키호테', '세브반테스'], ['동물농장', '조지오웰'],\n",
    "            ['데미안','헤르만헤세'], ['파우스트', '괴테'], ['대지', '펄벅'] ]\n",
    "\n",
    "random.shuffle(bookAry)\n",
    "\n",
    "node = TreeNode()\n",
    "node.data = bookAry[0]\n",
    "root = node\n",
    "for book in bookAry[1:]:\n",
    "    node = TreeNode()\n",
    "    node.data = book\n",
    "    insert_node(node)\n",
    "    \n",
    "inorder(root)"
   ]
  },
  {
   "cell_type": "code",
   "execution_count": 5,
   "id": "26fe36a1",
   "metadata": {},
   "outputs": [
    {
     "name": "stdout",
     "output_type": "stream",
     "text": [
      "검색할 책 제목 입력 --> 신곡\n",
      " 신곡 : 단테,  검색횟수 : 5 \n"
     ]
    }
   ],
   "source": [
    "## 책 이름 검색 ##\n",
    "findBook = input('검색할 책 제목 입력 --> ')\n",
    "cnt, node = search_node(findBook)\n",
    "if node:\n",
    "    print(f' {node.data[0] } : {node.data[1]},  검색횟수 : {cnt} ')\n",
    "else:\n",
    "    print('검색할 책 자료 없음')"
   ]
  }
 ],
 "metadata": {
  "kernelspec": {
   "display_name": "Python 3 (ipykernel)",
   "language": "python",
   "name": "python3"
  },
  "language_info": {
   "codemirror_mode": {
    "name": "ipython",
    "version": 3
   },
   "file_extension": ".py",
   "mimetype": "text/x-python",
   "name": "python",
   "nbconvert_exporter": "python",
   "pygments_lexer": "ipython3",
   "version": "3.9.13"
  }
 },
 "nbformat": 4,
 "nbformat_minor": 5
}
