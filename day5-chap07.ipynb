{
 "cells": [
  {
   "cell_type": "code",
   "execution_count": 6,
   "id": "2ab4441d",
   "metadata": {
    "scrolled": true
   },
   "outputs": [
    {
     "name": "stdout",
     "output_type": "stream",
     "text": [
      "Requirement already satisfied: bs4 in c:\\users\\82103\\anaconda3\\lib\\site-packages (0.0.1)\n",
      "Requirement already satisfied: beautifulsoup4 in c:\\users\\82103\\anaconda3\\lib\\site-packages (from bs4) (4.11.1)\n",
      "Requirement already satisfied: soupsieve>1.2 in c:\\users\\82103\\anaconda3\\lib\\site-packages (from beautifulsoup4->bs4) (2.3.1)\n"
     ]
    }
   ],
   "source": [
    "# !dir       # !명령어 (도스 명령어 또는 리눅스, 맥의 명령어)\n",
    "!pip install bs4"
   ]
  },
  {
   "cell_type": "code",
   "execution_count": 7,
   "id": "1b7e54e2",
   "metadata": {},
   "outputs": [],
   "source": [
    "from bs4 import BeautifulSoup"
   ]
  },
  {
   "cell_type": "code",
   "execution_count": 8,
   "id": "4a85bf83",
   "metadata": {},
   "outputs": [],
   "source": [
    "ex1 = '''\n",
    "<html>\n",
    "    <head>\n",
    "        <title> HTML 연습 </title>\n",
    "    </head>\n",
    "    <body>\n",
    "        <p align='center'> text 1 </p>\n",
    "        <p align='right'> text 2 </p>\n",
    "        <p align='left'> text 3 </p>\n",
    "        <img src=\"./HTML 예제/좌우명.png\">\n",
    "    </body>\n",
    "</html>\n",
    "'''"
   ]
  },
  {
   "cell_type": "code",
   "execution_count": 9,
   "id": "474233f1",
   "metadata": {},
   "outputs": [
    {
     "name": "stdout",
     "output_type": "stream",
     "text": [
      "<title> HTML 연습 </title>\n",
      "<p align=\"center\"> text 1 </p>\n"
     ]
    }
   ],
   "source": [
    "soup = BeautifulSoup(ex1)     #문자열을 html tag 형식으로 변환해 줌\n",
    "print(soup.find('title'))     # <title> HTML 연습 </title>\n",
    "print(soup.find('p'))         #<\n",
    "soup.find('q')"
   ]
  },
  {
   "cell_type": "code",
   "execution_count": 10,
   "id": "e1b68931",
   "metadata": {},
   "outputs": [],
   "source": [
    "ex1 = '''\n",
    "<html>\n",
    "    <head>\n",
    "        <title> HTML 연습 </title>\n",
    "    </head>\n",
    "    <body>\n",
    "        <p align='center'> text 1 </p>\n",
    "        <p align='right'> text 2 </p>\n",
    "        <p align='left'> text 3 </p>\n",
    "        <img src=\"./HTML 예제/좌우명.png\">\n",
    "    </body>\n",
    "</html>\n",
    "'''\n"
   ]
  },
  {
   "cell_type": "code",
   "execution_count": 11,
   "id": "11b64861",
   "metadata": {},
   "outputs": [
    {
     "name": "stdout",
     "output_type": "stream",
     "text": [
      "<p align=\"center\"> text 1 </p>\n",
      "<p align=\"center\"> text 1 </p>\n",
      "<p align=\"right\"> text 2 </p>\n"
     ]
    }
   ],
   "source": [
    "soup = BeautifulSoup(ex1)\n",
    "print(soup.find('p'))       # <p align='center'> test 1 </p>\n",
    "print(soup.find('p', align='center'))   # <p align='center'> test 1 </p>\n",
    "print(soup.find('p',align='right'))    #< p align='right'> test 2 </p>"
   ]
  },
  {
   "cell_type": "code",
   "execution_count": 12,
   "id": "30967d75",
   "metadata": {},
   "outputs": [
    {
     "name": "stdout",
     "output_type": "stream",
     "text": [
      "[<p align=\"center\"> text 1 </p>, <p align=\"right\"> text 2 </p>, <p align=\"left\"> text 3 </p>]\n",
      "[<p align=\"center\"> text 1 </p>, <p align=\"right\"> text 2 </p>, <p align=\"left\"> text 3 </p>, <img src=\"./HTML 예제/좌우명.png\"/>]\n"
     ]
    }
   ],
   "source": [
    "print(soup.find_all('p'))\n",
    "\n",
    "# <p> 와 <img> 태그를 동시에 검색 -> 자료를 리스트로\n",
    "print(soup.find_all(['p', 'img']))"
   ]
  },
  {
   "cell_type": "code",
   "execution_count": 13,
   "id": "6266fe43",
   "metadata": {},
   "outputs": [
    {
     "name": "stdout",
     "output_type": "stream",
     "text": [
      "<p align=\"center\"> text 1 </p>  text 1 \n",
      " text 1 \n",
      "1\n",
      "\n",
      "<p align=\"right\"> text 2 </p>  text 2 \n",
      " text 2 \n",
      "1\n",
      "\n",
      "<p align=\"left\"> text 3 </p>  text 3 \n",
      " text 3 \n",
      "1\n",
      "\n",
      "<img src=\"./HTML 예제/좌우명.png\"/> \n",
      "\n",
      "\n"
     ]
    }
   ],
   "source": [
    "find_list = soup.find_all(['p', 'img'])\n",
    "for i in find_list:\n",
    "    print(i, i.text)  # 태그의 텍스트 추출\n",
    "    print(i.get_text())\n",
    "    if i.get_text():\n",
    "        print(i.text.find('t'))\n",
    "    print()"
   ]
  },
  {
   "cell_type": "code",
   "execution_count": 14,
   "id": "bbd20ede",
   "metadata": {},
   "outputs": [],
   "source": [
    "ex2 = '''\n",
    "<html>\n",
    "    <head>\n",
    "        <h1> 사야할 과일\n",
    "    </head>\n",
    "    <body>\n",
    "        <h1> 시장가서 사야할 과일 목록\n",
    "            <div>\n",
    "                <p id='fruits1' class='name1' title='바나나'> 바나나\n",
    "                <span class='price'> 3000원 </span>\n",
    "                <span class='count'> 10개 </span>\n",
    "                <span class='store'> 바나나가게 </span>\n",
    "                <a href='https://www.banana.com/%27%3E banana.com </a>\n",
    "                </p>\n",
    "            </div>\n",
    "            <div>\n",
    "                <p id='fruits2' class='name2' title='체리'> 체리\n",
    "                <span class='price'> 100원 </span>\n",
    "                <span class='count'> 50개 </span>\n",
    "                <span class='store'> 체리가게 </span>\n",
    "                <a href='https://www.cherry.com/%27%3E cherry.com </a>\n",
    "                </p>\n",
    "            </div>\n",
    "            <div>\n",
    "                <p id='fruits3' class='name3' title='오렌지'> 오렌지\n",
    "                <span class='price'> 500원 </span>\n",
    "                <span class='count'> 20개 </span>\n",
    "                <span class='store'> 오렌지가게 </span>\n",
    "                <a href='https://www.orange.com/%27%3E orange.com </a>\n",
    "                </p>\n",
    "            </div>\n",
    "    </body>\n",
    "</html>\n",
    "'''"
   ]
  },
  {
   "cell_type": "code",
   "execution_count": 15,
   "id": "14af4698",
   "metadata": {},
   "outputs": [
    {
     "name": "stdout",
     "output_type": "stream",
     "text": [
      "[<p class=\"name1\" id=\"fruits1\" title=\"바나나\"> 바나나\n",
      "                <span class=\"price\"> 3000원 </span>\n",
      "<span class=\"count\"> 10개 </span>\n",
      "<span class=\"store\"> 바나나가게 </span>\n",
      "<a class=\"name2\" fruits2=\"\" href=\"https://www.banana.com/%27%3E banana.com &lt;/a&gt;\n",
      "                &lt;/p&gt;\n",
      "            &lt;/div&gt;\n",
      "            &lt;div&gt;\n",
      "                &lt;p id=\" title=\"체리\"> 체리\n",
      "                <span class=\"price\"> 100원 </span>\n",
      "<span class=\"count\"> 50개 </span>\n",
      "<span class=\"store\"> 체리가게 </span>\n",
      "</a><a class=\"name3\" fruits3=\"\" href=\"https://www.cherry.com/%27%3E cherry.com &lt;/a&gt;\n",
      "                &lt;/p&gt;\n",
      "            &lt;/div&gt;\n",
      "            &lt;div&gt;\n",
      "                &lt;p id=\" title=\"오렌지\"> 오렌지\n",
      "                <span class=\"price\"> 500원 </span>\n",
      "<span class=\"count\"> 20개 </span>\n",
      "<span class=\"store\"> 오렌지가게 </span>\n",
      "</a><a href=\"https://www.orange.com/%27%3E orange.com &lt;/a&gt;\n",
      "                &lt;/p&gt;\n",
      "            &lt;/div&gt;\n",
      "    &lt;/body&gt;\n",
      "&lt;/html&gt;\n",
      "\"></a></p>]\n",
      "[<a class=\"name2\" fruits2=\"\" href=\"https://www.banana.com/%27%3E banana.com &lt;/a&gt;\n",
      "                &lt;/p&gt;\n",
      "            &lt;/div&gt;\n",
      "            &lt;div&gt;\n",
      "                &lt;p id=\" title=\"체리\"> 체리\n",
      "                <span class=\"price\"> 100원 </span>\n",
      "<span class=\"count\"> 50개 </span>\n",
      "<span class=\"store\"> 체리가게 </span>\n",
      "</a>, <a class=\"name3\" fruits3=\"\" href=\"https://www.cherry.com/%27%3E cherry.com &lt;/a&gt;\n",
      "                &lt;/p&gt;\n",
      "            &lt;/div&gt;\n",
      "            &lt;div&gt;\n",
      "                &lt;p id=\" title=\"오렌지\"> 오렌지\n",
      "                <span class=\"price\"> 500원 </span>\n",
      "<span class=\"count\"> 20개 </span>\n",
      "<span class=\"store\"> 오렌지가게 </span>\n",
      "</a>, <a href=\"https://www.orange.com/%27%3E orange.com &lt;/a&gt;\n",
      "                &lt;/p&gt;\n",
      "            &lt;/div&gt;\n",
      "    &lt;/body&gt;\n",
      "&lt;/html&gt;\n",
      "\"></a>]\n"
     ]
    }
   ],
   "source": [
    "soup = BeautifulSoup(ex2)\n",
    "\n",
    "# select(\"태그명\")\n",
    "# class 명을 이용하여 추출\n",
    "# select(\".클래스명\")\n",
    "    # select(태그명.클래스명) -> select(p.name1)\n",
    "    # find(태그명, class_=\"클래스명\")\n",
    "# class= name1 을 추출\n",
    "print(soup.select(\".name1\"))\n",
    "\n",
    "# select('상위태그>하위태그>하위태그')\n",
    "soup.select('div>p>span')\n",
    "\n",
    "# select('태그명[속성1]') 이용하여 내용 출력\n",
    "print(soup.select('a[href]'))"
   ]
  },
  {
   "cell_type": "code",
   "execution_count": null,
   "id": "311c8aae",
   "metadata": {},
   "outputs": [],
   "source": []
  }
 ],
 "metadata": {
  "kernelspec": {
   "display_name": "Python 3 (ipykernel)",
   "language": "python",
   "name": "python3"
  },
  "language_info": {
   "codemirror_mode": {
    "name": "ipython",
    "version": 3
   },
   "file_extension": ".py",
   "mimetype": "text/x-python",
   "name": "python",
   "nbconvert_exporter": "python",
   "pygments_lexer": "ipython3",
   "version": "3.9.13"
  }
 },
 "nbformat": 4,
 "nbformat_minor": 5
}
