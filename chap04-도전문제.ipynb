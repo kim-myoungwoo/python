{
 "cells": [
  {
   "cell_type": "code",
   "execution_count": 1,
   "id": "295751b1",
   "metadata": {},
   "outputs": [
    {
     "name": "stdout",
     "output_type": "stream",
     "text": [
      "{1: 4, 2: 3, 3: 3, 4: 2}\n"
     ]
    }
   ],
   "source": [
    "# 1. 숫자의 종류 얼마만큼 사용했는지 출력\n",
    "list_a = [1,2,3,4,1,2,3,1,2,3,1,4]\n",
    "dict_a ={}\n",
    "for num in list_a:\n",
    "    if num in dict_a:\n",
    "        dict_a[num] += 1\n",
    "    else:\n",
    "        dict_a[num] = 1\n",
    "print(dict_a)    "
   ]
  },
  {
   "cell_type": "code",
   "execution_count": 4,
   "id": "21368ded",
   "metadata": {},
   "outputs": [
    {
     "name": "stdout",
     "output_type": "stream",
     "text": [
      "염기의 서열 입력 > ctatcttatctcggctgat\n",
      "{'c': 5, 't': 8, 'a': 3, 'g': 3}\n"
     ]
    }
   ],
   "source": [
    "# 2. 염기의 개수 -> 염기 서열을 입력받아 염기의 개수를 출력\n",
    "input_data = input('염기의 서열 입력 > ')\n",
    "dict_b = {}\n",
    "for char in input_data:\n",
    "    if char in dict_b:\n",
    "        dict_b[char] += 1\n",
    "    else:\n",
    "        dict_b[char] = 1\n",
    "print(dict_b)"
   ]
  },
  {
   "cell_type": "code",
   "execution_count": 6,
   "id": "5d6117e1",
   "metadata": {},
   "outputs": [
    {
     "name": "stdout",
     "output_type": "stream",
     "text": [
      "염기의 서열 입력 > ctatcgcgtacgtc\n",
      "{'cta': 1, 'tcg': 1, 'cgt': 1, 'acg': 1}\n"
     ]
    }
   ],
   "source": [
    "# 3. 염기 코돈의 개수 -> 염기 서욜울 3개씩 묶어 염기 코돈의 개수를 출력\n",
    "input_data = input('염기의 서열 입력 > ')\n",
    "dict_c = {}\n",
    "for idx in range(0,len(input_data), 3):\n",
    "    if (idx +2) < len(input_data):    # 마지막 코드의 글자 수가 3보다 작으면 실핼 안함\n",
    "        codon = input_data[idx:idx +3]\n",
    "        if codon in dict_c:\n",
    "            dict_c[codon] += 1\n",
    "        else:\n",
    "            dict_c[codon] = 1\n",
    "print(dict_c)"
   ]
  },
  {
   "cell_type": "code",
   "execution_count": 7,
   "id": "6d5e9460",
   "metadata": {},
   "outputs": [
    {
     "name": "stdout",
     "output_type": "stream",
     "text": [
      "[1, 2, 3, 4, 5, 6, 7, 8, 9]\n"
     ]
    }
   ],
   "source": [
    "# 4. 2차원 리스트의 평탄화\n",
    "list_a = [1,2,[3,4],5,[6,7],[8,9]]  #  -> [1,2,3,4,5,6,7,8,9]\n",
    "output = []\n",
    "for num in list_a:\n",
    "    if type(num) == list:\n",
    "        output.extend(num)\n",
    "    else:\n",
    "        output.append(num)\n",
    "print(output)"
   ]
  },
  {
   "cell_type": "code",
   "execution_count": null,
   "id": "3451ff1d",
   "metadata": {},
   "outputs": [],
   "source": []
  }
 ],
 "metadata": {
  "kernelspec": {
   "display_name": "Python 3 (ipykernel)",
   "language": "python",
   "name": "python3"
  },
  "language_info": {
   "codemirror_mode": {
    "name": "ipython",
    "version": 3
   },
   "file_extension": ".py",
   "mimetype": "text/x-python",
   "name": "python",
   "nbconvert_exporter": "python",
   "pygments_lexer": "ipython3",
   "version": "3.9.13"
  }
 },
 "nbformat": 4,
 "nbformat_minor": 5
}
