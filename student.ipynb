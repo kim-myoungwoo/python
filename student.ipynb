{
 "cells": [
  {
   "cell_type": "code",
   "execution_count": 1,
   "id": "e890c9ff",
   "metadata": {},
   "outputs": [],
   "source": [
    "# 메뉴\n",
    "# 1. 학생 정보 등록 (이름, 성적)\n",
    "# 2. 전체 학생 자료 출력\n",
    "# 3. 학생의 정보 검색\n",
    "# 4. 학생의 총점, 평균 출력"
   ]
  },
  {
   "cell_type": "code",
   "execution_count": 3,
   "id": "0527ba39",
   "metadata": {},
   "outputs": [
    {
     "ename": "IndentationError",
     "evalue": "unindent does not match any outer indentation level (<tokenize>, line 4)",
     "output_type": "error",
     "traceback": [
      "\u001b[1;36m  File \u001b[1;32m\"<tokenize>\"\u001b[1;36m, line \u001b[1;32m4\u001b[0m\n\u001b[1;33m    1. 학생 정보 등록\u001b[0m\n\u001b[1;37m    ^\u001b[0m\n\u001b[1;31mIndentationError\u001b[0m\u001b[1;31m:\u001b[0m unindent does not match any outer indentation level\n"
     ]
    }
   ],
   "source": [
    "# ################################\n",
    "#           학사 관리\n",
    "# ################################\n",
    "#  1. 학생 정보 등록\n",
    "#  2. 전체 자료 조회\n",
    "#  3. 특정 학생 정보 검색\n",
    "#  4. 총점, 평균 출력\n",
    "#  5. 종료\n",
    "# ################################"
   ]
  },
  {
   "cell_type": "code",
   "execution_count": 24,
   "id": "a38c3570",
   "metadata": {},
   "outputs": [],
   "source": [
    "def print_menu():\n",
    "    prt = '''\\\n",
    "############################\n",
    "     학사 관리\n",
    "#############################\n",
    " 1. 학생 정보 등록\n",
    " 2. 전체 자료 조회\n",
    " 3. 특정 학생 정보 검색\n",
    " 4. 총점, 평균 출력\n",
    " 5. 종료\n",
    "############################'''\n",
    "    print(prt)\n",
    "    \n",
    "def insert():\n",
    "    students = {}\n",
    "    while True:\n",
    "        student = input('학생의 이름과 성적을 입력하세요 >')\n",
    "        if student == 'q':\n",
    "            break\n",
    "        student = student.split()\n",
    "        if len(student) != 2 or not student[1].isdigit():\n",
    "            print('다시 입력')\n",
    "            continue\n",
    "        students[student[0]] = int(student[1])\n",
    "    return students\n",
    "\n",
    "def list_student(students):\n",
    "    for name, score in students.items():\n",
    "        print(f'{name} : {score}')\n",
    "\n",
    "def search(students):\n",
    "    s_name = input('학생의 이름을 입력해주세요>')\n",
    "    if s_name in students:\n",
    "        print(f'{s_name} 학생의 성적은 {students[s_name]} >')\n",
    "    else:\n",
    "        print('이 학생의 정보는 존재하지 않습니다')\n",
    "        \n",
    "def print_total(students):\n",
    "    tot = 0\n",
    "    for key in students:\n",
    "        tot += students[key]\n",
    "        \n",
    "    print('총 인원수 {}, 총점 {}, 학생의 평균 {}'.format(len(students), tot, tot/len(students)))\n",
    "        "
   ]
  },
  {
   "cell_type": "code",
   "execution_count": 26,
   "id": "46d170dc",
   "metadata": {},
   "outputs": [
    {
     "name": "stdout",
     "output_type": "stream",
     "text": [
      "############################\n",
      "     학사 관리\n",
      "#############################\n",
      " 1. 학생 정보 등록\n",
      " 2. 전체 자료 조회\n",
      " 3. 특정 학생 정보 검색\n",
      " 4. 총점, 평균 출력\n",
      " 5. 종료\n",
      "############################\n",
      " 메뉴 입력 > 1\n",
      "학생의 이름과 성적을 입력하세요 >a 99\n",
      "학생의 이름과 성적을 입력하세요 >b 90\n",
      "학생의 이름과 성적을 입력하세요 >c 80\n",
      "학생의 이름과 성적을 입력하세요 >d 100\n",
      "학생의 이름과 성적을 입력하세요 >e 40\n",
      "학생의 이름과 성적을 입력하세요 >q\n",
      "############################\n",
      "     학사 관리\n",
      "#############################\n",
      " 1. 학생 정보 등록\n",
      " 2. 전체 자료 조회\n",
      " 3. 특정 학생 정보 검색\n",
      " 4. 총점, 평균 출력\n",
      " 5. 종료\n",
      "############################\n",
      " 메뉴 입력 > 2\n"
     ]
    },
    {
     "ename": "NameError",
     "evalue": "name 'students' is not defined",
     "output_type": "error",
     "traceback": [
      "\u001b[1;31m---------------------------------------------------------------------------\u001b[0m",
      "\u001b[1;31mNameError\u001b[0m                                 Traceback (most recent call last)",
      "\u001b[1;32m~\\AppData\\Local\\Temp\\ipykernel_17060\\3503673819.py\u001b[0m in \u001b[0;36m<module>\u001b[1;34m\u001b[0m\n\u001b[0;32m      7\u001b[0m         \u001b[0minsert\u001b[0m\u001b[1;33m(\u001b[0m\u001b[1;33m)\u001b[0m\u001b[1;33m\u001b[0m\u001b[1;33m\u001b[0m\u001b[0m\n\u001b[0;32m      8\u001b[0m     \u001b[1;32melif\u001b[0m \u001b[0mmenu\u001b[0m \u001b[1;33m==\u001b[0m \u001b[1;34m'2'\u001b[0m\u001b[1;33m:\u001b[0m\u001b[1;33m\u001b[0m\u001b[1;33m\u001b[0m\u001b[0m\n\u001b[1;32m----> 9\u001b[1;33m         \u001b[0mlist_student\u001b[0m\u001b[1;33m(\u001b[0m\u001b[0mstudents\u001b[0m\u001b[1;33m)\u001b[0m\u001b[1;33m\u001b[0m\u001b[1;33m\u001b[0m\u001b[0m\n\u001b[0m\u001b[0;32m     10\u001b[0m     \u001b[1;32melif\u001b[0m \u001b[0mmenu\u001b[0m \u001b[1;33m==\u001b[0m \u001b[1;34m'3'\u001b[0m\u001b[1;33m:\u001b[0m\u001b[1;33m\u001b[0m\u001b[1;33m\u001b[0m\u001b[0m\n\u001b[0;32m     11\u001b[0m         \u001b[0msearch\u001b[0m\u001b[1;33m(\u001b[0m\u001b[0mstudents\u001b[0m\u001b[1;33m)\u001b[0m\u001b[1;33m\u001b[0m\u001b[1;33m\u001b[0m\u001b[0m\n",
      "\u001b[1;31mNameError\u001b[0m: name 'students' is not defined"
     ]
    }
   ],
   "source": [
    "while True:\n",
    "    print_menu()\n",
    "    menu = input(\" 메뉴 입력 > \")\n",
    "    if menu == '5':\n",
    "        break\n",
    "    if menu == '1':\n",
    "        insert()\n",
    "    elif menu == '2':\n",
    "        list_student(students)\n",
    "    elif menu == '3':\n",
    "        search(students)\n",
    "    elif menu =='4':\n",
    "        print_total(students)\n",
    "print('\\n프로그램 종료')"
   ]
  },
  {
   "cell_type": "code",
   "execution_count": null,
   "id": "d764ce86",
   "metadata": {},
   "outputs": [],
   "source": []
  }
 ],
 "metadata": {
  "kernelspec": {
   "display_name": "Python 3 (ipykernel)",
   "language": "python",
   "name": "python3"
  },
  "language_info": {
   "codemirror_mode": {
    "name": "ipython",
    "version": 3
   },
   "file_extension": ".py",
   "mimetype": "text/x-python",
   "name": "python",
   "nbconvert_exporter": "python",
   "pygments_lexer": "ipython3",
   "version": "3.9.13"
  }
 },
 "nbformat": 4,
 "nbformat_minor": 5
}
