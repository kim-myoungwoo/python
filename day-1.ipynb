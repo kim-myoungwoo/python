{
 "cells": [
  {
   "cell_type": "code",
   "execution_count": 8,
   "id": "4312fe53",
   "metadata": {},
   "outputs": [
    {
     "name": "stdout",
     "output_type": "stream",
     "text": [
      "hello\n"
     ]
    }
   ],
   "source": [
    "print('hello')"
   ]
  },
  {
   "cell_type": "code",
   "execution_count": 9,
   "id": "e25ccc6e",
   "metadata": {
    "scrolled": true
   },
   "outputs": [
    {
     "name": "stdout",
     "output_type": "stream",
     "text": [
      "hello,0,O Python\n"
     ]
    }
   ],
   "source": [
    "print('hello,0,O Python')"
   ]
  },
  {
   "cell_type": "code",
   "execution_count": 10,
   "id": "5050447e",
   "metadata": {},
   "outputs": [
    {
     "name": "stdout",
     "output_type": "stream",
     "text": [
      "['False', 'None', 'True', '__peg_parser__', 'and', 'as', 'assert', 'async', 'await', 'break', 'class', 'continue', 'def', 'del', 'elif', 'else', 'except', 'finally', 'for', 'from', 'global', 'if', 'import', 'in', 'is', 'lambda', 'nonlocal', 'not', 'or', 'pass', 'raise', 'return', 'try', 'while', 'with', 'yield']\n"
     ]
    }
   ],
   "source": [
    "import keyword\n",
    "\n",
    "print(keyword.kwlist)"
   ]
  },
  {
   "cell_type": "code",
   "execution_count": 14,
   "id": "019662cc",
   "metadata": {},
   "outputs": [
    {
     "name": "stdout",
     "output_type": "stream",
     "text": [
      "test 10 20 abcd\n",
      "hello\n"
     ]
    }
   ],
   "source": [
    "# print() 함수 실행\n",
    "print('test', 10, 20, 'abcd') # test 10 20 abcd\n",
    "print('hello')"
   ]
  },
  {
   "cell_type": "code",
   "execution_count": 15,
   "id": "a2e01810",
   "metadata": {},
   "outputs": [
    {
     "name": "stdout",
     "output_type": "stream",
     "text": [
      "test##10##20##abcdhello\n"
     ]
    }
   ],
   "source": [
    "print('test', 10, 20, 'abcd', sep='##', end='') # 구분자 변경\n",
    "print('hello')"
   ]
  },
  {
   "cell_type": "code",
   "execution_count": 16,
   "id": "50fd52e1",
   "metadata": {},
   "outputs": [
    {
     "name": "stdout",
     "output_type": "stream",
     "text": [
      "test\t10\t20\tabcd hello\n"
     ]
    }
   ],
   "source": [
    "print('test', 10, 20, 'abcd', sep='\\t', end=' ')\n",
    "print('hello')"
   ]
  },
  {
   "cell_type": "code",
   "execution_count": 22,
   "id": "6e462ac9",
   "metadata": {},
   "outputs": [
    {
     "name": "stdout",
     "output_type": "stream",
     "text": [
      "# 하나만 출력합니다.\n",
      "Hello Python Programming...!\n",
      "\n",
      "# 여러 개를 출력합니다.\n",
      "10 20 30 40 50\n",
      "안녕하세요 저의 이름은 윤인성입니다!\n",
      "\n",
      "# 아무것도 출력하지 않습니다.\n",
      "--- 확인 전용선 ---\n",
      "\n",
      "\n",
      "--- 확인 전용선 ---\n"
     ]
    }
   ],
   "source": [
    "# 하나만 출력합니다.\n",
    "print(\"# 하나만 출력합니다.\")\n",
    "print(\"Hello Python Programming...!\")\n",
    "print()\n",
    "\n",
    "# 여러 개를 출력합니다.\n",
    "print('# 여러 개를 출력합니다.')\n",
    "print('10 20 30 40 50')\n",
    "print(\"안녕하세요 저의 이름은 윤인성입니다!\")\n",
    "print()\n",
    "\n",
    "#아무것도 출력하지 않습니다.\n",
    "print('# 아무것도 출력하지 않습니다.')\n",
    "print(\"--- 확인 전용선 ---\")\n",
    "print()\n",
    "print()\n",
    "print(\"--- 확인 전용선 ---\")"
   ]
  },
  {
   "cell_type": "markdown",
   "id": "2d05e32d",
   "metadata": {},
   "source": [
    "## chap02 자료형\n",
    "## chap02 -1 자료형과 문자열"
   ]
  },
  {
   "cell_type": "markdown",
   "id": "6a734f94",
   "metadata": {},
   "source": [
    "# 자료형과 기본 자료형\n",
    "# 문자열 : '  ' 또는 \"  \"\n",
    "# 숫자 : int, float\n",
    "# 불리언 : True, False"
   ]
  },
  {
   "cell_type": "code",
   "execution_count": 25,
   "id": "1648a874",
   "metadata": {},
   "outputs": [
    {
     "name": "stdout",
     "output_type": "stream",
     "text": [
      "<class 'str'>\n",
      "<class 'float'>\n",
      "<class 'bool'>\n"
     ]
    }
   ],
   "source": [
    "# type(데이터) -> 데이터의 자료형 반환\n",
    "print(type('테스트')) # class str\n",
    "print(type(56.3))     # class float\n",
    "print(type(True))     # class bool"
   ]
  },
  {
   "cell_type": "code",
   "execution_count": 27,
   "id": "4afdc580",
   "metadata": {},
   "outputs": [
    {
     "name": "stdout",
     "output_type": "stream",
     "text": [
      "hello's \n"
     ]
    }
   ],
   "source": [
    "# print('hello's ')   # error '을 일반 문자로 출력 하고자 함'\n",
    "# escpae 문자 \\를 이용하여 특수문자를 일반문자로 인식\n",
    "# \\t, \\n 사용가능\n",
    "print('hello\\'s ')  #\\', \\\" '과 \"를 일반문자로 인식한다."
   ]
  },
  {
   "cell_type": "code",
   "execution_count": 39,
   "id": "2bf3d7f2",
   "metadata": {},
   "outputs": [
    {
     "name": "stdout",
     "output_type": "stream",
     "text": [
      "test abcd \n",
      " 일반문자\n",
      "\n",
      "\n",
      "test abcd\n",
      " 일반문자\n",
      "\n",
      "test abcd\n",
      " 일반문자\n"
     ]
    }
   ],
   "source": [
    "# 여러 줄에 걸쳐서 문자열 출력\n",
    "print('test abcd \\n 일반문자')\n",
    "print()\n",
    "\n",
    "print('''\n",
    "test abcd\n",
    " 일반문자''')\n",
    "print()\n",
    "print('''\\\n",
    "test abcd\n",
    " 일반문자''')"
   ]
  },
  {
   "cell_type": "code",
   "execution_count": 41,
   "id": "653e534e",
   "metadata": {},
   "outputs": [
    {
     "name": "stdout",
     "output_type": "stream",
     "text": [
      "test abcd\n",
      " 일반문자\n"
     ]
    }
   ],
   "source": [
    "print(\"\"\"test abcd\n",
    " 일반문자\"\"\")"
   ]
  },
  {
   "cell_type": "code",
   "execution_count": 44,
   "id": "a38ead06",
   "metadata": {},
   "outputs": [
    {
     "name": "stdout",
     "output_type": "stream",
     "text": [
      "안녕하세요python\n",
      "test1\n",
      "testtesttest\n",
      "testtesttest\n"
     ]
    }
   ],
   "source": [
    "# 문자열 연산자 : +, *\n",
    "print('안녕하세요' + 'python')\n",
    "print('test' + '1')\n",
    "print('test' *3)\n",
    "print(3 * 'test')"
   ]
  },
  {
   "cell_type": "code",
   "execution_count": 51,
   "id": "2ba64c5c",
   "metadata": {},
   "outputs": [
    {
     "name": "stdout",
     "output_type": "stream",
     "text": [
      "안\n",
      "녕\n",
      "하\n",
      "세\n",
      "요\n",
      "\n",
      "요\n",
      "세\n",
      "하\n",
      "녕\n",
      "안\n"
     ]
    }
   ],
   "source": [
    "# 문자열 인덱싱 : 0부터 시작\n",
    "print('안녕하세요'[0]) # '안'\n",
    "print('안녕하세요'[1]) # '녕'\n",
    "print('안녕하세요'[2]) # '하'\n",
    "print('안녕하세요'[3]) # '세'\n",
    "print('안녕하세요'[4]) # '요'\n",
    "# print('안녕하세요'[5]) # 'error'\n",
    "print()\n",
    "print('안녕하세요'[-1]) # '요'\n",
    "print('안녕하세요'[-2]) # '세'\n",
    "print('안녕하세요'[-3]) # '하'\n",
    "print('안녕하세요'[-4]) # '녕'\n",
    "print('안녕하세요'[-5]) # '안'"
   ]
  },
  {
   "cell_type": "code",
   "execution_count": 54,
   "id": "e2bf0812",
   "metadata": {},
   "outputs": [
    {
     "name": "stdout",
     "output_type": "stream",
     "text": [
      "안녕\n",
      "안녕\n",
      "세요\n",
      "요\n",
      "요\n"
     ]
    }
   ],
   "source": [
    "# '안녕하세요' -> 문자열 일부를 자르기\n",
    "# 문자열[start : stop] -> start 는 포함 stop는 포함하지 않음\n",
    "print('안녕하세요'[0:2]) # 안녕\n",
    "\n",
    "# 문자열[ : stop] -> 처음부터  stop 전까지\n",
    "print('안녕하세요'[:2]) # 안녕\n",
    "\n",
    "# 문자열[start: ] -> start부터 마지막까지\n",
    "print('안녕하세요'[3:]) # 세요\n",
    "\n",
    "#문자열[-1] : 마지막 문자\n",
    "print('안녕하세요'[-1]) # 요\n",
    "\n",
    "#문자열[-1] : 마지막 문자 또는 전체 길이의 -1 인덱스\n",
    "print('안녕하세요'[len('안녕하세요')-1]) # 요"
   ]
  },
  {
   "cell_type": "code",
   "execution_count": 55,
   "id": "4d061609",
   "metadata": {},
   "outputs": [
    {
     "name": "stdout",
     "output_type": "stream",
     "text": [
      "30 8.333333333333334 8 1\n"
     ]
    }
   ],
   "source": [
    "# 숫자 : 연산자 , +, -, *, /, //, %, **\n",
    "print(10+20, 25/3, 25//3, 25%3)"
   ]
  },
  {
   "cell_type": "code",
   "execution_count": 57,
   "id": "f0422575",
   "metadata": {},
   "outputs": [
    {
     "name": "stdout",
     "output_type": "stream",
     "text": [
      "str1\n"
     ]
    },
    {
     "data": {
      "text/plain": [
       "20"
      ]
     },
     "execution_count": 57,
     "metadata": {},
     "output_type": "execute_result"
    }
   ],
   "source": [
    "print('str' + str(1))\n",
    "\n",
    "10 + int('10')"
   ]
  },
  {
   "cell_type": "markdown",
   "id": "9852bb44",
   "metadata": {},
   "source": [
    "## chap02 - 3 변수와 입력"
   ]
  },
  {
   "cell_type": "code",
   "execution_count": 64,
   "id": "b2317bc0",
   "metadata": {},
   "outputs": [
    {
     "name": "stdout",
     "output_type": "stream",
     "text": [
      "3.14 2060037114096\n",
      "hello 2060001197680\n",
      "hello 2060001197680\n"
     ]
    }
   ],
   "source": [
    "# 변수 선언 : 변수명 = 값\n",
    "pi = 3.14\n",
    "print(pi, id(pi)) # 3.14\n",
    "\n",
    "pi = 'hello'\n",
    "print(pi, id(pi)) # hello\n",
    "\n",
    "pi_copy = pi      # pi_copy 는 pi 의 값(데이터의 주소)\n",
    "print(pi_copy, id(pi_copy))"
   ]
  },
  {
   "cell_type": "code",
   "execution_count": 67,
   "id": "aec3948a",
   "metadata": {},
   "outputs": [
    {
     "name": "stdout",
     "output_type": "stream",
     "text": [
      "2059932442928\n",
      "2059932442928\n"
     ]
    }
   ],
   "source": [
    "a = \"String\"\n",
    "print(id(a))\n",
    "b = 'String'\n",
    "print(id(b))"
   ]
  },
  {
   "cell_type": "code",
   "execution_count": 69,
   "id": "2e5ad2f2",
   "metadata": {},
   "outputs": [
    {
     "name": "stdout",
     "output_type": "stream",
     "text": [
      "hellohellohello\n"
     ]
    }
   ],
   "source": [
    "a_str = 'hello'\n",
    "a_str *= 3    # a_str = a_str * 3\n",
    "print(a_str)"
   ]
  },
  {
   "cell_type": "code",
   "execution_count": 76,
   "id": "beb7be2c",
   "metadata": {},
   "outputs": [
    {
     "name": "stdout",
     "output_type": "stream",
     "text": [
      "문자 입력 : 2\n",
      "2 <class 'str'>\n",
      "102\n"
     ]
    }
   ],
   "source": [
    "# 사용자 입력 : input()\n",
    "input_str = input('문자 입력 : ')\n",
    "print(input_str, type(input_str))\n",
    "\n",
    "print(int(input_str) + 100)"
   ]
  },
  {
   "cell_type": "code",
   "execution_count": 78,
   "id": "e8a72054",
   "metadata": {},
   "outputs": [
    {
     "name": "stdout",
     "output_type": "stream",
     "text": [
      "숫자 입력 >30\n",
      "숫자 입력 >20\n",
      "30 + 20  =  50\n",
      "30 + 20 = 50\n"
     ]
    }
   ],
   "source": [
    "# 문) 숫자 두 개를 입력받아 두수의 합을 구하시오\n",
    "\n",
    "num_1 = input('숫자 입력 >')\n",
    "num_2 = int(input('숫자 입력 >'))\n",
    "num_1 = int(num_1)\n",
    "\n",
    "print(num_1, '+', num_2, ' = ', num_1 + num_2)\n",
    "print(f'{num_1} + {num_2} = {num_1 + num_2}')"
   ]
  },
  {
   "cell_type": "code",
   "execution_count": 81,
   "id": "ed367ae6",
   "metadata": {},
   "outputs": [
    {
     "name": "stdout",
     "output_type": "stream",
     "text": [
      " 실수 입력 > 40.3\n",
      " 실수 입력 > 50.9\n",
      "40.3 + 50.9 = 91.19999999999999\n",
      "40.3 * 50.9 = 2051.27\n",
      "40.3 - 50.9 = -10.600000000000001\n"
     ]
    }
   ],
   "source": [
    "# 두 개의 실수를 입력받아 두수의 합, 곱, 차를 구하세요.\n",
    "num1 = float(input(' 실수 입력 > '))\n",
    "num2 = float(input(' 실수 입력 > '))\n",
    "\n",
    "print(f\"{num1} + {num2} = {num1 + num2}\")\n",
    "print(f\"{num1} * {num2} = {num1 * num2}\")\n",
    "print(f\"{num1} - {num2} = {num1 - num2}\")"
   ]
  },
  {
   "cell_type": "code",
   "execution_count": 84,
   "id": "dfa5289b",
   "metadata": {},
   "outputs": [
    {
     "data": {
      "text/plain": [
       "'100 test 200'"
      ]
     },
     "execution_count": 84,
     "metadata": {},
     "output_type": "execute_result"
    }
   ],
   "source": [
    "# 문자열 관련 함수 : 문자열.format()\n",
    "a_string =\"{} {} {}\".format(100, 'test', 200)\n",
    "a_string"
   ]
  },
  {
   "cell_type": "code",
   "execution_count": 87,
   "id": "13a294d4",
   "metadata": {},
   "outputs": [
    {
     "data": {
      "text/plain": [
       "str"
      ]
     },
     "execution_count": 87,
     "metadata": {},
     "output_type": "execute_result"
    }
   ],
   "source": [
    "len(a_string)\n",
    "type(a_string)"
   ]
  },
  {
   "cell_type": "code",
   "execution_count": 89,
   "id": "f8d0e72f",
   "metadata": {},
   "outputs": [
    {
     "name": "stdout",
     "output_type": "stream",
     "text": [
      "HELLO PYTHON PROGRAMMING!\n",
      "hello python programming!\n"
     ]
    }
   ],
   "source": [
    "# 대소문자 바꾸기 : 문자열.upper(), 문자열.lower()\n",
    "a = \"Hello Python Programming!\"\n",
    "print(a.upper()) # 대문자로\n",
    "print(a.lower()) # 소문자로"
   ]
  },
  {
   "cell_type": "code",
   "execution_count": 98,
   "id": "b539d434",
   "metadata": {},
   "outputs": [
    {
     "name": "stdout",
     "output_type": "stream",
     "text": [
      "Hello Python Programming!\n",
      "Hello Python Programming!##\n",
      "##Hello Python Programming!\n"
     ]
    }
   ],
   "source": [
    "# 문자열 양 옆의 의미없는 공백 제거 : 문자열.strip()\n",
    "# 문자열.lstrip(), 문자열.rstrip()\n",
    "a = \"##Hello Python Programming!##\"\n",
    "print(a.strip('#'))\n",
    "print(a.lstrip('#'))\n",
    "print(a.rstrip('#'))"
   ]
  },
  {
   "cell_type": "code",
   "execution_count": 104,
   "id": "097a95e4",
   "metadata": {},
   "outputs": [
    {
     "name": "stdout",
     "output_type": "stream",
     "text": [
      "True\n"
     ]
    }
   ],
   "source": [
    "#isOO() : 자료의 타입 확인 -> True / False\n",
    "print(\"35\".isdecimal())"
   ]
  },
  {
   "cell_type": "code",
   "execution_count": 121,
   "id": "bd543798",
   "metadata": {},
   "outputs": [
    {
     "name": "stdout",
     "output_type": "stream",
     "text": [
      "0\n",
      "\n",
      "hello pyth\n",
      "hello\n",
      "hello program hello\n"
     ]
    }
   ],
   "source": [
    "# 문자열 검색 : find(), rfind(), 위치반환 \n",
    "a_str = \"hello python hello prgram hello\"\n",
    "print(a_str.find('hello')) # 0\n",
    "print()\n",
    "\n",
    "# hello 가 처음 나온 위치부터 10개의 문자 출력\n",
    "a_str =\" hello python hello program hello\"\n",
    "print(a_str[a_str.find('hello'): a_str.find('hello') + 10])\n",
    "\n",
    "# hello 가 뒤에서 부터 처음 나온 위치부터 끝까지 문자 출력\n",
    "print(a_str[a_str.rfind('hello') : ])\n",
    "\n",
    "# 두번째 hello 의 위치부터 끝까지 문자열 출력\n",
    "a_str = \"hello python hello program hello\"\n",
    "b_str = a_str[a_str.find('hello') + len('hello') :]\n",
    "print(b_str[b_str.find('hello'):])"
   ]
  },
  {
   "cell_type": "code",
   "execution_count": 129,
   "id": "681ab3b1",
   "metadata": {},
   "outputs": [
    {
     "name": "stdout",
     "output_type": "stream",
     "text": [
      "A 지점: hello\n",
      "B 지점: HELLO\n"
     ]
    },
    {
     "data": {
      "text/plain": [
       "'HELLO'"
      ]
     },
     "execution_count": 129,
     "metadata": {},
     "output_type": "execute_result"
    }
   ],
   "source": [
    "string = \"hello\"\n",
    "\n",
    "print(\"A 지점:\", string)\n",
    "print(\"B 지점:\", string.upper())\n",
    "string.upper()"
   ]
  },
  {
   "cell_type": "code",
   "execution_count": 1,
   "id": "a59616ff",
   "metadata": {},
   "outputs": [
    {
     "name": "stdout",
     "output_type": "stream",
     "text": [
      "5\n",
      "구의 반지름을 입력해주세요:  5\n",
      " = 구의 부피는  523.5986666666666\n",
      " = 구의 겉넓이는 314.1592\n"
     ]
    }
   ],
   "source": [
    "# 도전 문제\n",
    "\n",
    "# 1. 구의 부피와 겉넓이\n",
    "\n",
    "str_r = input()\n",
    "input_r = int(str_r)\n",
    "pi = 3.141592\n",
    "\n",
    "print(\"구의 반지름을 입력해주세요: \", input_r)\n",
    "print(\" = 구의 부피는 \", 4 / 3 * pi * input_r ** 3)\n",
    "print(\" = 구의 겉넓이는\", 4 * pi * input_r ** 2)"
   ]
  },
  {
   "cell_type": "code",
   "execution_count": 4,
   "id": "618d2c91",
   "metadata": {},
   "outputs": [
    {
     "name": "stdout",
     "output_type": "stream",
     "text": [
      "4\n",
      "5\n",
      "밑변의 길이를 입력해주세요: 4\n",
      "\n",
      "높이의 길이를 입력해주세요: 5\n",
      "\n",
      "= 빗변의 길이는 6.4031242374328485\n"
     ]
    }
   ],
   "source": [
    "# 2. 피타고라스의 정리\n",
    "str_l1 = input()\n",
    "input_l1 = int(str_l1)\n",
    "str_l2 = input()\n",
    "input_l2 = int(str_l2)\n",
    "\n",
    "print(\"밑변의 길이를 입력해주세요:\", input_l1)\n",
    "print()\n",
    "print(\"높이의 길이를 입력해주세요:\", input_l2)\n",
    "print()\n",
    "print(\"= 빗변의 길이는\", (input_l1**2+input_l2**2)**(1/2))"
   ]
  },
  {
   "cell_type": "code",
   "execution_count": null,
   "id": "c1f6beaf",
   "metadata": {},
   "outputs": [],
   "source": []
  }
 ],
 "metadata": {
  "kernelspec": {
   "display_name": "Python 3 (ipykernel)",
   "language": "python",
   "name": "python3"
  },
  "language_info": {
   "codemirror_mode": {
    "name": "ipython",
    "version": 3
   },
   "file_extension": ".py",
   "mimetype": "text/x-python",
   "name": "python",
   "nbconvert_exporter": "python",
   "pygments_lexer": "ipython3",
   "version": "3.9.13"
  }
 },
 "nbformat": 4,
 "nbformat_minor": 5
}
