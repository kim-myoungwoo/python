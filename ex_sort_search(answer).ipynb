{
 "cells": [
  {
   "cell_type": "code",
   "execution_count": null,
   "id": "bb7fbfd4",
   "metadata": {},
   "outputs": [],
   "source": [
    "dataAry = ['바나나맛우유', '레쓰비캔커피', '츄파춥스', '도시락', '삼다수', '코카콜라', '삼각김밥']"
   ]
  },
  {
   "cell_type": "code",
   "execution_count": null,
   "id": "24309397",
   "metadata": {},
   "outputs": [],
   "source": [
    "# 오늘 판매된 전체 물건 -> 중복 허용, 정렬 안됨\n",
    "# 오늘 판매된 전체 물건 -> 중복 허용, 정렬 된 상태\n",
    "# 오늘 판매된 전체 물건 종류 -> 중복 허용 안함\n",
    "# 결산 결과 -> '바나나맛우유' -> 2 개"
   ]
  },
  {
   "cell_type": "code",
   "execution_count": 51,
   "id": "4e495969",
   "metadata": {},
   "outputs": [],
   "source": [
    "def make_product_list(sellAry):   #  판매된 상품 목록 ( 중복 없음 )\n",
    "    product_list = []\n",
    "    for product in sellAry:\n",
    "        if not product  in product_list:\n",
    "            product_list.append(product)\n",
    "    return product_list\n",
    "\n",
    "def make_sell_list( sellAry):   # 방법 1 : 딕셔너리 사용\n",
    "    sell_products = {}\n",
    "    for product in sellAry:\n",
    "        if product in sell_products:\n",
    "            sell_products[product] += 1\n",
    "        else:\n",
    "            sell_products[product] = 1\n",
    "    return sell_products\n",
    "\n",
    "def make_count_list(sellAry, product_list):   # 방법 2: binSearch() 사용\n",
    "    countlist = []\n",
    "    for product in product_list:\n",
    "        count = 0\n",
    "        pos = 0\n",
    "        while pos != -1:\n",
    "            pos = binSearch(sellAry, product)\n",
    "            if pos != -1:\n",
    "                count += 1\n",
    "                del sellAry[pos]\n",
    "        countlist.append((product, count))\n",
    "    return countlist\n",
    "            \n",
    "def binSearch(array, f_data):\n",
    "    start = 0\n",
    "    end = len(array) - 1\n",
    "    while start <= end:\n",
    "        mid = ( start + end ) // 2       \n",
    "        if array[mid]  == f_data:\n",
    "            return mid\n",
    "        elif array[mid]  < f_data:\n",
    "            start = mid + 1   # 중앙값 뒤의 자료만 검색\n",
    "        else:\n",
    "            end = mid - 1\n",
    "    return -1 "
   ]
  },
  {
   "cell_type": "code",
   "execution_count": 53,
   "id": "bf9f07e8",
   "metadata": {},
   "outputs": [
    {
     "name": "stdout",
     "output_type": "stream",
     "text": [
      " 판매된 상품  ['바나나맛우유', '츄파춥스', '바나나맛우유', '삼다수', '삼다수', '츄파춥스', '코카콜라', '도시락', '츄파춥스', '삼각김밥', '삼각김밥', '코카콜라', '코카콜라', '삼각김밥', '레쓰비캔커피', '도시락', '도시락', '레쓰비캔커피', '바나나맛우유', '바나나맛우유']\n",
      "\n",
      " 판매된 상품   정렬  ['도시락', '도시락', '도시락', '레쓰비캔커피', '레쓰비캔커피', '바나나맛우유', '바나나맛우유', '바나나맛우유', '바나나맛우유', '삼각김밥', '삼각김밥', '삼각김밥', '삼다수', '삼다수', '츄파춥스', '츄파춥스', '츄파춥스', '코카콜라', '코카콜라', '코카콜라']\n",
      "\n",
      " 판매된 상품 종류  ['삼각김밥', '바나나맛우유', '도시락', '코카콜라', '레쓰비캔커피', '삼다수', '츄파춥스']\n",
      "\n",
      " 방법 2 판매된 상품 종류  ['도시락', '레쓰비캔커피', '바나나맛우유', '삼각김밥', '삼다수', '츄파춥스', '코카콜라']\n",
      "\n",
      " 판매 정산 결과  {'도시락': 3, '레쓰비캔커피': 2, '바나나맛우유': 4, '삼각김밥': 3, '삼다수': 2, '츄파춥스': 3, '코카콜라': 3}\n",
      "\n",
      " 방법 2 판매 정산 결과  [('도시락', 3), ('레쓰비캔커피', 2), ('바나나맛우유', 4), ('삼각김밥', 3), ('삼다수', 2), ('츄파춥스', 3), ('코카콜라', 3)]\n"
     ]
    }
   ],
   "source": [
    "import random \n",
    "\n",
    "dataAry = ['바나나맛우유', '레쓰비캔커피', '츄파춥스', '도시락', '삼다수', '코카콜라', '삼각김밥']\n",
    "sellAry = [ random.choice(dataAry) for _ in range(20)]   # 판매 자료 생성\n",
    "\n",
    "print(\" 판매된 상품 \", sellAry)\n",
    "print()\n",
    "sellAry.sort()   # 원 자료 정렬됨 \n",
    "print(\" 판매된 상품   정렬 \", sellAry)\n",
    "print()\n",
    "\n",
    "# 방법 1\n",
    "product_list = list(set(sellAry))\n",
    "print(\" 판매된 상품 종류 \", product_list)\n",
    "print()\n",
    "\n",
    "# 방법 2\n",
    "product_list = make_product_list(sellAry)\n",
    "print(\" 방법 2 판매된 상품 종류 \", product_list)\n",
    "print()\n",
    "\n",
    "# 방법 1 : 정산 결과\n",
    "sell_products = make_sell_list(sellAry)\n",
    "print(\" 판매 정산 결과 \", sell_products)\n",
    "print()\n",
    "\n",
    "# 방법 2 : 정산 결과\n",
    "countlist = make_count_list(sellAry, product_list)\n",
    "print(\" 방법 2 판매 정산 결과 \", countlist)"
   ]
  },
  {
   "cell_type": "code",
   "execution_count": null,
   "id": "7f81c120",
   "metadata": {},
   "outputs": [],
   "source": []
  },
  {
   "cell_type": "code",
   "execution_count": null,
   "id": "ba61a9c6",
   "metadata": {},
   "outputs": [],
   "source": []
  }
 ],
 "metadata": {
  "kernelspec": {
   "display_name": "Python 3 (ipykernel)",
   "language": "python",
   "name": "python3"
  },
  "language_info": {
   "codemirror_mode": {
    "name": "ipython",
    "version": 3
   },
   "file_extension": ".py",
   "mimetype": "text/x-python",
   "name": "python",
   "nbconvert_exporter": "python",
   "pygments_lexer": "ipython3",
   "version": "3.9.13"
  }
 },
 "nbformat": 4,
 "nbformat_minor": 5
}
