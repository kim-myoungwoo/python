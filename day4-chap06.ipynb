{
 "cells": [
  {
   "cell_type": "markdown",
   "id": "b0c0128a",
   "metadata": {},
   "source": [
    "# chap06 예외 처리"
   ]
  },
  {
   "cell_type": "markdown",
   "id": "8616fa1c",
   "metadata": {},
   "source": [
    "# chap06-1 구문 오류와 예외"
   ]
  },
  {
   "cell_type": "code",
   "execution_count": 4,
   "id": "70287e7e",
   "metadata": {},
   "outputs": [
    {
     "name": "stdout",
     "output_type": "stream",
     "text": [
      "test\n"
     ]
    }
   ],
   "source": [
    "# 구문 오류 : syntax error\n",
    "print(\"test\")\n",
    "a =1"
   ]
  },
  {
   "cell_type": "code",
   "execution_count": 7,
   "id": "ec781634",
   "metadata": {},
   "outputs": [
    {
     "data": {
      "text/plain": [
       "2"
      ]
     },
     "execution_count": 7,
     "metadata": {},
     "output_type": "execute_result"
    }
   ],
   "source": [
    "list_a = [1,2,3]\n",
    "list_a[1]   # 변수 또는 객체를 선언하지 않고 접근하려고 할 때 발생하는 오류\n",
    "\n",
    "# list_a[4]    # index 범위 에러"
   ]
  },
  {
   "cell_type": "code",
   "execution_count": 10,
   "id": "d07421c3",
   "metadata": {},
   "outputs": [
    {
     "name": "stdout",
     "output_type": "stream",
     "text": [
      " 정수 입력 > 3\n",
      "원의 반지름 :  3\n",
      "원의 둘레 :  18.84\n",
      "원의 넓이 :  28.26\n"
     ]
    }
   ],
   "source": [
    "# 예외 상황 확인하기\n",
    "# 숫자 입력\n",
    "# number = int(input(\" 정수 입력 > \"))\n",
    "number = input(\" 정수 입력 > \")\n",
    "if number.isdigit():\n",
    "    number = int(number)\n",
    "\n",
    "    # 결과 출력\n",
    "    print(\"원의 반지름 : \", number)\n",
    "    print(\"원의 둘레 : \", number *2*3.14)\n",
    "    print(\"원의 넓이 : \", number**2*3.14)\n",
    "else:\n",
    "    print(\" 정수를 입력하지 않음 \")"
   ]
  },
  {
   "cell_type": "code",
   "execution_count": 13,
   "id": "2f123e99",
   "metadata": {},
   "outputs": [
    {
     "name": "stdout",
     "output_type": "stream",
     "text": [
      " 정수 입력 > 1\n",
      "원의 반지름 :  1\n",
      "원의 둘레 :  6.28\n",
      "원의 넓이 :  3.14\n"
     ]
    }
   ],
   "source": [
    "# try : 예외가 발생할 수 있는 코드 작성\n",
    "# except : 에러 발생시 처리하고자 하는 코드 작성\n",
    "# else : 정상일 때의 코드 작성\n",
    "try:\n",
    "    number = int(input(\" 정수 입력 > \"))\n",
    "        # 결과 출력\n",
    "    print(\"원의 반지름 : \", number)\n",
    "    print(\"원의 둘레 : \", number *2*3.14)\n",
    "    print(\"원의 넓이 : \", number**2*3.14)\n",
    "except:\n",
    "    print(\" 정수를 입력하지 않음 \")"
   ]
  },
  {
   "cell_type": "code",
   "execution_count": 15,
   "id": "cb28cc6e",
   "metadata": {},
   "outputs": [
    {
     "name": "stdout",
     "output_type": "stream",
     "text": [
      " 정수 입력 > 2\n",
      "원의 반지름 :  2\n",
      "원의 둘레 :  12.56\n",
      "원의 넓이 :  12.56\n",
      "end\n"
     ]
    }
   ],
   "source": [
    "# try : 예외가 발생할 수 있는 코드 작성\n",
    "# except : 에러 발생시 처리하고자 하는 코드 작성\n",
    "# else : 정상일 때의 코드 작성\n",
    "#finally: 무조건 실행  -> file.close()\n",
    "try:\n",
    "    number = int(input(\" 정수 입력 > \"))\n",
    "except:\n",
    "    print(\" 정수를 입력하지 않음 \")\n",
    "else:\n",
    "            # 결과 출력\n",
    "    print(\"원의 반지름 : \", number)\n",
    "    print(\"원의 둘레 : \", number *2*3.14)\n",
    "    print(\"원의 넓이 : \", number**2*3.14)\n",
    "finally:\n",
    "    print('end')"
   ]
  },
  {
   "cell_type": "code",
   "execution_count": 16,
   "id": "61a7b55f",
   "metadata": {},
   "outputs": [
    {
     "name": "stdout",
     "output_type": "stream",
     "text": [
      "[Errno 2] No such file or directory: 'test.txt'\n"
     ]
    }
   ],
   "source": [
    "# try ~ except 구문을 사용\n",
    "# try ~ except ValueError ~ except IndexError ~except Exception ~ else ~ finally\n",
    "try:\n",
    "    # 파일을 open\n",
    "    file = open('test.txt', 'r')\n",
    "    file.close()\n",
    "except Exception as e: # Exception -> ValueError, Exception, IndexError\n",
    "    print(e)"
   ]
  },
  {
   "cell_type": "code",
   "execution_count": 18,
   "id": "6e2e2798",
   "metadata": {},
   "outputs": [
    {
     "name": "stdout",
     "output_type": "stream",
     "text": [
      "test 함수입니다\n",
      "try start ...\n",
      "finally execute ...\n"
     ]
    }
   ],
   "source": [
    "# try 구문 내에서 return 을 사용하는 경우\n",
    "def test():\n",
    "    print('test 함수입니다')\n",
    "    try:\n",
    "        print(\"try start ...\")\n",
    "        return\n",
    "        print(\"try end ...\")\n",
    "    except:\n",
    "        print('except ...')\n",
    "    else:\n",
    "        print('else ...')\n",
    "    finally:\n",
    "        print('finally execute ...')\n",
    "    print('test endline...')\n",
    "    \n",
    "test() # test 함수 호출"
   ]
  },
  {
   "cell_type": "code",
   "execution_count": 19,
   "id": "760817e3",
   "metadata": {},
   "outputs": [
    {
     "name": "stdout",
     "output_type": "stream",
     "text": [
      "file close\n"
     ]
    }
   ],
   "source": [
    "def file_write(filename, text):\n",
    "    try:\n",
    "        file = open(filename, \"w\")   # file open\n",
    "        return\n",
    "        file.write(text)\n",
    "    except Exception:\n",
    "        print(Exception)\n",
    "    finally:\n",
    "        print('file close')\n",
    "        file.close()  # file close\n",
    "        \n",
    "# 함수 호출\n",
    "file_write('test.txt', 'test')"
   ]
  },
  {
   "cell_type": "code",
   "execution_count": 21,
   "id": "21d6ecd6",
   "metadata": {},
   "outputs": [
    {
     "name": "stdout",
     "output_type": "stream",
     "text": [
      "try start....\n",
      "finally execute ...\n",
      "program end...\n"
     ]
    }
   ],
   "source": [
    "# 반복문 안에서 try ~ finally 사용하는 경우\n",
    "while True:\n",
    "    try:\n",
    "        print('try start....')\n",
    "        break\n",
    "        print('try end....')\n",
    "    except:\n",
    "        print('except execute ....')\n",
    "    finally:\n",
    "        print('finally execute ...')\n",
    "print('program end...')"
   ]
  }
 ],
 "metadata": {
  "kernelspec": {
   "display_name": "Python 3 (ipykernel)",
   "language": "python",
   "name": "python3"
  },
  "language_info": {
   "codemirror_mode": {
    "name": "ipython",
    "version": 3
   },
   "file_extension": ".py",
   "mimetype": "text/x-python",
   "name": "python",
   "nbconvert_exporter": "python",
   "pygments_lexer": "ipython3",
   "version": "3.9.13"
  }
 },
 "nbformat": 4,
 "nbformat_minor": 5
}
