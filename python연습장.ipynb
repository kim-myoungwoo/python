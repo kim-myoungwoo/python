{
 "cells": [
  {
   "cell_type": "code",
   "execution_count": 58,
   "id": "e00c828a",
   "metadata": {},
   "outputs": [
    {
     "name": "stdout",
     "output_type": "stream",
     "text": [
      "말의 개수를 6개 입력하세요 > 5 6 3 2 1 6\n",
      "[-4, -5, -1, 0, 1, 2]\n"
     ]
    }
   ],
   "source": [
    "chess_black = [1,1,2,2,2,8]\n",
    "white_piece = input(f'말의 개수를 6개 입력하세요 > ')\n",
    "chess_white = white_piece.split()\n",
    "chess_blank = []\n",
    "for i in range(6):\n",
    "    try:\n",
    "        int(chess_white[i])\n",
    "    except:\n",
    "        print('정수를 입력해주세요')\n",
    "    num = chess_black[i] - int(chess_white[i])\n",
    "    if int(chess_white[i]) < 0:\n",
    "        print('양의 정수를 입력해주세요')\n",
    "    chess_blank.append(num)\n",
    "print(chess_blank)"
   ]
  },
  {
   "cell_type": "code",
   "execution_count": 52,
   "id": "79d23fc9",
   "metadata": {},
   "outputs": [
    {
     "name": "stdout",
     "output_type": "stream",
     "text": [
      "말의 개수를 6개 입력하세요 > 1 1 1 1 1\n",
      "['1', '1', '1', '1', '1']\n"
     ]
    }
   ],
   "source": [
    "chess_black = [1,1,2,2,2,8]\n",
    "white_piece = input(f'말의 개수를 6개 입력하세요 > ')\n",
    "chess_white = white_piece.split()\n",
    "print(chess_white)"
   ]
  },
  {
   "cell_type": "code",
   "execution_count": null,
   "id": "2db79217",
   "metadata": {},
   "outputs": [],
   "source": []
  }
 ],
 "metadata": {
  "kernelspec": {
   "display_name": "Python 3 (ipykernel)",
   "language": "python",
   "name": "python3"
  },
  "language_info": {
   "codemirror_mode": {
    "name": "ipython",
    "version": 3
   },
   "file_extension": ".py",
   "mimetype": "text/x-python",
   "name": "python",
   "nbconvert_exporter": "python",
   "pygments_lexer": "ipython3",
   "version": "3.9.13"
  }
 },
 "nbformat": 4,
 "nbformat_minor": 5
}
