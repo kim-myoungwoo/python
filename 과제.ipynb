{
 "cells": [
  {
   "cell_type": "code",
   "execution_count": 1,
   "id": "15e62b90",
   "metadata": {},
   "outputs": [
    {
     "name": "stdout",
     "output_type": "stream",
     "text": [
      "염기 서열을 입력해주세요: ctagctctgaggctacgattgc\n",
      "{'cta': 2, 'gct': 1, 'ctg': 1, 'agg': 1, 'cga': 1, 'ttg': 1}\n"
     ]
    }
   ],
   "source": [
    "dna = input(\"염기 서열을 입력해주세요: \", )\n",
    "count_codon = {}\n",
    "codon = []\n",
    "for i in range(0,len(dna),3):\n",
    "    codon =dna[i:i+3]\n",
    "    if len(codon) == 3:\n",
    "        if codon not in count_codon:\n",
    "            count_codon[codon] = 0\n",
    "        count_codon[codon] += 1\n",
    "print(count_codon)"
   ]
  },
  {
   "cell_type": "code",
   "execution_count": 42,
   "id": "b7262a3f",
   "metadata": {},
   "outputs": [
    {
     "name": "stdout",
     "output_type": "stream",
     "text": [
      "[1, 2, [3, 4], 5, [6, 7], [8, 9]]를 평탄화하면 [1, 2, 3, 4, 5, 6, 7, 8, 9]입니다\n"
     ]
    }
   ],
   "source": [
    "list_a = [1, 2, [3, 4], 5, [6, 7], [8, 9]]\n",
    "output = []\n",
    "for i in list_a:\n",
    "    if type(i) == list:\n",
    "        for j in i:\n",
    "            output.append(j)\n",
    "    else:\n",
    "        output.append(i)\n",
    "print(\"{}를 평탄화하면 {}입니다\".format(list_a, output))            "
   ]
  },
  {
   "cell_type": "code",
   "execution_count": 51,
   "id": "f7ee9e8b",
   "metadata": {},
   "outputs": [
    {
     "name": "stdout",
     "output_type": "stream",
     "text": [
      "21\n",
      "121\n"
     ]
    }
   ],
   "source": [
    "def f(x):\n",
    "    return 2*x+1\n",
    "print(f(10))\n",
    "\n",
    "def f(x):\n",
    "    return x**2 + 2*x +1\n",
    "print(f(10))\n",
    "    "
   ]
  },
  {
   "cell_type": "code",
   "execution_count": 72,
   "id": "9ff73004",
   "metadata": {},
   "outputs": [
    {
     "name": "stdout",
     "output_type": "stream",
     "text": [
      "3150\n"
     ]
    }
   ],
   "source": [
    "def mul(*values):\n",
    "    output = 1\n",
    "    for value in values:\n",
    "        output *= value\n",
    "    return output\n",
    "\n",
    "print(mul(5, 7, 9, 10))"
   ]
  }
 ],
 "metadata": {
  "kernelspec": {
   "display_name": "Python 3 (ipykernel)",
   "language": "python",
   "name": "python3"
  },
  "language_info": {
   "codemirror_mode": {
    "name": "ipython",
    "version": 3
   },
   "file_extension": ".py",
   "mimetype": "text/x-python",
   "name": "python",
   "nbconvert_exporter": "python",
   "pygments_lexer": "ipython3",
   "version": "3.9.13"
  }
 },
 "nbformat": 4,
 "nbformat_minor": 5
}
