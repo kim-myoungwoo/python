{
 "cells": [
  {
   "cell_type": "markdown",
   "id": "bcc0d448",
   "metadata": {},
   "source": [
    "chap04"
   ]
  },
  {
   "cell_type": "code",
   "execution_count": 5,
   "id": "af56bd11",
   "metadata": {},
   "outputs": [
    {
     "name": "stdout",
     "output_type": "stream",
     "text": [
      "273\n",
      "True\n",
      "[32, 102]\n"
     ]
    }
   ],
   "source": [
    "# 리스트 선언 : [요소, ..]\n",
    "a_list = [273, 32, 102, '문자열', True]\n",
    "\n",
    "# 리스트의 각 요소를 사용 : 리스트[인덱스]\n",
    "print(a_list[0]) # 273\n",
    "print(a_list[-1]) # True\n",
    "print(a_list[1:3]) # [32, 102] 인덱스3의 요소는 포함하지 않음\n",
    "\n",
    "# print(a_list[10])  #index error"
   ]
  },
  {
   "cell_type": "code",
   "execution_count": 6,
   "id": "4c1723ae",
   "metadata": {},
   "outputs": [
    {
     "name": "stdout",
     "output_type": "stream",
     "text": [
      "3 <class 'list'>\n",
      "[1, 2, 3, 4, 5, 6]\n",
      "[1, 2, 3, 1, 2, 3, 1, 2, 3]\n"
     ]
    }
   ],
   "source": [
    "# list 연산 : +, *, len(), type()\n",
    "a_list = [1, 2, 3]\n",
    "b_list = [4, 5, 6]\n",
    "print(len(a_list), type(a_list))\n",
    "\n",
    "print(a_list + b_list) # [1, 2, 3, 4, 5, 6]\n",
    "print(a_list *3) #[1, 2, 3, 1, 2, 3, 1, 2, 3]"
   ]
  },
  {
   "cell_type": "code",
   "execution_count": 10,
   "id": "37b98968",
   "metadata": {},
   "outputs": [
    {
     "name": "stdout",
     "output_type": "stream",
     "text": [
      "[1, 10, 2, 3, 4, 4, 4, 4]\n",
      "[1, 10, 10, 2, 3, 4, 4, 4, 4]\n"
     ]
    }
   ],
   "source": [
    "# 기존의 리스트에 자료를 추가 : 리스트.append(), 리스트.insert()\n",
    "# 리스트에 리스의 요소를 풀어서 추카 : 리스트.extend\n",
    "a_list.append(4)\n",
    "print(a_list) #[1, 2, 3, 4]\n",
    "\n",
    "# a_list의 1번 인덱스에 자료를 추가\n",
    "a_list.insert(1, 10) # insert(추가하고자 하는 위치 인덱스, 값)\n",
    "print(a_list)"
   ]
  },
  {
   "cell_type": "code",
   "execution_count": 11,
   "id": "c74481e3",
   "metadata": {},
   "outputs": [
    {
     "name": "stdout",
     "output_type": "stream",
     "text": [
      "[1, 2, 3, [4, 5, 6]]\n"
     ]
    }
   ],
   "source": [
    "a_list = [1, 2, 3]\n",
    "b_list = [4, 5, 6]\n",
    "a_list.append(b_list) # [1, 2, 3, [4, 5, 6]]\n",
    "print(a_list)"
   ]
  },
  {
   "cell_type": "code",
   "execution_count": 12,
   "id": "130b3e64",
   "metadata": {},
   "outputs": [
    {
     "name": "stdout",
     "output_type": "stream",
     "text": [
      "[1, 2, 3, 4, 5, 6]\n"
     ]
    }
   ],
   "source": [
    "a_list = [1, 2, 3]\n",
    "b_list = [4, 5, 6]\n",
    "a_list.extend(b_list) # [1, 2, 3, 4, 5, 6]\n",
    "print(a_list)"
   ]
  },
  {
   "cell_type": "code",
   "execution_count": 13,
   "id": "588ec4ee",
   "metadata": {},
   "outputs": [
    {
     "name": "stdout",
     "output_type": "stream",
     "text": [
      "[1, 2, 3, 4, 5, 6]\n",
      "[1, 2, 3, 4, 5]\n"
     ]
    }
   ],
   "source": [
    "print(a_list)\n",
    "\n",
    "# 리스트 요소 제거 : del 리스트[인덱스], 리스트.pop(인덱스)\n",
    "# 리스트의 모든 요소 제거 : 리스트.clear()\n",
    "a_list.pop()\n",
    "print(a_list)"
   ]
  },
  {
   "cell_type": "code",
   "execution_count": 16,
   "id": "c06101fd",
   "metadata": {},
   "outputs": [
    {
     "name": "stdout",
     "output_type": "stream",
     "text": [
      "[3]\n"
     ]
    }
   ],
   "source": [
    "a_list = [1, 2, 3]\n",
    "del a_list[0:2]   # a_list 의 처음 자료 제거\n",
    "print(a_list)"
   ]
  },
  {
   "cell_type": "code",
   "execution_count": 18,
   "id": "3d9f5ba3",
   "metadata": {},
   "outputs": [
    {
     "data": {
      "text/plain": [
       "[2, 4, 6]"
      ]
     },
     "execution_count": 18,
     "metadata": {},
     "output_type": "execute_result"
    }
   ],
   "source": [
    "a_list = [1, 2, 3, 4, 5, 6]\n",
    "# a_list[start : stop : step]\n",
    "a_list[1: :2]"
   ]
  },
  {
   "cell_type": "code",
   "execution_count": 20,
   "id": "51da985c",
   "metadata": {},
   "outputs": [
    {
     "data": {
      "text/plain": [
       "[6, 5, 4, 3, 2, 1]"
      ]
     },
     "execution_count": 20,
     "metadata": {},
     "output_type": "execute_result"
    }
   ],
   "source": [
    "a_list[ : :-1] # 뒤에서 부터 출력"
   ]
  },
  {
   "cell_type": "code",
   "execution_count": 22,
   "id": "03651fa9",
   "metadata": {},
   "outputs": [
    {
     "name": "stdout",
     "output_type": "stream",
     "text": [
      "[]\n"
     ]
    }
   ],
   "source": [
    "a_list.clear()\n",
    "print(a_list)"
   ]
  },
  {
   "cell_type": "code",
   "execution_count": 23,
   "id": "5730a1db",
   "metadata": {},
   "outputs": [
    {
     "name": "stdout",
     "output_type": "stream",
     "text": [
      "[3, 2, 5, 6, 7]\n"
     ]
    }
   ],
   "source": [
    "# 리스트의 값을 제거 : 리스트.remove(값)\n",
    "a_list = [2, 3, 2, 5, 6, 7]\n",
    "a_list.remove(2)\n",
    "print(a_list)"
   ]
  },
  {
   "cell_type": "code",
   "execution_count": 27,
   "id": "3e851ae4",
   "metadata": {},
   "outputs": [
    {
     "name": "stdout",
     "output_type": "stream",
     "text": [
      "[78, 54, 12, 10, 6, 4, 4, 2]\n"
     ]
    }
   ],
   "source": [
    "# 리스트 정렬 : 리스트.sort()\n",
    "a_list = [4, 2, 78, 4, 6, 12, 54, 10]\n",
    "a_list.sort(reverse=True)\n",
    "print(a_list)"
   ]
  },
  {
   "cell_type": "code",
   "execution_count": 29,
   "id": "93d52679",
   "metadata": {},
   "outputs": [
    {
     "name": "stdout",
     "output_type": "stream",
     "text": [
      "True\n",
      "False\n"
     ]
    }
   ],
   "source": [
    "print(10 in a_list) # True\n",
    "print(10 not in a_list) # False"
   ]
  },
  {
   "cell_type": "code",
   "execution_count": 30,
   "id": "a00f06d5",
   "metadata": {},
   "outputs": [],
   "source": [
    "# 리스트 선언 : 변수명 = [요소,...]\n",
    "# 리스트 요소 추가 : 리스트.append(요소), 리스트.insert(인덱스, 요소), 리스트.expend(리스트)\n",
    "# 리스트 자료 수정 : 리스트[인덱스] = 값\n",
    "# 리스트 자료 삭제 : 리스트.pop(인덱스), del 리스트[인덱스] -> [start:stop:step]\n",
    "# 리스트의 값으로 삭제 : 리스트.remove(값)\n",
    "# 리스트의 전체 자료 삭제 : 리스트.clear()\n",
    "# 리스트에 자료가 있는지 확인 : 값 in 리스트 -> True or False"
   ]
  },
  {
   "cell_type": "code",
   "execution_count": 35,
   "id": "dcb173ab",
   "metadata": {},
   "outputs": [
    {
     "name": "stdout",
     "output_type": "stream",
     "text": [
      "[[1, 2, 3], 4]\n",
      "[1, 2, 3, 4]\n",
      "[1, 2, 3, 1, 2, 3]\n",
      "1 2 3 1 2 3\n"
     ]
    }
   ],
   "source": [
    "a_list =[1,2,3]\n",
    "c_list = [a_list,4] # c_list = [1,2,3,4]\n",
    "print(c_list)\n",
    "\n",
    "c_list = [*a_list, 4] # *리스트 -> 리스트의 각 요소를 전개, * : 전개연산자\n",
    "print(c_list)\n",
    "\n",
    "c_list = [*a_list, *a_list]\n",
    "print(c_list)\n",
    "print(*c_list)"
   ]
  },
  {
   "cell_type": "code",
   "execution_count": 36,
   "id": "9768ec8b",
   "metadata": {},
   "outputs": [
    {
     "name": "stdout",
     "output_type": "stream",
     "text": [
      "t, e, s, t,  , 1, 2, 3, \n"
     ]
    }
   ],
   "source": [
    "# 반복문 : for 반복자 in 반복자료:\n",
    "str_a ='test 123'\n",
    "for char in str_a:\n",
    "    print(char,end=', ')\n",
    "print()"
   ]
  },
  {
   "cell_type": "code",
   "execution_count": 39,
   "id": "3471e75a",
   "metadata": {},
   "outputs": [
    {
     "name": "stdout",
     "output_type": "stream",
     "text": [
      "15\n"
     ]
    }
   ],
   "source": [
    "a_list = [4,5,6]\n",
    "total = 0\n",
    "for num in a_list:\n",
    "    total += num\n",
    "print(total)"
   ]
  },
  {
   "cell_type": "code",
   "execution_count": 40,
   "id": "0c170638",
   "metadata": {},
   "outputs": [
    {
     "name": "stdout",
     "output_type": "stream",
     "text": [
      "1\n",
      "2\n",
      "3\n",
      "4\n",
      "5\n",
      "6\n",
      "7\n",
      "8\n",
      "9\n",
      "10\n"
     ]
    }
   ],
   "source": [
    "# 중첩 리스트와 반복문\n",
    "list_array = [[1,2,3], [4,5,6,7], [8,9,10]]\n",
    "for list_1 in list_array:\n",
    "    for element in list_1:\n",
    "        print(element)"
   ]
  },
  {
   "cell_type": "code",
   "execution_count": 41,
   "id": "08019524",
   "metadata": {},
   "outputs": [
    {
     "name": "stdout",
     "output_type": "stream",
     "text": [
      "0\n",
      "1\n",
      "2\n",
      "3\n",
      "4\n",
      "5\n",
      "6\n",
      "7\n",
      "8\n",
      "9\n"
     ]
    }
   ],
   "source": [
    "list(range(11, 10, 2)) # 1,3,5,7,9\n",
    "list(range(10)) # 0,1,2...,9\n",
    "for i in range(10):\n",
    "    print(i)"
   ]
  },
  {
   "cell_type": "code",
   "execution_count": 70,
   "id": "d7bf1bf6",
   "metadata": {},
   "outputs": [
    {
     "name": "stdout",
     "output_type": "stream",
     "text": [
      "====2단====\t====3단====\t====4단====\t====5단====\t\n",
      "2 * 1 = 2\t3 * 1 = 3\t4 * 1 = 4\t5 * 1 = 5\t\n",
      "2 * 2 = 4\t3 * 2 = 6\t4 * 2 = 8\t5 * 2 = 10\t\n",
      "2 * 3 = 6\t3 * 3 = 9\t4 * 3 = 12\t5 * 3 = 15\t\n",
      "2 * 4 = 8\t3 * 4 = 12\t4 * 4 = 16\t5 * 4 = 20\t\n",
      "2 * 5 = 10\t3 * 5 = 15\t4 * 5 = 20\t5 * 5 = 25\t\n",
      "2 * 6 = 12\t3 * 6 = 18\t4 * 6 = 24\t5 * 6 = 30\t\n",
      "2 * 7 = 14\t3 * 7 = 21\t4 * 7 = 28\t5 * 7 = 35\t\n",
      "2 * 8 = 16\t3 * 8 = 24\t4 * 8 = 32\t5 * 8 = 40\t\n",
      "2 * 9 = 18\t3 * 9 = 27\t4 * 9 = 36\t5 * 9 = 45\t\n",
      "\n",
      "====6단====\t====7단====\t====8단====\t====9단====\t\n",
      "6 * 1 = 6\t7 * 1 = 7\t8 * 1 = 8\t9 * 1 = 9\t\n",
      "6 * 2 = 12\t7 * 2 = 14\t8 * 2 = 16\t9 * 2 = 18\t\n",
      "6 * 3 = 18\t7 * 3 = 21\t8 * 3 = 24\t9 * 3 = 27\t\n",
      "6 * 4 = 24\t7 * 4 = 28\t8 * 4 = 32\t9 * 4 = 36\t\n",
      "6 * 5 = 30\t7 * 5 = 35\t8 * 5 = 40\t9 * 5 = 45\t\n",
      "6 * 6 = 36\t7 * 6 = 42\t8 * 6 = 48\t9 * 6 = 54\t\n",
      "6 * 7 = 42\t7 * 7 = 49\t8 * 7 = 56\t9 * 7 = 63\t\n",
      "6 * 8 = 48\t7 * 8 = 56\t8 * 8 = 64\t9 * 8 = 72\t\n",
      "6 * 9 = 54\t7 * 9 = 63\t8 * 9 = 72\t9 * 9 = 81\t\n",
      "\n"
     ]
    }
   ],
   "source": [
    "# 구구단 출력\n",
    "for dan in range(2,10,4):\n",
    "    for i in range(4):\n",
    "        print(\"===={}단====\".format(dan+i), end='\\t')\n",
    "    print()\n",
    "    for j in range(1,10):\n",
    "        for i in range(4):\n",
    "            print(f'{dan+i} * {j} = {(dan+i) * j}', end = '\\t')\n",
    "        print()\n",
    "    print()"
   ]
  },
  {
   "cell_type": "code",
   "execution_count": 92,
   "id": "446a2d5e",
   "metadata": {},
   "outputs": [
    {
     "name": "stdout",
     "output_type": "stream",
     "text": [
      "학생 수 입력 >5\n",
      "점수 입력 >44\n",
      "점수 입력 >78\n",
      "점수 입력 >6\n",
      "점수 입력 >99\n",
      "점수 입력 >90\n",
      "[44, 78, 6, 99, 90]\n",
      "총점 : total, 평균 : 63.40\n"
     ]
    }
   ],
   "source": [
    "# 문) 학생 수 입력 > 5\n",
    "#     입력받은 학생 수만큼 성적을 입력 받아 리스트에 저장 한 후\n",
    "#     저장된 점수의 합과 평균을 구하세요 ( 평균은 소수점 미만 2자리 까지만)\n",
    "counts = int(input('학생 수 입력 >'))\n",
    "scores=[]\n",
    "for _ in range(counts):\n",
    "    score = int(input('점수 입력 >'))\n",
    "    scores.append(score)\n",
    "print(scores)\n",
    "total = 0\n",
    "for score in scores:\n",
    "    total += score\n",
    "print(f'총점 : total, 평균 : {total/counts:3.2f}')"
   ]
  },
  {
   "cell_type": "markdown",
   "id": "5d6f66d4",
   "metadata": {},
   "source": [
    "# chap04 - 2 딕셔너리와 반복문"
   ]
  },
  {
   "cell_type": "code",
   "execution_count": 96,
   "id": "1a85a53d",
   "metadata": {},
   "outputs": [
    {
     "name": "stdout",
     "output_type": "stream",
     "text": [
      "test\n",
      "name : test\n",
      "type : student\n",
      "{'name': 'test', 'type': 'student'}\n"
     ]
    }
   ],
   "source": [
    "# dict = {키:값, ...} 선언\n",
    "# dict[키] 접근 -> 값을 반환\n",
    "dict_a = {'name' : 'test', 'type' : 'student'}\n",
    "print(dict_a['name'])\n",
    "\n",
    "# dict_a의 모든 값을 출력\n",
    "for key in dict_a: # 키를 순서대로 가져옴\n",
    "    print(f'{key} : {dict_a[key]}')\n",
    "print(dict_a)"
   ]
  },
  {
   "cell_type": "code",
   "execution_count": 102,
   "id": "2b022beb",
   "metadata": {},
   "outputs": [
    {
     "name": "stdout",
     "output_type": "stream",
     "text": [
      "{'name': 'test', 'type': 'student', 'email': 'abcd'}\n",
      "{'name': 'test', 'type': 'student', 'email': 'test'}\n",
      "{'name': 'test', 'type': 'student'}\n"
     ]
    },
    {
     "ename": "KeyError",
     "evalue": "'email'",
     "output_type": "error",
     "traceback": [
      "\u001b[1;31m---------------------------------------------------------------------------\u001b[0m",
      "\u001b[1;31mKeyError\u001b[0m                                  Traceback (most recent call last)",
      "\u001b[1;32m~\\AppData\\Local\\Temp\\ipykernel_1220\\1094345874.py\u001b[0m in \u001b[0;36m<module>\u001b[1;34m\u001b[0m\n\u001b[0;32m      9\u001b[0m \u001b[0mprint\u001b[0m\u001b[1;33m(\u001b[0m\u001b[0mdict_a\u001b[0m\u001b[1;33m)\u001b[0m\u001b[1;33m\u001b[0m\u001b[1;33m\u001b[0m\u001b[0m\n\u001b[0;32m     10\u001b[0m \u001b[1;33m\u001b[0m\u001b[0m\n\u001b[1;32m---> 11\u001b[1;33m \u001b[0mprint\u001b[0m\u001b[1;33m(\u001b[0m\u001b[0mdict_a\u001b[0m\u001b[1;33m[\u001b[0m\u001b[1;34m'email'\u001b[0m\u001b[1;33m]\u001b[0m\u001b[1;33m)\u001b[0m\u001b[1;33m\u001b[0m\u001b[1;33m\u001b[0m\u001b[0m\n\u001b[0m",
      "\u001b[1;31mKeyError\u001b[0m: 'email'"
     ]
    }
   ],
   "source": [
    "# dict에 값 추가 -> dict[키] = 값\n",
    "dict_a['email'] ='abcd'\n",
    "print(dict_a)\n",
    "dict_a['email'] = 'test' # 수정\n",
    "print(dict_a)\n",
    "\n",
    "# 딕셔너리의 값 제거 : del dict[키]\n",
    "del dict_a['email']\n",
    "print(dict_a)\n",
    "\n",
    "# print(dict_a['email']) : key error"
   ]
  },
  {
   "cell_type": "code",
   "execution_count": 114,
   "id": "522e02af",
   "metadata": {},
   "outputs": [
    {
     "name": "stdout",
     "output_type": "stream",
     "text": [
      "False\n",
      "student\n",
      "__None__\n",
      "student\n"
     ]
    }
   ],
   "source": [
    "# 값 in 리스트, 키 in 딕셔너리\n",
    "print('email' in dict_a) # Faise\n",
    "\n",
    "# get() -> 딕셔너리.get(키) : 값을 반환\n",
    "print(dict_a.get('type'))\n",
    "print(f\"__{dict_a.get('email')}__\")\n",
    "\n",
    "# value = dict_a.get('키')\n",
    "value = dict_a.get('type')\n",
    "if value:\n",
    "    print(value)\n",
    "else:\n",
    "    print('존재하지 않는 키임')"
   ]
  },
  {
   "cell_type": "code",
   "execution_count": 116,
   "id": "7bde1780",
   "metadata": {},
   "outputs": [
    {
     "name": "stdout",
     "output_type": "stream",
     "text": [
      "{1: 2, 4: 2, 5: 3, 6: 2, 9: 2, 3: 1, 2: 2, 8: 2, 0: 1}\n"
     ]
    }
   ],
   "source": [
    "# 228p 연습문제 3\n",
    "numbers = [1,4,5,5,6,4,9,3,2,5,9,6,2,1,8,8,0]\n",
    "counter = {}\n",
    "for number in numbers:\n",
    "    #  counter 딕셔너리에 number의 값이 키로 존재하는지 확인\n",
    "    #  존재하면 기존의 값에 1증가 시킴\n",
    "    #  존재하지 않으면 키(number) = 1을 추가함\n",
    "    if number in counter:\n",
    "        counter[number] += 1\n",
    "    else:\n",
    "        counter[number] = 1\n",
    "print(counter)"
   ]
  },
  {
   "cell_type": "code",
   "execution_count": 133,
   "id": "5133c99f",
   "metadata": {},
   "outputs": [
    {
     "name": "stdout",
     "output_type": "stream",
     "text": [
      "1\n",
      "이름 성적a 10\n",
      "{'a': '10'}\n"
     ]
    }
   ],
   "source": [
    "#### 문)\n",
    "# 1. 학생 수 입력\n",
    "# 2. 입력한 학생 수 만큼 이름과 성적을 입력받아 이름을 키로 성적을 값을 딕셔너리에 저장\n",
    "# 3. 검색할 이름을 입력 받아 입력된 성적 출력 없으면 '자료 없음' 출력\n",
    "\n",
    "students = int(input())\n",
    "s_dict = {}\n",
    "# name = {}\n",
    "# score = {}\n",
    "for _ in range(students):\n",
    "    name, score = input(\"이름 성적\").split()\n",
    "    s_dict[name] = score\n",
    "print(s_dict)"
   ]
  },
  {
   "cell_type": "code",
   "execution_count": 128,
   "id": "c5885294",
   "metadata": {},
   "outputs": [
    {
     "name": "stdout",
     "output_type": "stream",
     "text": [
      " 학생 이름 입력 : w\n",
      "자료 없음\n"
     ]
    }
   ],
   "source": [
    "s_name = input(' 학생 이름 입력 : ')\n",
    "if s_name in s_dict:\n",
    "    print(s_dict[s_name])\n",
    "else:\n",
    "    print('자료 없음')\n",
    "# for score in range(students):\n",
    "#     score = input()\n",
    "# print()\n",
    "# dict_q = {}\n",
    "# for name in score:\n",
    "#     dict_q = score[name]\n",
    "# print(dict_q)"
   ]
  },
  {
   "cell_type": "code",
   "execution_count": 130,
   "id": "3dabca80",
   "metadata": {},
   "outputs": [
    {
     "data": {
      "text/plain": [
       "{'test': 10}"
      ]
     },
     "execution_count": 130,
     "metadata": {},
     "output_type": "execute_result"
    }
   ],
   "source": [
    "a_dict = {}\n",
    "a = 'test'\n",
    "a_dict[a] = 10\n",
    "a_dict"
   ]
  },
  {
   "cell_type": "code",
   "execution_count": 97,
   "id": "beb634a9",
   "metadata": {},
   "outputs": [
    {
     "name": "stdout",
     "output_type": "stream",
     "text": [
      "name : 기사\n",
      "level : 12\n",
      "sword : 불꽃의 검\n",
      "armor : 풀플레이트\n",
      "skill : 베기\n",
      "skill : 세게 베기\n",
      "skill : 아주 세게 베기\n",
      "\n"
     ]
    }
   ],
   "source": [
    "character = {\"name\" : \"기사\", \"level\" : \"12\", \"item\" : {\"sword\" : \"불꽃의 검\", \"armor\" : \"풀플레이트\"}, \"skill\" : [\"베기\", \"세게 베기\", \"아주 세게 베기\"]}\n",
    "for key in character:\n",
    "    if type(character[key]) is dict:\n",
    "        for small_key in character[key]:\n",
    "            print(small_key, \":\", character[key][small_key])\n",
    "    elif type(character[key]) is list:\n",
    "        for item in character[key]:\n",
    "            print(key, \":\", item)\n",
    "    else:\n",
    "        print(key, \":\", character[key])\n",
    "print()"
   ]
  },
  {
   "cell_type": "code",
   "execution_count": null,
   "id": "9a52192a",
   "metadata": {},
   "outputs": [],
   "source": [
    "character = {\"name\" : \"기사\", \"level\" : \"12\", \"item\" : {\"sword\" : \"불꽃의 검\", \"armor\" : \"풀플레이트\"}, \"skill\" : [\"베기\", \"세게 베기\", \"아주 세게 베기\"]}\n",
    "for key,value in character.items():\n",
    "    # value \n",
    "    if type(character[key]) is dict:\n",
    "        for small_key in character[key]:\n",
    "            print(small_key, \":\", character[key][small_key])\n",
    "    elif type(character[key]) is list:\n",
    "        for item in character[key]:\n",
    "            print(key, \":\", item)\n",
    "    else:\n",
    "        print(key, \":\", character[key])\n",
    "print()"
   ]
  }
 ],
 "metadata": {
  "kernelspec": {
   "display_name": "Python 3 (ipykernel)",
   "language": "python",
   "name": "python3"
  },
  "language_info": {
   "codemirror_mode": {
    "name": "ipython",
    "version": 3
   },
   "file_extension": ".py",
   "mimetype": "text/x-python",
   "name": "python",
   "nbconvert_exporter": "python",
   "pygments_lexer": "ipython3",
   "version": "3.9.13"
  }
 },
 "nbformat": 4,
 "nbformat_minor": 5
}
