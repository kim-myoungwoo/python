{
 "cells": [
  {
   "cell_type": "code",
   "execution_count": null,
   "id": "a0b37310",
   "metadata": {},
   "outputs": [],
   "source": [
    "# 메뉴 \n",
    "# 1. 학생 정보 등록 ( 이름, 성적)\n",
    "# 2. 전체 학생 자료 출력\n",
    "# 3. 학생의 정보 검색\n",
    "# 4. 학생의 총점, 평균 출력"
   ]
  },
  {
   "cell_type": "code",
   "execution_count": null,
   "id": "231d0cd0",
   "metadata": {},
   "outputs": [],
   "source": [
    "# ############################\n",
    "#      학사 관리\n",
    "# #############################\n",
    "#  1. 학생 정보 등록\n",
    "#  2. 전체 자료 조회\n",
    "#  3. 특정 학생 정보 검색\n",
    "#  4. 총점, 평균 출력\n",
    "#  5. 종료\n",
    "# ############################"
   ]
  },
  {
   "cell_type": "code",
   "execution_count": 10,
   "id": "19f236be",
   "metadata": {},
   "outputs": [],
   "source": [
    "def print_menu():\n",
    "    prt = '''\\\n",
    "############################\n",
    "     학사 관리\n",
    "#############################\n",
    " 1. 학생 정보 등록\n",
    " 2. 전체 자료 조회\n",
    " 3. 특정 학생 정보 검색\n",
    " 4. 총점, 평균 출력\n",
    " 5. 종료\n",
    "############################'''\n",
    "    print(prt)\n",
    "\n",
    "def insert():\n",
    "    students = {}\n",
    "    while True:\n",
    "        student = input(\"이름과 성적 입력 ( 예: 홍기동 90 형식, 종료는 q 입력 ) > \")\n",
    "        if student == 'q':\n",
    "            break\n",
    "        student = student.split()\n",
    "        if len(student) != 2 or not student[1].isdigit():\n",
    "            print(\"다시 입력 \")\n",
    "            continue\n",
    "        students[student[0]] = int(student[1])\n",
    "    return students\n",
    "    \n",
    "def list_student(students):\n",
    "    for name, score in students.items():\n",
    "        print(f'{name} : {score}')\n",
    "        \n",
    "def search(students):\n",
    "    s_name = input(\"검색할 학생명 입력 > \")\n",
    "    if s_name in students:\n",
    "        print(f'{s_name}의 성적은 {students[s_name]}')\n",
    "    else:\n",
    "        print(f\"{s_name}의 자료는 없음\")\n",
    "        \n",
    "def print_total(students):\n",
    "    tot = 0\n",
    "    for key in students:\n",
    "        tot += students[key]\n",
    "\n",
    "    print('총 인원수 : {},   총점 : {}, 평균 : {}'.format(\\\n",
    "                    len(students), tot, tot/len(students)))"
   ]
  },
  {
   "cell_type": "code",
   "execution_count": null,
   "id": "412ae9b8",
   "metadata": {},
   "outputs": [],
   "source": [
    "import os\n",
    "import time\n",
    "\n",
    "while True:\n",
    "    os.system('cls')\n",
    "    print_menu()\n",
    "    menu = input(\" 메뉴 입력 > \")\n",
    "    if menu == '5':\n",
    "        break\n",
    "    if menu == '1':\n",
    "        insert()\n",
    "    elif menu == '2':\n",
    "        list_student(students)\n",
    "    elif menu == '3':\n",
    "        search(students)\n",
    "    elif menu == '4':\n",
    "        print_total(students)\n",
    "    time.sleep(1)\n",
    "    \n",
    "print('\\n프로그램 종료')        "
   ]
  },
  {
   "cell_type": "code",
   "execution_count": null,
   "id": "6459d95b",
   "metadata": {},
   "outputs": [],
   "source": [
    "# ############################\n",
    "#      학사 관리\n",
    "# #############################\n",
    "#  1. 학생 정보 등록\n",
    "#  2. 전체 자료 조회\n",
    "#  3. 특정 학생의 점수, 총점, 평균 출력\n",
    "#  4. 종료\n",
    "# ############################"
   ]
  },
  {
   "cell_type": "code",
   "execution_count": 2,
   "id": "bcfa0eda",
   "metadata": {},
   "outputs": [],
   "source": [
    "class Student:\n",
    "    def __init__(self, name, kor, eng):\n",
    "        self.name = name\n",
    "        self.kor = kor\n",
    "        self.eng = eng\n",
    "        \n",
    "    def get_sum(self):\n",
    "        return self.kor + self.eng\n",
    "    def get_avg(self):\n",
    "        return self.get_sum() / 2\n",
    "    def to_string(self):\n",
    "        return '{}/t{}\\t{}\\{}\\{}\\t{:3.2f}'.format(self.name, self.kor, self.eng, self.get_sum(), self.get_avg())"
   ]
  },
  {
   "cell_type": "code",
   "execution_count": 1,
   "id": "fb2e0706",
   "metadata": {},
   "outputs": [
    {
     "name": "stdout",
     "output_type": "stream",
     "text": [
      "학생의 이름을 입력하세요 >ㅇ\n",
      "학생의 이름을 입력하세요 >fa\n",
      "학생의 이름을 입력하세요 >ee\n",
      "학생의 이름을 입력하세요 >eq\n",
      "학생의 이름을 입력하세요 >q\n",
      "국어 성적을 입력하세요 >90\n",
      "영어 성적을 입력하세요 >80\n"
     ]
    },
    {
     "ename": "NameError",
     "evalue": "name 'students' is not defined",
     "output_type": "error",
     "traceback": [
      "\u001b[1;31m---------------------------------------------------------------------------\u001b[0m",
      "\u001b[1;31mNameError\u001b[0m                                 Traceback (most recent call last)",
      "\u001b[1;32m~\\AppData\\Local\\Temp\\ipykernel_15500\\1670822412.py\u001b[0m in \u001b[0;36m<module>\u001b[1;34m\u001b[0m\n\u001b[0;32m     22\u001b[0m     \u001b[0mstudents\u001b[0m \u001b[1;33m=\u001b[0m \u001b[1;33m{\u001b[0m\u001b[1;34m\"name\"\u001b[0m\u001b[1;33m:\u001b[0m\u001b[0mstudent\u001b[0m\u001b[1;33m,\u001b[0m \u001b[1;34m\"kor\"\u001b[0m\u001b[1;33m:\u001b[0m\u001b[0mkor_score\u001b[0m\u001b[1;33m,\u001b[0m \u001b[1;34m\"eng\"\u001b[0m\u001b[1;33m:\u001b[0m\u001b[0meng_score\u001b[0m\u001b[1;33m}\u001b[0m\u001b[1;33m\u001b[0m\u001b[1;33m\u001b[0m\u001b[0m\n\u001b[0;32m     23\u001b[0m \u001b[0minsert\u001b[0m\u001b[1;33m(\u001b[0m\u001b[1;33m)\u001b[0m\u001b[1;33m\u001b[0m\u001b[1;33m\u001b[0m\u001b[0m\n\u001b[1;32m---> 24\u001b[1;33m \u001b[0mprint\u001b[0m\u001b[1;33m(\u001b[0m\u001b[0mstudents\u001b[0m\u001b[1;33m)\u001b[0m\u001b[1;33m\u001b[0m\u001b[1;33m\u001b[0m\u001b[0m\n\u001b[0m",
      "\u001b[1;31mNameError\u001b[0m: name 'students' is not defined"
     ]
    }
   ],
   "source": [
    "def print_menu():\n",
    "    prt = '''\\\n",
    "############################\n",
    "     학사 관리\n",
    "#############################\n",
    "1. 학생 정보 등록\n",
    "2. 전체 자료 조회\n",
    "3. 특정 학생의 점수, 총점, 평균 출력\n",
    "4. 종료\n",
    "############################'''\n",
    "    print(prt)\n",
    "\n",
    "def insert():\n",
    "    students={}\n",
    "    while True:\n",
    "        student = input('학생의 이름을 입력하세요 >')\n",
    "        if student == 'q':\n",
    "            kor_score = input('국어 성적을 입력하세요 >')\n",
    "            eng_score = input('영어 성적을 입력하세요 >')\n",
    "            break\n",
    "    return\n",
    "    students = {\"name\":student, \"kor\":kor_score, \"eng\":eng_score}\n",
    "insert()\n",
    "print(students)"
   ]
  }
 ],
 "metadata": {
  "kernelspec": {
   "display_name": "Python 3 (ipykernel)",
   "language": "python",
   "name": "python3"
  },
  "language_info": {
   "codemirror_mode": {
    "name": "ipython",
    "version": 3
   },
   "file_extension": ".py",
   "mimetype": "text/x-python",
   "name": "python",
   "nbconvert_exporter": "python",
   "pygments_lexer": "ipython3",
   "version": "3.9.13"
  }
 },
 "nbformat": 4,
 "nbformat_minor": 5
}
