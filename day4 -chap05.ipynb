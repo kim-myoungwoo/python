{
 "cells": [
  {
   "cell_type": "markdown",
   "id": "d9c7fc0d",
   "metadata": {},
   "source": [
    "## chap05 -2 함수의 활용"
   ]
  },
  {
   "cell_type": "code",
   "execution_count": 4,
   "id": "82062e66",
   "metadata": {},
   "outputs": [],
   "source": [
    "# 반복문으로 팩토리얼 구하기\n",
    "def fact(n):\n",
    "    output =1     # 초기값 변수 설정\n",
    "    for i in range(1, n+1):  # 반복문으로 팩토리얼 구함\n",
    "        output *= i\n",
    "    return output    # 결과 돌려줌\n",
    "def fact_rep(n):\n",
    "    # if n == 1 이면 1을 return\n",
    "    if n == 1:\n",
    "        return 1\n",
    "    else:\n",
    "        return n * fact_rep(n-1)"
   ]
  },
  {
   "cell_type": "code",
   "execution_count": 5,
   "id": "dd395c2d",
   "metadata": {},
   "outputs": [
    {
     "name": "stdout",
     "output_type": "stream",
     "text": [
      "3! : 6\n",
      "4! : 24\n",
      "3! : 6\n",
      "4! : 24\n"
     ]
    }
   ],
   "source": [
    "print(\"3! :\", fact(3))\n",
    "print(\"4! :\", fact(4))\n",
    "\n",
    "print(\"3! :\", fact_rep(3))\n",
    "print(\"4! :\", fact_rep(4))"
   ]
  },
  {
   "cell_type": "code",
   "execution_count": 11,
   "id": "4ff035d6",
   "metadata": {},
   "outputs": [],
   "source": [
    "# 피보나치 수열 생성\n",
    "def fibo(n):\n",
    "    global count\n",
    "    count += 1\n",
    "    if n == 1 or n==2:   # n==1 이면 1, n == 2 이면 1을 return\n",
    "        return 1\n",
    "    return fibo(n-1) + fibo(n-2)  # f(n-1) + f(n-2)"
   ]
  },
  {
   "cell_type": "code",
   "execution_count": 17,
   "id": "ebab55ea",
   "metadata": {},
   "outputs": [
    {
     "name": "stdout",
     "output_type": "stream",
     "text": [
      "55\n",
      "함수의 실행 횟수 :  109\n"
     ]
    }
   ],
   "source": [
    "count = 0   # fibo 함수의 실행 횟수 확인\n",
    "print(fibo(10))\n",
    "print(\"함수의 실행 횟수 : \", count)"
   ]
  },
  {
   "cell_type": "code",
   "execution_count": 22,
   "id": "201e126f",
   "metadata": {},
   "outputs": [],
   "source": [
    "# 피보나치 수열 생성 : 메모화\n",
    "dict_fibo = {1:1, 2:1}\n",
    "count = 0\n",
    "def fibo_mem(n):\n",
    "    global count\n",
    "    count += 1\n",
    "    if n in dict_fibo:  # 메모화된 값을 return\n",
    "        return dict_fibo[n]\n",
    "\n",
    "    output = fibo_mem(n-1) + fibo_mem(n-2)\n",
    "    dict_fibo[n] =output\n",
    "    return output"
   ]
  },
  {
   "cell_type": "code",
   "execution_count": 23,
   "id": "5f35d1eb",
   "metadata": {},
   "outputs": [
    {
     "name": "stdout",
     "output_type": "stream",
     "text": [
      "354224848179261915075\n",
      "함수의 실행 횟수:  197\n"
     ]
    }
   ],
   "source": [
    "dict_fibo = {1:1, 2:1}\n",
    "count = 0\n",
    "print(fibo_mem(100))\n",
    "print(\"함수의 실행 횟수: \", count)"
   ]
  },
  {
   "cell_type": "code",
   "execution_count": 26,
   "id": "523021cb",
   "metadata": {},
   "outputs": [],
   "source": [
    "# 4. 2차원 리스트의 평탄화 함수로 구현\n",
    "def flatten(data):\n",
    "    output = []\n",
    "    for num in data:\n",
    "        if type(num) == list:\n",
    "            output += flatten(num)\n",
    "        else:\n",
    "            output.append(num)\n",
    "    return output"
   ]
  },
  {
   "cell_type": "code",
   "execution_count": 27,
   "id": "a494bccf",
   "metadata": {},
   "outputs": [
    {
     "name": "stdout",
     "output_type": "stream",
     "text": [
      "[1, 2, 3, 4, 5, 6, 7, 8, 9]\n"
     ]
    }
   ],
   "source": [
    "list_a = [1,2,[3,4],5,6,[7,8],9] # [1,2,3,4,5,6,7,8,9]\n",
    "print(flatten(list_a))"
   ]
  },
  {
   "cell_type": "markdown",
   "id": "4e538e33",
   "metadata": {},
   "source": [
    "## chap05 - 3 고급 함수"
   ]
  },
  {
   "cell_type": "code",
   "execution_count": 30,
   "id": "4ed0833f",
   "metadata": {},
   "outputs": [
    {
     "name": "stdout",
     "output_type": "stream",
     "text": [
      "1\n",
      "10 20\n",
      "20 10\n"
     ]
    }
   ],
   "source": [
    "# tuple -> (값,...) -> 각 요소의 값은 수정 불가\n",
    "tuple_a = (1,2,3)\n",
    "print(tuple_a[0])   # 1\n",
    "# tuple_a[0] = 10  #error\n",
    "a, b = 10, 20\n",
    "print(a,b) # 10, 20\n",
    "a, b = b, a\n",
    "print(a,b) # 20 10"
   ]
  },
  {
   "cell_type": "code",
   "execution_count": 31,
   "id": "e5b7cfe9",
   "metadata": {},
   "outputs": [
    {
     "name": "stdout",
     "output_type": "stream",
     "text": [
      "Hello! \n",
      "Hello! \n",
      "Hello! \n",
      "Hello! \n",
      "Hello! \n",
      "Hello! \n",
      "Hello! \n",
      "Hello! \n",
      "Hello! \n",
      "Hello! \n"
     ]
    }
   ],
   "source": [
    "# lambda 함수\n",
    "# 매개변수로 받은 함수를 10회 호출하는 함수\n",
    "def call_10_times(func):\n",
    "    for i in range(10):\n",
    "        func()\n",
    "# 호출 될 함수 정의\n",
    "def print_hello():\n",
    "    print(\"Hello! \")\n",
    "    \n",
    "# 함수 호출\n",
    "call_10_times(print_hello)"
   ]
  },
  {
   "cell_type": "code",
   "execution_count": 32,
   "id": "8cc6d3dd",
   "metadata": {},
   "outputs": [],
   "source": [
    "def power(item):\n",
    "    return item * item\n",
    "def under_3(item):\n",
    "    return item < 3"
   ]
  },
  {
   "cell_type": "code",
   "execution_count": 37,
   "id": "08f5ab64",
   "metadata": {},
   "outputs": [],
   "source": [
    "power_1 = lambda x: x*x   # lambda 매개변수 : 리턴 값\n",
    "under_1 = lambda x: x < 3"
   ]
  },
  {
   "cell_type": "code",
   "execution_count": 35,
   "id": "4e94af6a",
   "metadata": {},
   "outputs": [
    {
     "name": "stdout",
     "output_type": "stream",
     "text": [
      "[1, 4, 9, 16, 25, 36]\n",
      "[1, 2]\n"
     ]
    }
   ],
   "source": [
    "list_a = [1,2,3,4,5,6]\n",
    "output =map(power, list_a)\n",
    "print(list(output))\n",
    "output_1 =filter(under_3, list_a)\n",
    "print(list(output_1))"
   ]
  },
  {
   "cell_type": "code",
   "execution_count": 38,
   "id": "cdd77c04",
   "metadata": {},
   "outputs": [
    {
     "name": "stdout",
     "output_type": "stream",
     "text": [
      "[1, 4, 9, 16, 25, 36]\n",
      "[1, 2]\n"
     ]
    }
   ],
   "source": [
    "output =map(lambda x: x*x, list_a)\n",
    "print(list(output))\n",
    "output_1 =filter(lambda x: x <3, list_a)\n",
    "print(list(output_1))"
   ]
  },
  {
   "cell_type": "code",
   "execution_count": 53,
   "id": "df6fcd2c",
   "metadata": {},
   "outputs": [],
   "source": [
    "# 파일 열고 닫기\n",
    "# 객체변수 = open(파일명, 모드)\n",
    "file = open('./basic.txt', 'w')  # 파일을 'w' 쓰기 모드로 open\n",
    "file.write('Hello python programming!') # 파일에 write\n",
    "file.close()                          # 파일 닫기"
   ]
  },
  {
   "cell_type": "code",
   "execution_count": 47,
   "id": "6a37a0b3",
   "metadata": {},
   "outputs": [
    {
     "name": "stdout",
     "output_type": "stream",
     "text": [
      "\n"
     ]
    }
   ],
   "source": [
    "# file.write('Hello python programming!')   # close 된 파일\n",
    "# 파일을 읽기 모드로 open, 파일의 내용을 읽어옴\n",
    "file = open('basic.txt', 'r')\n",
    "text = file.read()\n",
    "print(text)\n",
    "file.close()"
   ]
  },
  {
   "cell_type": "code",
   "execution_count": 52,
   "id": "a562d6ee",
   "metadata": {
    "scrolled": true
   },
   "outputs": [
    {
     "name": "stdout",
     "output_type": "stream",
     "text": [
      "\n"
     ]
    }
   ],
   "source": [
    "# 파일의 작업이 끝나면 자동으로 close 됨\n",
    "with open('basic.txt', 'r') as file:\n",
    "    content = file.read()\n",
    "    print(content)\n",
    "# file.read() # error, close된 파일"
   ]
  },
  {
   "cell_type": "code",
   "execution_count": 60,
   "id": "8ffb572e",
   "metadata": {},
   "outputs": [
    {
     "data": {
      "text/plain": [
       "<function TextIOWrapper.close()>"
      ]
     },
     "execution_count": 60,
     "metadata": {},
     "output_type": "execute_result"
    }
   ],
   "source": [
    "file = open('./basic.txt', 'w')  # 파일을 'w' 쓰기 모드로 open\n",
    "for _ in range(3):\n",
    "    file.write('Hello python programming!\\n') # 파일에 write\n",
    "file.close"
   ]
  },
  {
   "cell_type": "code",
   "execution_count": 51,
   "id": "48e92d75",
   "metadata": {},
   "outputs": [],
   "source": [
    "file = open('./basic.txt', 'r')\n",
    "for lise in file:\n",
    "    print(line)\n",
    "file.close()"
   ]
  },
  {
   "cell_type": "code",
   "execution_count": 57,
   "id": "e152efc7",
   "metadata": {},
   "outputs": [],
   "source": [
    "#  랜덤함수 사용\n",
    "import random\n",
    "\n",
    "# 이름을 한글 두글자로 생성, 한글 리스트 생성\n",
    "hanguls = list('가나다라마바사아자차카타파하')\n",
    "\n",
    "# 파일을 쓰기 모드로 open\n",
    "with open('info.txt','w') as file:\n",
    "    for _ in range(100):\n",
    "        # 이름, 몸무게, 키를 랜덤함수로 추출\n",
    "        name = random.choice(hanguls) + random.choice(hanguls)\n",
    "        weight =random.randrange(40,100)\n",
    "        height = random.randrange(140,200)\n",
    "        \n",
    "        # 파일에 자료 저장 : 문자열로 저장함\n",
    "        file.write(f'{name}, {weight},{height}\\n')"
   ]
  },
  {
   "cell_type": "code",
   "execution_count": 61,
   "id": "64707dc3",
   "metadata": {},
   "outputs": [
    {
     "name": "stdout",
     "output_type": "stream",
     "text": [
      "사자  86 186\n",
      "사아  72 172\n",
      "사사  79 148\n",
      "카사  84 194\n",
      "파라  90 191\n",
      "자사  52 178\n",
      "마나  58 159\n",
      "라가  43 177\n",
      "가아  64 148\n",
      "하차  90 167\n",
      "하차  90 167\n",
      "타파  85 146\n",
      "가차  69 187\n",
      "파가  77 177\n",
      "파다  93 165\n",
      "자마  78 193\n",
      "라나  57 180\n",
      "바파  72 160\n",
      "자가  76 151\n",
      "다카  91 154\n",
      "나파  76 158\n",
      "나파  76 158\n",
      "나카  77 157\n",
      "타자  83 169\n",
      "아다  87 142\n",
      "가자  49 152\n",
      "라타  60 165\n",
      "하차  46 149\n",
      "바다  81 144\n",
      "차아  51 167\n",
      "사나  79 166\n",
      "바바  50 172\n",
      "바바  50 172\n",
      "타하  50 175\n",
      "자다  70 182\n",
      "라자  89 154\n",
      "하사  51 163\n",
      "카라  40 183\n",
      "차가  47 151\n",
      "자바  98 147\n",
      "사파  57 142\n",
      "나바  46 151\n",
      "다사  89 154\n",
      "다사  89 154\n",
      "사하  46 149\n",
      "다하  79 198\n",
      "사타  98 193\n",
      "카차  55 157\n",
      "마아  70 180\n",
      "타파  66 178\n",
      "아아  81 173\n",
      "나차  93 163\n",
      "카하  99 158\n",
      "마바  55 150\n",
      "마바  55 150\n",
      "라하  72 143\n",
      "나마  81 176\n",
      "타사  50 186\n",
      "파바  60 198\n",
      "아사  89 141\n",
      "하자  84 188\n",
      "사바  90 140\n",
      "라자  80 140\n",
      "바사  46 198\n",
      "자사  83 194\n",
      "자사  83 194\n",
      "나마  64 150\n",
      "아나  93 172\n",
      "자파  40 193\n",
      "다타  67 186\n",
      "자아  72 161\n",
      "다다  56 171\n",
      "나카  68 163\n",
      "나파  56 188\n",
      "라사  44 146\n",
      "파카  73 172\n",
      "파카  73 172\n",
      "차마  95 166\n",
      "아자  66 159\n",
      "라가  64 153\n",
      "사차  74 189\n",
      "사마  93 157\n",
      "다라  92 174\n",
      "자하  72 194\n",
      "다타  59 171\n",
      "나카  47 197\n",
      "타차  50 173\n",
      "타차  50 173\n",
      "가카  99 150\n",
      "가파  72 173\n",
      "사타  45 152\n",
      "자자  63 147\n",
      "파다  46 186\n",
      "타바  72 187\n",
      "바카  90 176\n",
      "라파  62 196\n",
      "파바  97 171\n",
      "사라  91 177\n",
      "사라  91 177\n",
      "다라  41 168\n",
      "카라  81 143\n",
      "타카  74 190\n",
      "다바  61 174\n",
      "파다  79 141\n",
      "나바  69 162\n",
      "아마  53 153\n",
      "파라  65 166\n",
      "라카  87 195\n",
      "카나  64 198\n",
      "카나  64 198\n"
     ]
    }
   ],
   "source": [
    "# 저장된 파일을 읽어서 내용을 출력\n",
    "with open('info.txt','r') as file:\n",
    "    cnt = 0\n",
    "    for line in file:\n",
    "        cnt += 1\n",
    "        name, weight, height = line.strip().split(',')\n",
    "        print(name, weight, height)\n",
    "        if not name or not weight or not height:\n",
    "            continue\n",
    "        if not cnt % 10:  # if cnt % 10 == 0 과 같은 의미\n",
    "            print(name, weight, height)"
   ]
  },
  {
   "cell_type": "code",
   "execution_count": 64,
   "id": "5692ba2e",
   "metadata": {},
   "outputs": [
    {
     "name": "stdout",
     "output_type": "stream",
     "text": [
      "라자  68 175\n",
      "나아  46 177\n",
      "아하  73 178\n",
      "파사  71 148\n",
      "사파  88 168\n",
      "아가  44 153\n",
      "가카  81 170\n",
      "나카  88 176\n",
      "다차  83 171\n",
      "타사  60 168\n"
     ]
    }
   ],
   "source": [
    "file = open('info.txt', 'w+') # w+ => read, write 가능\n",
    "for _ in range(100):\n",
    "    for _ in range(100):\n",
    "    # 이름, 몸무게, 키를 랜덤함수로 추출\n",
    "        name = random.choice(hanguls) + random.choice(hanguls)\n",
    "        weight =random.randrange(40,100)\n",
    "        height = random.randrange(140,200)\n",
    "        \n",
    "    # 파일에 자료 저장 : 문자열로 저장함\n",
    "    file.write(f'{name}, {weight},{height}\\n')\n",
    "# file printer의 위치를 처음으로 이동 시킨 후 자료 읽어 옴\n",
    "file.seek(0)\n",
    "for line in file:\n",
    "    cnt += 1\n",
    "    name, weight, height = line.strip().split(',')\n",
    "    if not name or not weight or not height:\n",
    "        continue\n",
    "    if not cnt % 10:  # if cnt % 10 == 0 과 같은 의미\n",
    "        print(name, weight, height)\n",
    "file.close()"
   ]
  },
  {
   "cell_type": "code",
   "execution_count": 72,
   "id": "79fe0d39",
   "metadata": {},
   "outputs": [
    {
     "name": "stdout",
     "output_type": "stream",
     "text": [
      "A 지점 통과\n",
      "1 함수 호출 됨\n",
      "B 지점 통과: 1\n",
      "2 함수 호출 됨\n",
      "C 지점 통과: 2\n",
      "3 함수 호출 됨\n"
     ]
    }
   ],
   "source": [
    "# 제너레이터 함수 : 함수 내에 yield 를 정의 함으로써 제너레이터 함수가 됨\n",
    "def test():\n",
    "    print(\"1 함수 호출 됨\")\n",
    "    yield 1\n",
    "    print(\"2 함수 호출 됨\")\n",
    "    yield 2\n",
    "    print(\"3 함수 호출 됨\")\n",
    "    yield\n",
    "#     return\n",
    "\n",
    "func_1 =test()\n",
    "print(\"A 지점 통과\")\n",
    "a = next(func_1) # 함수 호출 됨\n",
    "print(\"B 지점 통과:\", a)\n",
    "a= next(func_1) # 함수 호출 됨\n",
    "print(\"C 지점 통과:\", a)\n",
    "next(func_1)"
   ]
  },
  {
   "cell_type": "code",
   "execution_count": 73,
   "id": "fa7c00d2",
   "metadata": {},
   "outputs": [],
   "source": [
    "# 리스트 함수의 키워드 매개변수\n",
    "books = [{\n",
    "    \"제목\": \"혼자 공부하는 파이썬\",\n",
    "    \"가격\": 18000\n",
    "}, {\n",
    "    \"제목\": \"혼자 공부하는 머신러닝 + 딥러닝\",\n",
    "    \"가격\": 26000\n",
    "}, {\n",
    "    \"제목\": \"혼자 공부하는 자바스크립트\",\n",
    "    \"가격\": 24000\n",
    "}]"
   ]
  },
  {
   "cell_type": "code",
   "execution_count": 77,
   "id": "93f16530",
   "metadata": {},
   "outputs": [
    {
     "name": "stdout",
     "output_type": "stream",
     "text": [
      "가장 저렴한 책\n",
      "{'제목': '혼자 공부하는 파이썬', '가격': 18000}\n",
      "가장 비싼 책\n",
      "{'제목': '혼자 공부하는 머신러닝 + 딥러닝', '가격': 26000}\n"
     ]
    }
   ],
   "source": [
    "def price(book):\n",
    "    return book['가격']\n",
    "\n",
    "print(\"가장 저렴한 책\")\n",
    "print(min(books, key=price))\n",
    "print(\"가장 비싼 책\")\n",
    "print(max(books, key=price))"
   ]
  },
  {
   "cell_type": "code",
   "execution_count": 80,
   "id": "e944ad31",
   "metadata": {},
   "outputs": [
    {
     "name": "stdout",
     "output_type": "stream",
     "text": [
      "[{'제목': '혼자 공부하는 파이썬', '가격': 18000}, {'제목': '혼자 공부하는 자바스크립트', '가격': 24000}, {'제목': '혼자 공부하는 머신러닝 + 딥러닝', '가격': 26000}]\n",
      "가장 저렴한 책\n",
      "{'제목': '혼자 공부하는 파이썬', '가격': 18000}\n",
      "가장 비싼 책\n",
      "{'제목': '혼자 공부하는 머신러닝 + 딥러닝', '가격': 26000}\n",
      "가격으로 정렬\n"
     ]
    },
    {
     "data": {
      "text/plain": [
       "[{'제목': '혼자 공부하는 머신러닝 + 딥러닝', '가격': 26000},\n",
       " {'제목': '혼자 공부하는 자바스크립트', '가격': 24000},\n",
       " {'제목': '혼자 공부하는 파이썬', '가격': 18000}]"
      ]
     },
     "execution_count": 80,
     "metadata": {},
     "output_type": "execute_result"
    }
   ],
   "source": [
    "print(books)\n",
    "\n",
    "print(\"가장 저렴한 책\")\n",
    "print(min(books, key=lambda book: book['가격']))\n",
    "print(\"가장 비싼 책\")\n",
    "print(max(books, key=lambda book: book['가격']))\n",
    "\n",
    "print(\"가격으로 정렬\")\n",
    "books.sort( key = lambda book : book['가격'], reverse=True)\n",
    "books"
   ]
  },
  {
   "cell_type": "code",
   "execution_count": 2,
   "id": "af32f93f",
   "metadata": {},
   "outputs": [
    {
     "name": "stdout",
     "output_type": "stream",
     "text": [
      "func ... a : 20, c :10\n",
      "global ... a: 20, c:20\n"
     ]
    }
   ],
   "source": [
    "# stack, heap\n",
    "def func(a):\n",
    "    c =10\n",
    "    print(f\"func ... a : {a}, c :{c}\")  #a -> 20, c -> 10\n",
    "    \n",
    "a =20\n",
    "func(a)\n",
    "c = 20\n",
    "print(f'global ... a: {a}, c:{c}')     #a -> 20, c -> 20"
   ]
  },
  {
   "cell_type": "code",
   "execution_count": null,
   "id": "4688f661",
   "metadata": {},
   "outputs": [],
   "source": []
  }
 ],
 "metadata": {
  "kernelspec": {
   "display_name": "Python 3 (ipykernel)",
   "language": "python",
   "name": "python3"
  },
  "language_info": {
   "codemirror_mode": {
    "name": "ipython",
    "version": 3
   },
   "file_extension": ".py",
   "mimetype": "text/x-python",
   "name": "python",
   "nbconvert_exporter": "python",
   "pygments_lexer": "ipython3",
   "version": "3.9.13"
  }
 },
 "nbformat": 4,
 "nbformat_minor": 5
}
