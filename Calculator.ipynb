{
 "cells": [
  {
   "cell_type": "code",
   "execution_count": 13,
   "id": "65569b26",
   "metadata": {},
   "outputs": [
    {
     "name": "stdout",
     "output_type": "stream",
     "text": [
      "계산식 입력 > 10 / 5\n",
      "['10', '/', '5']\n",
      "10 / 5\n",
      "10 / 5 = 2.0\n"
     ]
    }
   ],
   "source": [
    "# 문) 계산식을 입력받아 부호에 맞는 계산식을 출력하세요\n",
    "# 10 + 20 -> 10 + 20 = 30 -> 부호는 ( +, -, *, /)\n",
    "# 1. 계산식 입력 -> 형식은 10 + 20 의 형식으로\n",
    "# 2. 입력받은 계산식을 분해\n",
    "# 3. 부호에 맞는 계산식 출력\n",
    "\n",
    "input_data = input('계산식 입력 > ').split()\n",
    "print(input_data)\n",
    "\n",
    "num1 = int(input_data[0])\n",
    "buho = input_data[1]\n",
    "num2 = int(input_data[2])\n",
    "print(num1, buho, num2)\n",
    "\n",
    "# 3. 부호에 맞는 계산식 출력\n",
    "if buho in '+-*/':\n",
    "    if buho == '+':\n",
    "        result = num1 + num2\n",
    "    elif buho == '-':\n",
    "        result = num1 - num2\n",
    "    elif buho == '*':\n",
    "        result = num1 * num2\n",
    "    else:\n",
    "        result = num1 / num2\n",
    "print(f'{num1} {buho} {num2} = {result}')"
   ]
  },
  {
   "cell_type": "code",
   "execution_count": null,
   "id": "96fbebb9",
   "metadata": {},
   "outputs": [],
   "source": []
  }
 ],
 "metadata": {
  "kernelspec": {
   "display_name": "Python 3 (ipykernel)",
   "language": "python",
   "name": "python3"
  },
  "language_info": {
   "codemirror_mode": {
    "name": "ipython",
    "version": 3
   },
   "file_extension": ".py",
   "mimetype": "text/x-python",
   "name": "python",
   "nbconvert_exporter": "python",
   "pygments_lexer": "ipython3",
   "version": "3.9.13"
  }
 },
 "nbformat": 4,
 "nbformat_minor": 5
}
